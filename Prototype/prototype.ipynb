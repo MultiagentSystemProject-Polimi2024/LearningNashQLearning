{
 "cells": [
  {
   "cell_type": "code",
   "execution_count": 7,
   "metadata": {},
   "outputs": [],
   "source": [
    "import ipywidgets as widgets\n",
    "from IPython.display import display"
   ]
  },
  {
   "cell_type": "code",
   "execution_count": 8,
   "metadata": {},
   "outputs": [],
   "source": [
    "from Classes.EditableMatrix import EditableMatrix"
   ]
  },
  {
   "cell_type": "code",
   "execution_count": 9,
   "metadata": {},
   "outputs": [
    {
     "data": {
      "application/vnd.jupyter.widget-view+json": {
       "model_id": "11433c4edd7b480e8c15ddc77867f188",
       "version_major": 2,
       "version_minor": 0
      },
      "text/plain": [
       "Button(description='Add a Player!', style=ButtonStyle())"
      ]
     },
     "metadata": {},
     "output_type": "display_data"
    },
    {
     "data": {
      "application/vnd.jupyter.widget-view+json": {
       "model_id": "c5872b73971f42308cbfe601526aa78f",
       "version_major": 2,
       "version_minor": 0
      },
      "text/plain": [
       "Button(description='Remove a Player!', style=ButtonStyle())"
      ]
     },
     "metadata": {},
     "output_type": "display_data"
    },
    {
     "data": {
      "application/vnd.jupyter.widget-view+json": {
       "model_id": "58c8174083e84dfb9354f88856835c8c",
       "version_major": 2,
       "version_minor": 0
      },
      "text/plain": [
       "Output()"
      ]
     },
     "metadata": {},
     "output_type": "display_data"
    }
   ],
   "source": [
    "#define number of players\n",
    "\n",
    "#maximum number of players:\n",
    "MAX_PLAYERS = 3\n",
    "\n",
    "#requests the number of players\n",
    "add_player = widgets.Button(description=\"Add a Player!\")\n",
    "remove_player = widgets.Button(description=\"Remove a Player!\")\n",
    "output_players = widgets.Output()\n",
    "n_players = 0\n",
    "\n",
    "display(add_player)\n",
    "display(remove_player, output_players)\n",
    "\n",
    "\n",
    "def on_add_button_clicked(b):\n",
    "    global n_players \n",
    "    if n_players >= MAX_PLAYERS:\n",
    "        output_players.clear_output(True)\n",
    "        with output_players:\n",
    "            print(\"Number of players: \", n_players, \"\\n\"+\"Maximum number of players reached!\")\n",
    "        return\n",
    "    n_players += 1\n",
    "    with output_players:\n",
    "        output_players.clear_output(True)\n",
    "        print(\"Number of players: \", n_players)\n",
    "\n",
    "def on_remove_button_clicked(b):\n",
    "    global n_players\n",
    "    if n_players <= 0:\n",
    "        output_players.clear_output(True)\n",
    "        with output_players:\n",
    "            print(\"Number of players: \", n_players, \"\\n\"+\"Minimum number of players reached!\")\n",
    "        return \n",
    "    n_players -= 1\n",
    "    with output_players:\n",
    "        output_players.clear_output(True)\n",
    "        print(\"Number of players: \", n_players)\n",
    "\n",
    "add_player.on_click(on_add_button_clicked)\n",
    "remove_player.on_click(on_remove_button_clicked)"
   ]
  },
  {
   "cell_type": "code",
   "execution_count": 10,
   "metadata": {},
   "outputs": [
    {
     "data": {
      "application/vnd.jupyter.widget-view+json": {
       "model_id": "45b8f947bcf643489d592626f5e46b73",
       "version_major": 2,
       "version_minor": 0
      },
      "text/plain": [
       "Button(description='Add a State!', style=ButtonStyle())"
      ]
     },
     "metadata": {},
     "output_type": "display_data"
    },
    {
     "data": {
      "application/vnd.jupyter.widget-view+json": {
       "model_id": "c49a124dd2444cda90f47d353940dad9",
       "version_major": 2,
       "version_minor": 0
      },
      "text/plain": [
       "Button(description='Remove a State!', style=ButtonStyle())"
      ]
     },
     "metadata": {},
     "output_type": "display_data"
    },
    {
     "data": {
      "application/vnd.jupyter.widget-view+json": {
       "model_id": "e239d55b20fd42c5a1d9958d213924f0",
       "version_major": 2,
       "version_minor": 0
      },
      "text/plain": [
       "Output()"
      ]
     },
     "metadata": {},
     "output_type": "display_data"
    }
   ],
   "source": [
    "#define number of states\n",
    "\n",
    "#maximum number of players:\n",
    "MAX_STATES = 10\n",
    "\n",
    "#requests the number of players\n",
    "add_state = widgets.Button(description=\"Add a State!\")\n",
    "remove_state = widgets.Button(description=\"Remove a State!\")\n",
    "output_states = widgets.Output()\n",
    "n_states = 2\n",
    "\n",
    "display(add_state)\n",
    "display(remove_state, output_states)\n",
    "\n",
    "\n",
    "def on_add_button_clicked(b):\n",
    "    global n_states \n",
    "    if n_states >= MAX_STATES:\n",
    "        output_states.clear_output(True)\n",
    "        with output_states:\n",
    "            \n",
    "\n",
    "            print(\"Number of states: \", n_states, \"\\n\"+\"Maximum number of states reached!\")\n",
    "        return\n",
    "    n_states += 1\n",
    "    with output_states:\n",
    "        output_states.clear_output(True)\n",
    "        print(\"Number of states: \", n_states)\n",
    "\n",
    "def on_remove_button_clicked(b):\n",
    "    global n_states\n",
    "    if n_states <= 2:\n",
    "        output_states.clear_output(True)\n",
    "        with output_states:\n",
    "            print(\"Number of states: \", n_states, \"\\n\"+\"Minimum number of states reached!\")\n",
    "        return \n",
    "    n_states -= 1\n",
    "    with output_states:\n",
    "        output_states.clear_output(True)\n",
    "        print(\"Number of states: \", n_states)\n",
    "\n",
    "add_state.on_click(on_add_button_clicked)\n",
    "remove_state.on_click(on_remove_button_clicked)"
   ]
  },
  {
   "cell_type": "code",
   "execution_count": 11,
   "metadata": {},
   "outputs": [
    {
     "data": {
      "application/vnd.jupyter.widget-view+json": {
       "model_id": "a873b46e66c64f8492dc21f81a49f604",
       "version_major": 2,
       "version_minor": 0
      },
      "text/plain": [
       "Output()"
      ]
     },
     "metadata": {},
     "output_type": "display_data"
    },
    {
     "data": {
      "application/vnd.jupyter.widget-view+json": {
       "model_id": "46588d8d5f6a432686a2aa85eece4d71",
       "version_major": 2,
       "version_minor": 0
      },
      "text/plain": [
       "Label(value='Insert number of actions for every player')"
      ]
     },
     "metadata": {},
     "output_type": "display_data"
    }
   ],
   "source": [
    "#define the actions for every player\n",
    "\n",
    "actions = []\n",
    "n_actions = []\n",
    "output_actions = widgets.Output()\n",
    "for _ in range(n_players):\n",
    "    n_actions.append(0) \n",
    "\n",
    "for _ in range(n_players):\n",
    "    actions.append(widgets.IntText(description = \"player \"+str(_+1)))\n",
    "\n",
    "display(*actions, output_actions, widgets.Label(\"Insert number of actions for every player\"))\n",
    "\n",
    "def make_update_n_actions(i):\n",
    "    def update_n_actions(x):\n",
    "        if(x['new'] < 0):\n",
    "            output_actions.clear_output(True)\n",
    "            with output_actions:\n",
    "                print(\"Number of actions must be a positive integer!\")\n",
    "            return\n",
    "        if(x['new'] > 10):\n",
    "            output_actions.clear_output(True)\n",
    "            with output_actions:\n",
    "                print(\"Number of actions must be less than 10!\")\n",
    "            return\n",
    "        n_actions[i] = x['new']\n",
    "        with output_actions:\n",
    "            output_actions.clear_output(True)\n",
    "            for _ in range(n_players):\n",
    "                print(\"Number of actions for player \", _+1, \" is: \", n_actions[_])\n",
    "    return update_n_actions\n",
    "\n",
    "for i in range(n_players):\n",
    "    actions[i].observe(make_update_n_actions(i), 'value')\n",
    "\n",
    "\n",
    "\n",
    "\n",
    "\n"
   ]
  },
  {
   "cell_type": "code",
   "execution_count": 12,
   "metadata": {},
   "outputs": [
    {
     "data": {
      "application/vnd.jupyter.widget-view+json": {
       "model_id": "a53df480459f42cbbd584eaeac709031",
       "version_major": 2,
       "version_minor": 0
      },
      "text/plain": [
       "VBox(children=(Tab(children=(GridBox(children=(Label(value=''), HBox(children=(Button(icon='minus-square', lay…"
      ]
     },
     "metadata": {},
     "output_type": "display_data"
    }
   ],
   "source": [
    "from Classes.EditableGames import *\n",
    "\n",
    "games = EditableGames(n_states)\n",
    "display(games.get_widget())"
   ]
  }
 ],
 "metadata": {
  "kernelspec": {
   "display_name": "Python 3",
   "language": "python",
   "name": "python3"
  },
  "language_info": {
   "codemirror_mode": {
    "name": "ipython",
    "version": 3
   },
   "file_extension": ".py",
   "mimetype": "text/x-python",
   "name": "python",
   "nbconvert_exporter": "python",
   "pygments_lexer": "ipython3",
   "version": "3.10.11"
  }
 },
 "nbformat": 4,
 "nbformat_minor": 2
}

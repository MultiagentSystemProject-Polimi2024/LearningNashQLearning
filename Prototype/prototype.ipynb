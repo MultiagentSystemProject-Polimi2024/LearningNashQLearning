{
 "cells": [
  {
   "cell_type": "code",
   "execution_count": 1,
   "metadata": {},
   "outputs": [],
   "source": [
    "import ipywidgets as widgets\n",
    "from IPython.display import display"
   ]
  },
  {
   "cell_type": "code",
   "execution_count": 2,
   "metadata": {},
   "outputs": [],
   "source": [
    "from Classes.EditableMatrix import EditableMatrix"
   ]
  },
  {
   "cell_type": "code",
   "execution_count": 3,
   "metadata": {},
   "outputs": [
    {
     "data": {
      "application/vnd.jupyter.widget-view+json": {
       "model_id": "a574db40d43346bc99df91c55a002d46",
       "version_major": 2,
       "version_minor": 0
      },
      "text/plain": [
       "Button(description='Add a Player!', style=ButtonStyle())"
      ]
     },
     "metadata": {},
     "output_type": "display_data"
    },
    {
     "data": {
      "application/vnd.jupyter.widget-view+json": {
       "model_id": "c21e7791911f47fcaa2b814417600457",
       "version_major": 2,
       "version_minor": 0
      },
      "text/plain": [
       "Button(description='Remove a Player!', style=ButtonStyle())"
      ]
     },
     "metadata": {},
     "output_type": "display_data"
    },
    {
     "data": {
      "application/vnd.jupyter.widget-view+json": {
       "model_id": "5f1ec965d49c45459e3617cded657776",
       "version_major": 2,
       "version_minor": 0
      },
      "text/plain": [
       "Output()"
      ]
     },
     "metadata": {},
     "output_type": "display_data"
    }
   ],
   "source": [
    "#define number of players\n",
    "\n",
    "#maximum number of players:\n",
    "MAX_PLAYERS = 3\n",
    "\n",
    "#requests the number of players\n",
    "add_player = widgets.Button(description=\"Add a Player!\")\n",
    "remove_player = widgets.Button(description=\"Remove a Player!\")\n",
    "output_players = widgets.Output()\n",
    "n_players = 0\n",
    "\n",
    "display(add_player)\n",
    "display(remove_player, output_players)\n",
    "\n",
    "\n",
    "def on_add_button_clicked(b):\n",
    "    global n_players \n",
    "    if n_players >= MAX_PLAYERS:\n",
    "        output_players.clear_output(True)\n",
    "        with output_players:\n",
    "            print(\"Number of players: \", n_players, \"\\n\"+\"Maximum number of players reached!\")\n",
    "        return\n",
    "    n_players += 1\n",
    "    with output_players:\n",
    "        output_players.clear_output(True)\n",
    "        print(\"Number of players: \", n_players)\n",
    "\n",
    "def on_remove_button_clicked(b):\n",
    "    global n_players\n",
    "    if n_players <= 0:\n",
    "        output_players.clear_output(True)\n",
    "        with output_players:\n",
    "            print(\"Number of players: \", n_players, \"\\n\"+\"Minimum number of players reached!\")\n",
    "        return \n",
    "    n_players -= 1\n",
    "    with output_players:\n",
    "        output_players.clear_output(True)\n",
    "        print(\"Number of players: \", n_players)\n",
    "\n",
    "add_player.on_click(on_add_button_clicked)\n",
    "remove_player.on_click(on_remove_button_clicked)"
   ]
  },
  {
   "cell_type": "code",
   "execution_count": 4,
   "metadata": {},
   "outputs": [
    {
     "data": {
      "application/vnd.jupyter.widget-view+json": {
       "model_id": "9a26b0b3ecdd49abb63da19b012a324b",
       "version_major": 2,
       "version_minor": 0
      },
      "text/plain": [
       "Button(description='Add a State!', style=ButtonStyle())"
      ]
     },
     "metadata": {},
     "output_type": "display_data"
    },
    {
     "data": {
      "application/vnd.jupyter.widget-view+json": {
       "model_id": "844fb2d9d7104a7dbbdfc781d647f3d2",
       "version_major": 2,
       "version_minor": 0
      },
      "text/plain": [
       "Button(description='Remove a State!', style=ButtonStyle())"
      ]
     },
     "metadata": {},
     "output_type": "display_data"
    },
    {
     "data": {
      "application/vnd.jupyter.widget-view+json": {
       "model_id": "963aa9efc7584f46a7e3c6dc25b13e5c",
       "version_major": 2,
       "version_minor": 0
      },
      "text/plain": [
       "Output()"
      ]
     },
     "metadata": {},
     "output_type": "display_data"
    }
   ],
   "source": [
    "#define number of states\n",
    "\n",
    "#maximum number of players:\n",
    "MAX_STATES = 10\n",
    "\n",
    "#requests the number of players\n",
    "add_state = widgets.Button(description=\"Add a State!\")\n",
    "remove_state = widgets.Button(description=\"Remove a State!\")\n",
    "output_states = widgets.Output()\n",
    "n_states = 2\n",
    "\n",
    "display(add_state)\n",
    "display(remove_state, output_states)\n",
    "\n",
    "\n",
    "def on_add_button_clicked(b):\n",
    "    global n_states \n",
    "    if n_states >= MAX_STATES:\n",
    "        output_states.clear_output(True)\n",
    "        with output_states:\n",
    "            \n",
    "\n",
    "            print(\"Number of states: \", n_states, \"\\n\"+\"Maximum number of states reached!\")\n",
    "        return\n",
    "    n_states += 1\n",
    "    with output_states:\n",
    "        output_states.clear_output(True)\n",
    "        print(\"Number of states: \", n_states)\n",
    "\n",
    "def on_remove_button_clicked(b):\n",
    "    global n_states\n",
    "    if n_states <= 2:\n",
    "        output_states.clear_output(True)\n",
    "        with output_states:\n",
    "            print(\"Number of states: \", n_states, \"\\n\"+\"Minimum number of states reached!\")\n",
    "        return \n",
    "    n_states -= 1\n",
    "    with output_states:\n",
    "        output_states.clear_output(True)\n",
    "        print(\"Number of states: \", n_states)\n",
    "\n",
    "add_state.on_click(on_add_button_clicked)\n",
    "remove_state.on_click(on_remove_button_clicked)"
   ]
  },
  {
   "cell_type": "code",
   "execution_count": 5,
   "metadata": {},
   "outputs": [
    {
     "data": {
      "application/vnd.jupyter.widget-view+json": {
       "model_id": "0e439cc30a5a40a5819377ac2a562418",
       "version_major": 2,
       "version_minor": 0
      },
      "text/plain": [
       "Output()"
      ]
     },
     "metadata": {},
     "output_type": "display_data"
    },
    {
     "data": {
      "application/vnd.jupyter.widget-view+json": {
       "model_id": "d7cc81d127634b28a3344a01f8d00294",
       "version_major": 2,
       "version_minor": 0
      },
      "text/plain": [
       "Label(value='Insert number of actions for every player')"
      ]
     },
     "metadata": {},
     "output_type": "display_data"
    }
   ],
   "source": [
    "#define the actions for every player\n",
    "\n",
    "actions = []\n",
    "n_actions = []\n",
    "output_actions = widgets.Output()\n",
    "for _ in range(n_players):\n",
    "    n_actions.append(0) \n",
    "\n",
    "for _ in range(n_players):\n",
    "    actions.append(widgets.IntText(description = \"player \"+str(_+1)))\n",
    "\n",
    "display(*actions, output_actions, widgets.Label(\"Insert number of actions for every player\"))\n",
    "\n",
    "def make_update_n_actions(i):\n",
    "    def update_n_actions(x):\n",
    "        if(x['new'] < 0):\n",
    "            output_actions.clear_output(True)\n",
    "            with output_actions:\n",
    "                print(\"Number of actions must be a positive integer!\")\n",
    "            return\n",
    "        if(x['new'] > 10):\n",
    "            output_actions.clear_output(True)\n",
    "            with output_actions:\n",
    "                print(\"Number of actions must be less than 10!\")\n",
    "            return\n",
    "        n_actions[i] = x['new']\n",
    "        with output_actions:\n",
    "            output_actions.clear_output(True)\n",
    "            for _ in range(n_players):\n",
    "                print(\"Number of actions for player \", _+1, \" is: \", n_actions[_])\n",
    "    return update_n_actions\n",
    "\n",
    "for i in range(n_players):\n",
    "    actions[i].observe(make_update_n_actions(i), 'value')\n",
    "\n",
    "\n",
    "\n",
    "\n",
    "\n"
   ]
  },
  {
   "cell_type": "code",
   "execution_count": 6,
   "metadata": {},
   "outputs": [
    {
     "data": {
      "application/vnd.jupyter.widget-view+json": {
       "model_id": "3903f0b247a54388836ab8831d0151e9",
       "version_major": 2,
       "version_minor": 0
      },
      "text/plain": [
       "VBox(children=(Tab(children=(GridBox(children=(Label(value=''), HBox(children=(Button(icon='minus-square', lay…"
      ]
     },
     "metadata": {},
     "output_type": "display_data"
    }
   ],
   "source": [
    "from Classes.EditableGames import *\n",
    "\n",
    "games = EditableGames(n_states)\n",
    "display(games.get_widget())"
   ]
  }
 ],
 "metadata": {
  "kernelspec": {
   "display_name": "Python 3",
   "language": "python",
   "name": "python3"
  },
  "language_info": {
   "codemirror_mode": {
    "name": "ipython",
    "version": 3
   },
   "file_extension": ".py",
   "mimetype": "text/x-python",
   "name": "python",
   "nbconvert_exporter": "python",
   "pygments_lexer": "ipython3",
   "version": "3.10.11"
  }
 },
 "nbformat": 4,
 "nbformat_minor": 2
}

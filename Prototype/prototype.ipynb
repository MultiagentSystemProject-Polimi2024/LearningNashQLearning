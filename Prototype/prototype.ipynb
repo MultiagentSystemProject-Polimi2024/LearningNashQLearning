{
 "cells": [
  {
   "cell_type": "code",
   "execution_count": 138,
   "metadata": {},
   "outputs": [],
   "source": [
    "import ipywidgets as widgets\n",
    "from IPython.display import display"
   ]
  },
  {
   "cell_type": "code",
   "execution_count": 139,
   "metadata": {},
   "outputs": [],
   "source": [
    "from Classes.EditableMatrix import EditableMatrix"
   ]
  },
  {
   "cell_type": "code",
   "execution_count": 148,
   "metadata": {},
   "outputs": [
    {
     "data": {
      "application/vnd.jupyter.widget-view+json": {
       "model_id": "4eae3be7e03946569c62ec9f150207aa",
       "version_major": 2,
       "version_minor": 0
      },
      "text/plain": [
       "Button(description='Add a Player!', style=ButtonStyle())"
      ]
     },
     "metadata": {},
     "output_type": "display_data"
    },
    {
     "data": {
      "application/vnd.jupyter.widget-view+json": {
       "model_id": "cda19658002a4ae88e1cc7933bd314e9",
       "version_major": 2,
       "version_minor": 0
      },
      "text/plain": [
       "Button(description='Remove a Player!', style=ButtonStyle())"
      ]
     },
     "metadata": {},
     "output_type": "display_data"
    },
    {
     "data": {
      "application/vnd.jupyter.widget-view+json": {
       "model_id": "5f56c90e67b842d5801f442d29a4d178",
       "version_major": 2,
       "version_minor": 0
      },
      "text/plain": [
       "Output()"
      ]
     },
     "metadata": {},
     "output_type": "display_data"
    }
   ],
   "source": [
    "#define number of players\n",
    "\n",
    "#maximum number of players:\n",
    "MAX_PLAYERS = 3\n",
    "\n",
    "#requests the number of players\n",
    "add_player = widgets.Button(description=\"Add a Player!\")\n",
    "remove_player = widgets.Button(description=\"Remove a Player!\")\n",
    "output_players = widgets.Output()\n",
    "n_players = 0\n",
    "\n",
    "display(add_player)\n",
    "display(remove_player, output_players)\n",
    "\n",
    "\n",
    "def on_add_button_clicked(b):\n",
    "    global n_players \n",
    "    if n_players >= MAX_PLAYERS:\n",
    "        output_players.clear_output(True)\n",
    "        with output_players:\n",
    "            print(\"Number of players: \", n_players, \"\\n\"+\"Maximum number of players reached!\")\n",
    "        return\n",
    "    n_players += 1\n",
    "    with output_players:\n",
    "        output_players.clear_output(True)\n",
    "        print(\"Number of players: \", n_players)\n",
    "\n",
    "def on_remove_button_clicked(b):\n",
    "    global n_players\n",
    "    if n_players <= 0:\n",
    "        output_players.clear_output(True)\n",
    "        with output_players:\n",
    "            print(\"Number of players: \", n_players, \"\\n\"+\"Minimum number of players reached!\")\n",
    "        return \n",
    "    n_players -= 1\n",
    "    with output_players:\n",
    "        output_players.clear_output(True)\n",
    "        print(\"Number of players: \", n_players)\n",
    "\n",
    "add_player.on_click(on_add_button_clicked)\n",
    "remove_player.on_click(on_remove_button_clicked)"
   ]
  },
  {
   "cell_type": "code",
   "execution_count": 141,
   "metadata": {},
   "outputs": [
    {
     "data": {
      "application/vnd.jupyter.widget-view+json": {
       "model_id": "85716e273730415aa3470abe33067218",
       "version_major": 2,
       "version_minor": 0
      },
      "text/plain": [
       "Button(description='Add a State!', style=ButtonStyle())"
      ]
     },
     "metadata": {},
     "output_type": "display_data"
    },
    {
     "data": {
      "application/vnd.jupyter.widget-view+json": {
       "model_id": "c4cfb69bae504abbb0928e42bca555f9",
       "version_major": 2,
       "version_minor": 0
      },
      "text/plain": [
       "Button(description='Remove a State!', style=ButtonStyle())"
      ]
     },
     "metadata": {},
     "output_type": "display_data"
    },
    {
     "data": {
      "application/vnd.jupyter.widget-view+json": {
       "model_id": "ea86676e5ae0473789a8ec711205804b",
       "version_major": 2,
       "version_minor": 0
      },
      "text/plain": [
       "Output()"
      ]
     },
     "metadata": {},
     "output_type": "display_data"
    }
   ],
   "source": [
    "#define number of states\n",
    "\n",
    "#maximum number of players:\n",
    "MAX_STATES = 10\n",
    "\n",
    "#requests the number of players\n",
    "add_state = widgets.Button(description=\"Add a State!\")\n",
    "remove_state = widgets.Button(description=\"Remove a State!\")\n",
    "output_states = widgets.Output()\n",
    "n_states = 2\n",
    "\n",
    "display(add_state)\n",
    "display(remove_state, output_states)\n",
    "\n",
    "\n",
    "def on_add_button_clicked(b):\n",
    "    global n_states \n",
    "    if n_states >= MAX_STATES:\n",
    "        output_states.clear_output(True)\n",
    "        with output_states:\n",
    "            \n",
    "\n",
    "            print(\"Number of states: \", n_states, \"\\n\"+\"Maximum number of states reached!\")\n",
    "        return\n",
    "    n_states += 1\n",
    "    with output_states:\n",
    "        output_states.clear_output(True)\n",
    "        print(\"Number of states: \", n_states)\n",
    "\n",
    "def on_remove_button_clicked(b):\n",
    "    global n_states\n",
    "    if n_states <= 2:\n",
    "        output_states.clear_output(True)\n",
    "        with output_states:\n",
    "            print(\"Number of states: \", n_states, \"\\n\"+\"Minimum number of states reached!\")\n",
    "        return \n",
    "    n_states -= 1\n",
    "    with output_states:\n",
    "        output_states.clear_output(True)\n",
    "        print(\"Number of states: \", n_states)\n",
    "\n",
    "add_state.on_click(on_add_button_clicked)\n",
    "remove_state.on_click(on_remove_button_clicked)"
   ]
  },
  {
   "cell_type": "code",
   "execution_count": 150,
   "metadata": {},
   "outputs": [
    {
     "data": {
      "application/vnd.jupyter.widget-view+json": {
       "model_id": "4dc9c872701940b68bf29f3d9e6aaea1",
       "version_major": 2,
       "version_minor": 0
      },
      "text/plain": [
       "IntText(value=0, description='player 1')"
      ]
     },
     "metadata": {},
     "output_type": "display_data"
    },
    {
     "data": {
      "application/vnd.jupyter.widget-view+json": {
       "model_id": "005a629e5cd140b6a4227f07cdb7599e",
       "version_major": 2,
       "version_minor": 0
      },
      "text/plain": [
       "IntText(value=0, description='player 2')"
      ]
     },
     "metadata": {},
     "output_type": "display_data"
    },
    {
     "data": {
      "application/vnd.jupyter.widget-view+json": {
       "model_id": "e8ae5403329a41f9a3c00080e767d956",
       "version_major": 2,
       "version_minor": 0
      },
      "text/plain": [
       "IntText(value=0, description='player 3')"
      ]
     },
     "metadata": {},
     "output_type": "display_data"
    },
    {
     "data": {
      "application/vnd.jupyter.widget-view+json": {
       "model_id": "43053698b4ef4e72855c27ab028b761b",
       "version_major": 2,
       "version_minor": 0
      },
      "text/plain": [
       "Output()"
      ]
     },
     "metadata": {},
     "output_type": "display_data"
    },
    {
     "data": {
      "application/vnd.jupyter.widget-view+json": {
       "model_id": "3c865980b2da44028beee6605ada79d1",
       "version_major": 2,
       "version_minor": 0
      },
      "text/plain": [
       "Label(value='Insert number of actions for every player')"
      ]
     },
     "metadata": {},
     "output_type": "display_data"
    }
   ],
   "source": [
    "#define the actions for every player\n",
    "\n",
    "actions = []\n",
    "n_actions = []\n",
    "output_actions = widgets.Output()\n",
    "for _ in range(n_players):\n",
    "    n_actions.append(0) \n",
    "\n",
    "for _ in range(n_players):\n",
    "    actions.append(widgets.IntText(description = \"player \"+str(_+1)))\n",
    "\n",
    "display(*actions, output_actions, widgets.Label(\"Insert number of actions for every player\"))\n",
    "\n",
    "def make_update_n_actions(i):\n",
    "    def update_n_actions(x):\n",
    "        if(x['new'] < 0):\n",
    "            output_actions.clear_output(True)\n",
    "            with output_actions:\n",
    "                print(\"Number of actions must be a positive integer!\")\n",
    "            return\n",
    "        if(x['new'] > 10):\n",
    "            output_actions.clear_output(True)\n",
    "            with output_actions:\n",
    "                print(\"Number of actions must be less than 10!\")\n",
    "            return\n",
    "        n_actions[i] = x['new']\n",
    "        with output_actions:\n",
    "            output_actions.clear_output(True)\n",
    "            for _ in range(n_players):\n",
    "                print(\"Number of actions for player \", _+1, \" is: \", n_actions[_])\n",
    "    return update_n_actions\n",
    "\n",
    "for i in range(n_players):\n",
    "    actions[i].observe(make_update_n_actions(i), 'value')\n",
    "\n",
    "\n",
    "\n",
    "\n",
    "\n"
   ]
  },
  {
   "cell_type": "code",
   "execution_count": 143,
   "metadata": {},
   "outputs": [],
   "source": [
    "# Create a matrix\n",
    "em = EditableMatrix(rows=3, cols=3, valuesPerCell=2, output=out)\n"
   ]
  },
  {
   "cell_type": "code",
   "execution_count": 144,
   "metadata": {},
   "outputs": [
    {
     "data": {
      "application/vnd.jupyter.widget-view+json": {
       "model_id": "357e0fe71cf748cc99ab896d7ccdb355",
       "version_major": 2,
       "version_minor": 0
      },
      "text/plain": [
       "GridBox(children=(Label(value=''), HBox(children=(Button(icon='minus-square', layout=Layout(height='40px', mar…"
      ]
     },
     "metadata": {},
     "output_type": "display_data"
    }
   ],
   "source": [
    "# Display the matrix\n",
    "display(em.get_widget())"
   ]
  }
 ],
 "metadata": {
  "kernelspec": {
   "display_name": "Python 3",
   "language": "python",
   "name": "python3"
  },
  "language_info": {
   "codemirror_mode": {
    "name": "ipython",
    "version": 3
   },
   "file_extension": ".py",
   "mimetype": "text/x-python",
   "name": "python",
   "nbconvert_exporter": "python",
   "pygments_lexer": "ipython3",
   "version": "3.9.6"
  }
 },
 "nbformat": 4,
 "nbformat_minor": 2
}

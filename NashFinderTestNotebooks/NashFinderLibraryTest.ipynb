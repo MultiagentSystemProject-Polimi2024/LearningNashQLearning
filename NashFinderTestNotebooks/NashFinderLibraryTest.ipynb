{
 "cells": [
  {
   "cell_type": "code",
   "execution_count": 54,
   "metadata": {},
   "outputs": [],
   "source": [
    "import nashpy as nash\n",
    "import numpy as np"
   ]
  },
  {
   "cell_type": "code",
   "execution_count": 55,
   "metadata": {},
   "outputs": [],
   "source": [
    "from Interface.Classes.EditableMatrix import EditableMatrix\n",
    "from IPython.display import display\n",
    "import ipywidgets as widgets\n",
    "out = widgets.Output()"
   ]
  },
  {
   "cell_type": "code",
   "execution_count": 56,
   "metadata": {},
   "outputs": [],
   "source": [
    "def on_value_change(em, change):\n",
    "    global A, B\n",
    "    game = nash.Game(A.get_data(), B.get_data())\n",
    "    equilibria = game.vertex_enumeration()\n",
    "    with em.output:\n",
    "        em.output.clear_output()\n",
    "        print(\"Equilibria:\")\n",
    "        for eq in equilibria:\n",
    "            for i in range(len(eq)):\n",
    "                print(f\"Player 1: \", eq[0], \"Player 2: \", eq[1])"
   ]
  },
  {
   "cell_type": "code",
   "execution_count": 57,
   "metadata": {},
   "outputs": [],
   "source": [
    "A = EditableMatrix(2, 2, output=out, onValueChange=on_value_change, data=[\n",
    "    [6, 3],\n",
    "    [3, 4.5]\n",
    "])\n",
    "B = EditableMatrix(2, 2, output=out, onValueChange=on_value_change, data=[\n",
    "    [22, 26],\n",
    "    [22, 18]\n",
    "])"
   ]
  },
  {
   "cell_type": "code",
   "execution_count": 58,
   "metadata": {},
   "outputs": [
    {
     "data": {
      "application/vnd.jupyter.widget-view+json": {
       "model_id": "f436595c997040fdbb94b6002fac262f",
       "version_major": 2,
       "version_minor": 0
      },
      "text/plain": [
       "GridBox(children=(Label(value=''), HBox(children=(Button(icon='minus-square', layout=Layout(height='40px', mar…"
      ]
     },
     "metadata": {},
     "output_type": "display_data"
    },
    {
     "data": {
      "application/vnd.jupyter.widget-view+json": {
       "model_id": "416fbbad2c9b453a8bc9eaf0e6803d42",
       "version_major": 2,
       "version_minor": 0
      },
      "text/plain": [
       "GridBox(children=(Label(value=''), HBox(children=(Button(icon='minus-square', layout=Layout(height='40px', mar…"
      ]
     },
     "metadata": {},
     "output_type": "display_data"
    },
    {
     "data": {
      "application/vnd.jupyter.widget-view+json": {
       "model_id": "5b66f63d2610471ca571cf8d3e3eaf57",
       "version_major": 2,
       "version_minor": 0
      },
      "text/plain": [
       "Output()"
      ]
     },
     "metadata": {},
     "output_type": "display_data"
    }
   ],
   "source": [
    "display(A.get_widget(), B.get_widget(), out)"
   ]
  },
  {
   "cell_type": "code",
   "execution_count": null,
   "metadata": {},
   "outputs": [],
   "source": []
  },
  {
   "cell_type": "code",
   "execution_count": 59,
   "metadata": {},
   "outputs": [],
   "source": [
    "game = nash.Game(A.get_data(), B.get_data())"
   ]
  },
  {
   "cell_type": "code",
   "execution_count": 60,
   "metadata": {},
   "outputs": [
    {
     "name": "stdout",
     "output_type": "stream",
     "text": [
      "(array([0.5, 0.5]), array([0.33333333, 0.66666667]))\n"
     ]
    }
   ],
   "source": [
    "equilibria = game.vertex_enumeration()\n",
    "for eq in equilibria:\n",
    "    print(eq)"
   ]
  }
 ],
 "metadata": {
  "kernelspec": {
   "display_name": "Python 3",
   "language": "python",
   "name": "python3"
  },
  "language_info": {
   "codemirror_mode": {
    "name": "ipython",
    "version": 3
   },
   "file_extension": ".py",
   "mimetype": "text/x-python",
   "name": "python",
   "nbconvert_exporter": "python",
   "pygments_lexer": "ipython3",
   "version": "3.10.11"
  }
 },
 "nbformat": 4,
 "nbformat_minor": 2
}

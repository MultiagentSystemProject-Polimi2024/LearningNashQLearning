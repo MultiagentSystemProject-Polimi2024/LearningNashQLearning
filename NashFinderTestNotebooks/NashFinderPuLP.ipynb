{
 "cells": [
  {
   "cell_type": "code",
   "execution_count": 22,
   "metadata": {},
   "outputs": [],
   "source": [
    "from pulp import *\n",
    "import numpy as np"
   ]
  },
  {
   "cell_type": "code",
   "execution_count": 28,
   "metadata": {},
   "outputs": [],
   "source": [
    "# payoffMatrix = np.array([\n",
    "#     [6, 3],\n",
    "#     [3, 4.5]\n",
    "# ])\n",
    "\n",
    "payoffMatrix = np.array([\n",
    "    [22, 26],\n",
    "    [22, 18]\n",
    "]).T"
   ]
  },
  {
   "cell_type": "code",
   "execution_count": 31,
   "metadata": {},
   "outputs": [
    {
     "name": "stdout",
     "output_type": "stream",
     "text": [
      "[22*p + 22*q + 0, 26*p + 18*q + 0]\n",
      "48*p + 40*q\n"
     ]
    }
   ],
   "source": [
    "prob = LpProblem(\"Finding_p\", LpMaximize)\n",
    "\n",
    "strategy = [LpVariable(\"p\", 0, 1), LpVariable(\"q\", 0, 1)]\n",
    "\n",
    "ep = LpVariable(\"ep\", 0)\n",
    "\n",
    "prob += lpSum([strategy[i] for i in range(2)]) == 1\n",
    "\n",
    "payoff = [lpDot(payoffMatrix[j], strategy) for j in range(2)]\n",
    "print(payoff)\n",
    "for i in range(2):\n",
    "    prob += ep >= payoff[i]\n",
    "\n",
    "print(lpSum(payoff))"
   ]
  },
  {
   "cell_type": "code",
   "execution_count": 33,
   "metadata": {},
   "outputs": [
    {
     "name": "stdout",
     "output_type": "stream",
     "text": [
      "Finding_p\n",
      "---------\n",
      "take: 1.0 0.0 ep: 26.0\n",
      "\n"
     ]
    }
   ],
   "source": [
    "status = prob.solve(PULP_CBC_CMD(msg=False))\n",
    "\n",
    "print(prob.name + \"\\n\" + \"-\" * len(prob.name))\n",
    "print(\"take:\", *[strategy[i].value() for i in range(2)], \"ep:\", ep.value())\n",
    "print()"
   ]
  }
 ],
 "metadata": {
  "kernelspec": {
   "display_name": "Python 3",
   "language": "python",
   "name": "python3"
  },
  "language_info": {
   "codemirror_mode": {
    "name": "ipython",
    "version": 3
   },
   "file_extension": ".py",
   "mimetype": "text/x-python",
   "name": "python",
   "nbconvert_exporter": "python",
   "pygments_lexer": "ipython3",
   "version": "3.10.11"
  }
 },
 "nbformat": 4,
 "nbformat_minor": 2
}

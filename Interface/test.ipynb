{
 "cells": [
  {
   "cell_type": "code",
   "execution_count": 1,
   "metadata": {},
   "outputs": [],
   "source": [
    "import ipywidgets as widgets"
   ]
  },
  {
   "cell_type": "code",
   "execution_count": 2,
   "metadata": {},
   "outputs": [
    {
     "data": {
      "application/vnd.jupyter.widget-view+json": {
       "model_id": "41c13bb0156c48549bdde23939056658",
       "version_major": 2,
       "version_minor": 0
      },
      "text/plain": [
       "IntSlider(value=0)"
      ]
     },
     "execution_count": 2,
     "metadata": {},
     "output_type": "execute_result"
    }
   ],
   "source": [
    "widgets.IntSlider()"
   ]
  },
  {
   "cell_type": "code",
   "execution_count": 3,
   "metadata": {},
   "outputs": [
    {
     "data": {
      "application/vnd.jupyter.widget-view+json": {
       "model_id": "b7ed3761d70345808eaa225f3b7a281d",
       "version_major": 2,
       "version_minor": 0
      },
      "text/plain": [
       "IntSlider(value=0)"
      ]
     },
     "metadata": {},
     "output_type": "display_data"
    }
   ],
   "source": [
    "from IPython.display import display\n",
    "w = widgets.IntSlider()\n",
    "display(w)"
   ]
  },
  {
   "cell_type": "code",
   "execution_count": 4,
   "metadata": {},
   "outputs": [
    {
     "data": {
      "application/vnd.jupyter.widget-view+json": {
       "model_id": "b7ed3761d70345808eaa225f3b7a281d",
       "version_major": 2,
       "version_minor": 0
      },
      "text/plain": [
       "IntSlider(value=0)"
      ]
     },
     "metadata": {},
     "output_type": "display_data"
    }
   ],
   "source": [
    "display(w)"
   ]
  },
  {
   "cell_type": "code",
   "execution_count": 5,
   "metadata": {},
   "outputs": [
    {
     "data": {
      "text/plain": [
       "0"
      ]
     },
     "execution_count": 5,
     "metadata": {},
     "output_type": "execute_result"
    }
   ],
   "source": [
    "w.value"
   ]
  },
  {
   "cell_type": "code",
   "execution_count": 6,
   "metadata": {},
   "outputs": [
    {
     "data": {
      "application/vnd.jupyter.widget-view+json": {
       "model_id": "2908fec8ee8f4aaba431db829519ce36",
       "version_major": 2,
       "version_minor": 0
      },
      "text/plain": [
       "FloatText(value=0.0)"
      ]
     },
     "metadata": {},
     "output_type": "display_data"
    },
    {
     "data": {
      "application/vnd.jupyter.widget-view+json": {
       "model_id": "3a2511b7699843b795d62927df805d39",
       "version_major": 2,
       "version_minor": 0
      },
      "text/plain": [
       "FloatSlider(value=0.0)"
      ]
     },
     "metadata": {},
     "output_type": "display_data"
    }
   ],
   "source": [
    "a = widgets.FloatText()\n",
    "b = widgets.FloatSlider()\n",
    "display(a,b)\n",
    "\n",
    "mylink = widgets.jslink((a, 'value'), (b, 'value'))"
   ]
  },
  {
   "cell_type": "code",
   "execution_count": 7,
   "metadata": {},
   "outputs": [],
   "source": [
    "progress = widgets.IntProgress(\n",
    "    value=33,\n",
    "    min=0,\n",
    "    max=100,\n",
    "    description='Loading:',\n",
    "    bar_style='', # 'success', 'info', 'warning', 'danger' or ''\n",
    "    style={'bar_color': 'maroon'},\n",
    "    orientation='horizontal'\n",
    ")"
   ]
  },
  {
   "cell_type": "code",
   "execution_count": 8,
   "metadata": {},
   "outputs": [
    {
     "data": {
      "application/vnd.jupyter.widget-view+json": {
       "model_id": "95213c5f9a1640c58994c6f5fdb9d6da",
       "version_major": 2,
       "version_minor": 0
      },
      "text/plain": [
       "IntProgress(value=33, description='Loading:', style=ProgressStyle(bar_color='maroon'))"
      ]
     },
     "metadata": {},
     "output_type": "display_data"
    }
   ],
   "source": [
    "display(progress)"
   ]
  },
  {
   "cell_type": "code",
   "execution_count": 9,
   "metadata": {},
   "outputs": [],
   "source": [
    "import time"
   ]
  },
  {
   "cell_type": "code",
   "execution_count": 10,
   "metadata": {},
   "outputs": [],
   "source": [
    "for i in range(100):\n",
    "    time.sleep(0.01)\n",
    "    progress.value = i"
   ]
  },
  {
   "cell_type": "code",
   "execution_count": 11,
   "metadata": {},
   "outputs": [
    {
     "data": {
      "application/vnd.jupyter.widget-view+json": {
       "model_id": "0167e7242bd34f89b4843d7d63c2fb7c",
       "version_major": 2,
       "version_minor": 0
      },
      "text/plain": [
       "Box(children=(Label(value='Pizza topping with a very long label:'), RadioButtons(layout=Layout(width='max-cont…"
      ]
     },
     "execution_count": 11,
     "metadata": {},
     "output_type": "execute_result"
    }
   ],
   "source": [
    "widgets.Box(\n",
    "    [\n",
    "        widgets.Label(value='Pizza topping with a very long label:'), \n",
    "        widgets.RadioButtons(\n",
    "            options=[\n",
    "                'pepperoni', \n",
    "                'pineapple', \n",
    "                'anchovies', \n",
    "                'and the long name that will fit fine and the long name that will fit fine and the long name that will fit fine '\n",
    "            ],\n",
    "            layout={'width': 'max-content'}\n",
    "        )\n",
    "    ]\n",
    ")"
   ]
  },
  {
   "cell_type": "code",
   "execution_count": 12,
   "metadata": {},
   "outputs": [
    {
     "data": {
      "application/vnd.jupyter.widget-view+json": {
       "model_id": "cfa4d4620f61469aa2bb2e7f9e18ba6d",
       "version_major": 2,
       "version_minor": 0
      },
      "text/plain": [
       "Text(value='Hello World', description='String:', disabled=True, placeholder='Type something')"
      ]
     },
     "execution_count": 12,
     "metadata": {},
     "output_type": "execute_result"
    }
   ],
   "source": [
    "widgets.Text(\n",
    "    value='Hello World',\n",
    "    placeholder='Type something',\n",
    "    description='String:',\n",
    "    disabled=True   \n",
    ")"
   ]
  },
  {
   "cell_type": "code",
   "execution_count": 13,
   "metadata": {},
   "outputs": [
    {
     "data": {
      "application/vnd.jupyter.widget-view+json": {
       "model_id": "6f997ec0722b42df94080587f71db6ae",
       "version_major": 2,
       "version_minor": 0
      },
      "text/plain": [
       "HBox(children=(Label(value='The $m$ in $E=mc^2$:'), FloatSlider(value=0.0)))"
      ]
     },
     "execution_count": 13,
     "metadata": {},
     "output_type": "execute_result"
    }
   ],
   "source": [
    "widgets.HBox([widgets.Label(value=\"The $m$ in $E=mc^2$:\"), widgets.FloatSlider()])"
   ]
  },
  {
   "cell_type": "code",
   "execution_count": 14,
   "metadata": {},
   "outputs": [
    {
     "data": {
      "application/vnd.jupyter.widget-view+json": {
       "model_id": "2389d8a0e19d4140a767b1a4fdea7bf9",
       "version_major": 2,
       "version_minor": 0
      },
      "text/plain": [
       "HBox(children=(Play(value=50, description='Press play', interval=50), IntSlider(value=0)))"
      ]
     },
     "execution_count": 14,
     "metadata": {},
     "output_type": "execute_result"
    }
   ],
   "source": [
    "play = widgets.Play(\n",
    "    value=50,\n",
    "    min=0,\n",
    "    max=100,\n",
    "    step=1,\n",
    "    interval=50,\n",
    "    description=\"Press play\",\n",
    "    disabled=False\n",
    ")\n",
    "slider = widgets.IntSlider()\n",
    "widgets.jslink((play, 'value'), (slider, 'value'))\n",
    "widgets.HBox([play, slider])"
   ]
  },
  {
   "cell_type": "code",
   "execution_count": 15,
   "metadata": {},
   "outputs": [
    {
     "data": {
      "application/vnd.jupyter.widget-view+json": {
       "model_id": "6b440cc80dd24c7bb099dda73ed26c2f",
       "version_major": 2,
       "version_minor": 0
      },
      "text/plain": [
       "TagsInput(value=['pizza', 'fries'], allow_duplicates=False, allowed_tags=['pizza', 'fries', 'tomatoes', 'steak…"
      ]
     },
     "execution_count": 15,
     "metadata": {},
     "output_type": "execute_result"
    }
   ],
   "source": [
    "tags = widgets.TagsInput(\n",
    "    value=['pizza', 'fries'],\n",
    "    allowed_tags=['pizza', 'fries', 'tomatoes', 'steak'],\n",
    "    allow_duplicates=False\n",
    ")\n",
    "tags"
   ]
  },
  {
   "cell_type": "code",
   "execution_count": 16,
   "metadata": {},
   "outputs": [
    {
     "data": {
      "application/vnd.jupyter.widget-view+json": {
       "model_id": "a2e33fcbcf3d451e821712e4e22fd4b3",
       "version_major": 2,
       "version_minor": 0
      },
      "text/plain": [
       "Output(layout=Layout(border_bottom='1px solid black', border_left='1px solid black', border_right='1px solid b…"
      ]
     },
     "execution_count": 16,
     "metadata": {},
     "output_type": "execute_result"
    }
   ],
   "source": [
    "out = widgets.Output(layout={'border': '1px solid black'})\n",
    "out"
   ]
  },
  {
   "cell_type": "code",
   "execution_count": 17,
   "metadata": {},
   "outputs": [],
   "source": [
    "with out:\n",
    "    out.clear_output()\n",
    "    for i in range(10):\n",
    "        print(i, 'Hello world!')\n",
    "    print ('Hello world!')"
   ]
  },
  {
   "cell_type": "code",
   "execution_count": 18,
   "metadata": {},
   "outputs": [
    {
     "data": {
      "application/vnd.jupyter.widget-view+json": {
       "model_id": "74c1d9e385794d13a9f243606e2f5372",
       "version_major": 2,
       "version_minor": 0
      },
      "text/plain": [
       "HBox(children=(VBox(children=(IntSlider(value=0, description='a'), IntSlider(value=0, description='b'), IntSli…"
      ]
     },
     "execution_count": 18,
     "metadata": {},
     "output_type": "execute_result"
    }
   ],
   "source": [
    "a = widgets.IntSlider(description='a')\n",
    "b = widgets.IntSlider(description='b')\n",
    "c = widgets.IntSlider(description='c')\n",
    "def f(a, b, c):\n",
    "    print('{}*{}*{}={}'.format(a, b, c, a*b*c))\n",
    "\n",
    "out = widgets.interactive_output(f, {'a': a, 'b': b, 'c': c})\n",
    "\n",
    "widgets.HBox([widgets.VBox([a, b, c]), out])"
   ]
  },
  {
   "cell_type": "code",
   "execution_count": 19,
   "metadata": {},
   "outputs": [
    {
     "data": {
      "application/vnd.jupyter.widget-view+json": {
       "model_id": "a49cc25b88dd4d7cac0b9b763b655a43",
       "version_major": 2,
       "version_minor": 0
      },
      "text/plain": [
       "Button(description='Click Me!', style=ButtonStyle())"
      ]
     },
     "metadata": {},
     "output_type": "display_data"
    },
    {
     "data": {
      "application/vnd.jupyter.widget-view+json": {
       "model_id": "f739cc86f0f44b5ba99f305d5d7b376e",
       "version_major": 2,
       "version_minor": 0
      },
      "text/plain": [
       "Output()"
      ]
     },
     "metadata": {},
     "output_type": "display_data"
    }
   ],
   "source": [
    "from IPython.display import display\n",
    "button = widgets.Button(description=\"Click Me!\")\n",
    "output = widgets.Output()\n",
    "\n",
    "display(button, output)\n",
    "\n",
    "def on_button_clicked(b):\n",
    "    with output:\n",
    "        print(\"Button clicked.\")\n",
    "\n",
    "button.on_click(on_button_clicked)"
   ]
  },
  {
   "cell_type": "code",
   "execution_count": 20,
   "metadata": {},
   "outputs": [
    {
     "data": {
      "application/vnd.jupyter.widget-view+json": {
       "model_id": "71d0930a54f64ce79018296850e23b3d",
       "version_major": 2,
       "version_minor": 0
      },
      "text/plain": [
       "VBox(children=(HBox(children=(FloatText(value=0.0, layout=Layout(width='50px')), FloatText(value=0.0, layout=L…"
      ]
     },
     "metadata": {},
     "output_type": "display_data"
    }
   ],
   "source": [
    "# Matrix filling\n",
    "def MatrixFiller(targetMatrix, n):\n",
    "    matrix = []\n",
    "    for i in range(n):\n",
    "        row = []\n",
    "        for j in range(n):\n",
    "            text = widgets.FloatText(\n",
    "                value='0',\n",
    "                placeholder='Type something',\n",
    "                disabled=False,\n",
    "                layout=widgets.Layout(width='50px')\n",
    "            )\n",
    "            def on_value_change(change):\n",
    "                targetMatrix[i][j] = change['new']\n",
    "                print(targetMatrix)\n",
    "\n",
    "            text.observe(on_value_change, names='value')\n",
    "            row.append(text)\n",
    "        matrix.append(row)\n",
    "    return matrix\n",
    "\n",
    "n = 3\n",
    "target = [[0 for i in range(n)] for j in range(n)]\n",
    "matrix = MatrixFiller(target, n)\n",
    "display(widgets.VBox([widgets.HBox(row) for row in matrix]))"
   ]
  },
  {
   "cell_type": "code",
   "execution_count": 21,
   "metadata": {},
   "outputs": [],
   "source": [
    "import Classes.EditableMatrix as em"
   ]
  },
  {
   "cell_type": "code",
   "execution_count": 22,
   "metadata": {},
   "outputs": [],
   "source": [
    "matrix = em.EditableMatrix(3, 3, output=out)"
   ]
  },
  {
   "cell_type": "code",
   "execution_count": 23,
   "metadata": {},
   "outputs": [
    {
     "data": {
      "application/vnd.jupyter.widget-view+json": {
       "model_id": "f925aa2ccf084b6abe5d5d52ff0bf2b6",
       "version_major": 2,
       "version_minor": 0
      },
      "text/plain": [
       "GridBox(children=(Label(value=''), HBox(children=(Button(icon='minus-square', layout=Layout(height='40px', mar…"
      ]
     },
     "metadata": {},
     "output_type": "display_data"
    }
   ],
   "source": [
    "display(matrix.get_widget())"
   ]
  },
  {
   "cell_type": "code",
   "execution_count": 24,
   "metadata": {},
   "outputs": [
    {
     "data": {
      "application/vnd.jupyter.widget-view+json": {
       "model_id": "bae63155b8214f19b1a690253d85ca87",
       "version_major": 2,
       "version_minor": 0
      },
      "text/plain": [
       "Output(outputs=({'name': 'stdout', 'text': '0*0*0=0\\n', 'output_type': 'stream'},))"
      ]
     },
     "execution_count": 24,
     "metadata": {},
     "output_type": "execute_result"
    }
   ],
   "source": [
    "out"
   ]
  },
  {
   "cell_type": "code",
   "execution_count": 25,
   "metadata": {},
   "outputs": [],
   "source": [
    "import matplotlib.pyplot as plt"
   ]
  },
  {
   "cell_type": "code",
   "execution_count": 26,
   "metadata": {},
   "outputs": [
    {
     "data": {
      "application/vnd.jupyter.widget-view+json": {
       "model_id": "bae63155b8214f19b1a690253d85ca87",
       "version_major": 2,
       "version_minor": 0
      },
      "text/plain": [
       "Output(outputs=({'name': 'stdout', 'text': '0*0*0=0\\n', 'output_type': 'stream'},))"
      ]
     },
     "metadata": {},
     "output_type": "display_data"
    }
   ],
   "source": [
    "x = [1, 2, 3, 4]\n",
    "y = [10, 20, 25, 30]\n",
    "\n",
    "display(out)\n",
    "\n",
    "with out:\n",
    "    for _ in range(5):\n",
    "        out.clear_output()\n",
    "        fig, ax = plt.subplots()\n",
    "        ax.plot(x, y)\n",
    "        plt.show()\n",
    "        x.append(5)\n",
    "        y.append(40)\n",
    "        time.sleep(1)"
   ]
  },
  {
   "cell_type": "code",
   "execution_count": 27,
   "metadata": {},
   "outputs": [
    {
     "data": {
      "application/vnd.jupyter.widget-view+json": {
       "model_id": "f349a92c3d72442f961d18aa4c899c36",
       "version_major": 2,
       "version_minor": 0
      },
      "text/plain": [
       "interactive(children=(IntSlider(value=1, description='w', max=10), FloatSlider(value=1.0, description='amp', m…"
      ]
     },
     "metadata": {},
     "output_type": "display_data"
    },
    {
     "data": {
      "application/vnd.jupyter.widget-view+json": {
       "model_id": "6ca86072024c4fe08960245a44fea303",
       "version_major": 2,
       "version_minor": 0
      },
      "image/png": "[encoded data removed]",
      "text/html": [
       "\n",
       "            <div style=\"display: inline-block;\">\n",
       "                <div class=\"jupyter-widgets widget-label\" style=\"text-align: center;\">\n",
       "                    Figure\n",
       "                </div>\n",
       "                <img src='data:image/png;base64,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' width=600.0/>\n",
       "            </div>\n",
       "        "
      ],
      "text/plain": [
       "Canvas(toolbar=Toolbar(toolitems=[('Home', 'Reset original view', 'home', 'home'), ('Back', 'Back to previous …"
      ]
     },
     "metadata": {},
     "output_type": "display_data"
    }
   ],
   "source": [
    "import numpy as np\n",
    "\n",
    "%matplotlib widget\n",
    "\n",
    "# set up plot\n",
    "fig, ax = plt.subplots(figsize=(6, 4))\n",
    "ax.set_ylim([-4, 4])\n",
    "ax.grid(True)\n",
    " \n",
    "# generate x values\n",
    "x = np.linspace(0, 2 * np.pi, 100)\n",
    " \n",
    " \n",
    "def my_sine(x, w, amp, phi):\n",
    "    \"\"\"\n",
    "    Return a sine for x with angular frequeny w and amplitude amp.\n",
    "    \"\"\"\n",
    "    return amp*np.sin(w * (x-phi))\n",
    " \n",
    " \n",
    "@widgets.interact(w=(0, 10, 1), amp=(0, 4, .1), phi=(0, 2*np.pi+0.01, 0.01))\n",
    "def update(w = 1.0, amp=1, phi=0):\n",
    "    \"\"\"Remove old lines from plot and plot new one\"\"\"\n",
    "    [l.remove() for l in ax.lines]\n",
    "    ax.plot(x, my_sine(x, w, amp, phi), color='C0')"
   ]
  },
  {
   "cell_type": "code",
   "execution_count": 28,
   "metadata": {},
   "outputs": [
    {
     "data": {
      "application/vnd.jupyter.widget-view+json": {
       "model_id": "bf852d1abaa141c19a5e520271e5dbb9",
       "version_major": 2,
       "version_minor": 0
      },
      "text/plain": [
       "IntSlider(value=1, continuous_update=False, description='$\\\\omega$', max=10)"
      ]
     },
     "execution_count": 28,
     "metadata": {},
     "output_type": "execute_result"
    },
    {
     "data": {
      "application/vnd.jupyter.widget-view+json": {
       "model_id": "ea7340d9c44f41b59c3816b86ff2ecbd",
       "version_major": 2,
       "version_minor": 0
      },
      "image/png": "[encoded data removed]",
      "text/html": [
       "\n",
       "            <div style=\"display: inline-block;\">\n",
       "                <div class=\"jupyter-widgets widget-label\" style=\"text-align: center;\">\n",
       "                    Figure\n",
       "                </div>\n",
       "                <img src='data:image/png;base64,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' width=640.0/>\n",
       "            </div>\n",
       "        "
      ],
      "text/plain": [
       "Canvas(toolbar=Toolbar(toolitems=[('Home', 'Reset original view', 'home', 'home'), ('Back', 'Back to previous …"
      ]
     },
     "metadata": {},
     "output_type": "display_data"
    }
   ],
   "source": [
    "x = np.linspace(0, 2 * np.pi, 100)\n",
    " \n",
    "fig, ax = plt.subplots()\n",
    "line, = ax.plot(x, np.sin(x))\n",
    "ax.grid(True)\n",
    " \n",
    "def update(change):\n",
    "    line.set_ydata(np.sin(change.new * x))\n",
    "    fig.canvas.draw()\n",
    "     \n",
    "int_slider = widgets.IntSlider(\n",
    "    value=1, \n",
    "    min=0, max=10, step=1,\n",
    "    description='$\\omega$',\n",
    "    continuous_update=False\n",
    ")\n",
    "int_slider.observe(update, 'value')\n",
    "int_slider"
   ]
  },
  {
   "cell_type": "code",
   "execution_count": 29,
   "metadata": {},
   "outputs": [
    {
     "data": {
      "application/vnd.jupyter.widget-view+json": {
       "model_id": "041e762ecb544e68a4efc50f6021a774",
       "version_major": 2,
       "version_minor": 0
      },
      "text/plain": [
       "Button(description='Add Node', style=ButtonStyle())"
      ]
     },
     "metadata": {},
     "output_type": "display_data"
    },
    {
     "data": {
      "application/vnd.jupyter.widget-view+json": {
       "model_id": "1ebc657e5309464db83946bfe7526e4f",
       "version_major": 2,
       "version_minor": 0
      },
      "image/png": "[encoded data removed]",
      "text/html": [
       "\n",
       "            <div style=\"display: inline-block;\">\n",
       "                <div class=\"jupyter-widgets widget-label\" style=\"text-align: center;\">\n",
       "                    Figure\n",
       "                </div>\n",
       "                <img src='data:image/png;base64,iVBORw0KGgoAAAANSUhEUgAAAoAAAAHgCAYAAAA10dzkAAAAOXRFWHRTb2Z0d2FyZQBNYXRwbG90bGliIHZlcnNpb24zLjcuMSwgaHR0cHM6Ly9tYXRwbG90bGliLm9yZy/bCgiHAAAACXBIWXMAAA9hAAAPYQGoP6dpAAA+9UlEQVR4nO3de5Qcd33n/U9V32em56qRRqORJUuyLDnGliNBwMY2FwF+YrMhF3PJwex5uB6eAFmyYCDJwnL2OWb3CXvCbtZJMEl2Dw8O7APEgO2QbMTFGNusLRmZi2VbliwxkmakGc2tp6fvVc8f4xlr1NWjnu7qrq6u9+ucOWJqZqp+baTWR9/v72LYtm0LAAAAgWF6PQAAAAA0FwEQAAAgYAiAAAAAAUMABAAACBgCIAAAQMAQAAEAAAKGAAgAABAwBEAAAICAIQACAAAEDAEQAAAgYAiAAAAAAUMABAAACBgCIAAAQMAQAAEAAAKGAAgAABAwBEAAAICAIQACAAAEDAEQAAAgYAiAAAAAAUMABAAACBgCIAAAQMAQAAEAAAKGAAgAABAwBEAAAICAIQACAAAEDAEQAAAgYAiAAAAAAUMABAAACBgCIAAAQMAQAAEAAAKGAAgAABAwBEAAAICAIQACAAAEDAEQAAAgYAiAAAAAAUMABAAACBgCIAAAQMAQAAEAAAKGAAgAABAwBEAAAICAIQACAAAEDAEQAAAgYAiAAAAAAUMABAAACBgCIAAAQMAQAAEAAAKGAAgAABAwBEAAAICAIQACAAAEDAEQAAAgYAiAAAAAAUMABAAACBgCIAAAQMAQAAEAAAKGAAgAABAwBEAAAICAIQACAAAEDAEQAAAgYAiAAAAAAUMABAAACBgCIAAAQMCEvR4AcDHbtlWypaJty7Ik05TChqGQIRmG4fXwAADwPQIgPGXbtqZyJY0vFDW+UNTYQlHjmaKKVvn3hk1pKBHWxo6whl786I+FCIUAAKyRYdu27fUgEDzTuZJ+OpnVU+ezypUWfwuakhxyX5kLvy8WMnTtQFzXrYurLxZq0GgBAGgvBEA0jWXbOjaX16GJrE6kCjIkufGbb+k+W5MR7R2Ma3t3VCZVQQAAKiIAoilG5wt68GRKM3nLteB3saX79kZN3bolqc1dkQY8BQAA/yMAoqEKlq2HzqR1cCLbsOB3saXn7BuM6+bhTkVMqoEAAFyIAIiGGZ0v6IGTKc3lraYEv4sZkrqjpm6jGggAwAoEQDTEwYmMDpxKN63qV8nS8/ePdGrfYMLDkQAA0DoIgHCVbdt69GxGD48teD2UMjdu7ND1GxJsGwMACDxOAoGrWjX8SdLDYwt69GzG62EAAOA5AiBcc/Bc64a/JQ+PLejgBCEQABBsBEC4YnS+oAOn014PoyoHTqU1Ol/wehgAAHiGAIi6FSxbD5xMyS8z6wxJD5xMqWAx/RUAEEwEQNTtoTNpz7Z6qYUtaS5v6Udn/FGxBADAbQRA1GV0vqCDE1nfhL8ltqQnJrK0ggEAgUQARM0s29aDPmr9XsyQ9ODJlCx2QgIABAwBEDU7NpfXjI9avxezJc3kLR2fowoIAAgWAiBqdujF8339zJB0iG1hAAABE/Z6APCn6VxJJ1LuV87mpyf1H990jUrFlfd+1xfu1e6b3uj682xJL6QKms6V1BcLuX5/AABaERVA1OSnk42p/h1+8Btl4U+Snrz/qw142iJD0uHJbMPuDwB+Z9u2ipatbMnSQsFStmSpaNniNFn/ogKINbNtW0+db8zK3ycf+Jrj9SM/+l9amJ1WR0+f68+0JR0+n9Vrhjs4JxhA4Nm2ralcSeMLRY0vFDW2UNR4pqiiVf69YVMaSoS1sSOsoRc/+mMh3kt9gACINZvKlZQruR//zjzzM40998vlz0PhyHI1sFTI6/B3v6nr3/5e158rSbmSremcpf44bWAAwTSdK+mnk1k9dT67/B5vSnLIfcuKlnQqXdSZdHH5+2IhQ9cOxHXdujhTa1oYLWCs2fhCsSH3PXT/yurf6z/w8RWfP3m/c3XQLY16XQDQqizb1tHZnL72/Ky++PS0njiXWfEP/NXC34r7XPC/cyVbT5zL6ItPT+trz8/q6GyO7bZaEAEQaza+UHT9N06pUNBT3/2H5c+jiQ7d8Psf0Oar9y5fO33kKY0/f8TlJy8yDWk8QwAEEByj8wXd8/S0vnk8pZMvLupzK6Yt3edkqqBvHk/pnqen2Xi/xRAAsWZjC8Wq/1VYrSM/+melZ84vf7775lsUTXTo2lt+e8X3NaoKaNnSmTRvTgDaX8GydeDUvO49OqvZ/OK7eaPqc0v3nc1buvforA6cmucc9hZBAMSa2LbdkErZxcHu2lt+V5J0zRvfIsN86bfp4e9+Q6ViYyp145kiK9oAtLXR+YL+5si0Dk0s7nzQrHe8peccmsjqb45QDWwFBECsScmW40qweqTOn9Ozj35v+fNET592vuq1kqTkug3atu/VL33v5Dk99+j33R3Ai4rWYiUQANrRwYmM7j06qzkPT3CyJc29WA08yCb8nmIVMNak2IAK2eF//IasC6p6V7/uNoUikeXPr73lt3Xs8R8tf/7k/V9tyKbQkrT3S69QIhxWd6xbPbEedce6q/5IRpMKmax4A9BabNvWo2czenhsYfFzr8fz4q8HTqWVK9m6fkOCbWM8QADEmlhuT/6T9OT9/3PF5z8/8B09+8iBl555Ucu3kXsCPj/1gtL585f+xgq6ol2VQ2LU+XpPvKcsSEZCkUs/DACqcGH4azVL47phqMPjkQQPARBrYro8aeD0009p/PmnV1zLpmaVTc1W/JlG7glYtHJ1/fx8fl7z+XmdSZ2p6z6JcGLVamO11clYOFbXOAD428FzrRv+ljw8tqBYyNC+wYTXQwkUAiDWJOxymf5QjUe8PXn/1xoTAEv1BUC3ZIoZZYoZnU2fres+0VB0zaHRKWjGw3FaNIDPjM4XdOB02uthVOXAqbQ2JMLa3EX3o1kMm2WPWAPbtvWff3belYUgxUJed73xamVmp5ev/eH/9yMN7dhd9r2lYlF3vfHXtDAzdcnvrZWhki4L/0Cp/Jzmcpf+mM3Naj4/79rzW1nYDFfd2r64pX3hR2ekMzBBcm5uTp/85Cf1L//yL8rlctq4caPe/e53693vfrciEf6SQ2MVLFt/c2Ta0wUfa2FI6o6aeu/uPkXMYLxHeI0KINbEMAwNJcI6la5/K5YjD/3TivC3YfuuioEuFA7r1157q5647/9dvvbk/V/Tb370s3WPY8mmzpjesfPta/qZklXSfH6+qsA4l5vTXH5Os9lZx6/ZLfw2XbSKmspMaSozdelvXoVpmEpGk87zICvMkXRccBNLyjRaexODUqmkV77ylXrTm96kZDKpJ554Qn/+53+umZkZfeITn/B6eGhzD51J+yb8SS+tDv7RmbReP9Ll9XACgQCINdvYEV5x7mOtDn1n5d5/17zpLat+/zVvfMuKAHj4u9/Qmz787xQK1//b2DSk4c61V2VCZkg98R71xHvqer5t20oX0pWrjReHxgpVytnsrEp2qa6xNJJlW5rNzWo2V3mOZ7WcgmS1Le0Lg2TYbMzbYF9fn+644w4ZhiHLsvS6171OR48e1Xe/+1295z3v0bp16xryXGB0vqCDL+7z5ye2pCcmstrZG6MV3AS0gLFmv5zK6v6T7df6/Fdbkrqq39+LJmzbVraYXW5RV12ZvKCtvRQkC1YwNmrtiHSs2t5eraXdHevW+s71Vbe2r7/+eg0PD+srX/mK4vF4E14dgsaybd3z9LRmfVT9u5AhqSdq6v1X9ckMyHQRr1ABxJoNdbTnb5t2eF2GYSgRSSgRSWhD14a67pUr5tYUGit9ZIqtvdnrQmFBC4UFjc+P1/Tzn7750/qTG/9E0VC07GvZbFZ33HGHvve97ykej+stb3mLPvaxj1UMf9liVrFQLDDzJOG+Y3N5zeQbsF9Xk9iSZvKWjs8VtKOn/M8U3OP/v/HQdP2xkGIhQ7mSH/996SwWMtQXa+05Zc0WC8c0GB7UYOdgXfcplApK5VOrt7Qv0dqey8217IKb7lh3xZ11Y7GY/viP/1hvfetb9cMf/lCPPfaYxsfHtW3btrLvTefT6vpclyJmpOaW9oUfHZEOgmQAHZrIypD3mz3Xw5B0aCJDAGwwAiDWzDAMXTsQ1xPnMr5+k1liSNozwDYnjRIJRdSf6Fd/or+u+5SsUlmQrKU6mcqlXF1w0xPrqfh7xzAMXXfddbruuut0++23681vfrPuueceXXXVVert7V3xvUsBt2AVdD5zXucztW9ILi0uuKlnD8mlj65oV8svuMGi6VxJJ1KNmboxM3ZKB7/zVb1w6FFNnDiqzNyMJKmjt18btl2p7a+4Ude+6XfUu3Gk7mfZkl5IFTSdK6kvxulKjUIARE2uWxfX4+dau7VXLVvSnnXMx2p1ITOk3niveuO9dd3Hsi2l86ssuFnD3MmSXVJ3rPuSAcmyLJmmqd27d+snP/mJFhYWygJgKp+q63U5vc6Z7IxmsjN13ceQoWSswoKbVVZuO51ww1GJjfXTSferf8V8Tt/9L5/VT77+38tOZZKkuXNjmjs3pqM/+aEe+h9/oU//8KgrzzUkHZ7M6rWbOl25H8oRAFGTvlhIW5MRnUwVfF0FNCRtTUb4V2aAmIapZCypZCypTdpU831s21ammFHICDkGm7/8y7/U1Vdfrb1798q2bf3gBz/QX/zFX+jjH/+44wrgeoNao9iylwNvvTojnTW3tC/84KjEcrZt66nzWVffjwu5rP7ug7+nE4f/94rrsc4ubdq9R7GOTs1PTWrs6C9VzGVlu3hWqC3p8PmsXjPMVIZGIQCiZnsH4w1rNzSLLWkvxw+hBoZhqCNS+fzS0dFRff7zn9fk5KR6e3u1fv16feQjH9GHPvQhRaPlc5uu2XCNjn746Oot7ezsqvMks8XW3vojXUgrXUhrbH6srvvEw/GaW9oX/kw7HZU4lSu5Pi/7O//pkyvCn2EYet37Pqab/8+PKBJ7qWtSyGb01D/9gx75+3tcfX6uZGs6Z6k/zj/QG4FtYFAzthsAKrNtW/Pz85qZmdH8/LwMw9D27dsbegpIvpRXKpequaW99JEu+OP4sHpdeFTipdrbq20HlAgnPK9Sub091/jzR/Rf3/6aFVW9/R/8pF7/vn9b8WeK+ZzCUXdDdTtsz9WqqACiZqZh6NYtSd17tP5Nfb1gS7ptS5Lwh4YwDEPJZFLJZLJpz4yGohroGNBAx0Bd9ylaxbIguepHhRNu3J7X6LZ8Ka/JhUlNLkzWdZ+QEao8D3INJ9x0RjtrXnAzvlCUKdW9Qf+Sn/2vb60If51963Tzv/7Qqj/jdvgzDWk8U9RVIgA2AgEQddncFdG+wbgOTbg796TRDEn7BuMaYbd5oEzYDKsv0ae+RF9d97Fsa9WjEqs94WYuNyfLbt297Up2SdPZaU1npy/9zaswZKy5nb3U0j42t0WWIlp8d6vfycOPr/h8+ytudD3gXYplS2fS/p5m1MoIgKjbzcOdOjqb9825k0uHjt80zOoyoJEu3IqmHrZta6GwUHNL+8KfKVr1n2PeKLbsmo9K/OxvnlQ07N6+efNTEys+7xve7Nq912I8U5Rt25632NsRARB1i5iGbvNRK3ip9RsxeUMB/MAwDHVGO9UZ7dTG5Maa73PhUYm17CF54UeulHPxFdYnZEYVDVdekOQKj5YLFK3FSmCIt2vXEQDhis1dEe0f6dSBU60/eXz/SCcHjQMB5PZRiW6ccLNQWKj7dYVN91uzXf2DOnf82eXPp8+Muv6MahVtWyGXWtt4CQEQrtk3mFCuZOvhsfrf0Brlxo0d2se2LwDqFAvHFAvHtK6jfE/HtShaxbpa2ottbff/Kt+y5xU6fvDHy58fe/zhhqzyrUbJksROMK5jGxi4yrZtPXo205Ih8KaNHXrVBu+3awAAN2VLlr7wsylX79kq28BI0kev6VcsxHGEbuO/KFxlGIZuGOrQ/pHFBRZeR62l5+8f6dT1Q+woD6D9hBvwvja0Y7f2vvntK65976//kw588c9UyK3ccLyQzeiJb31Fd7/zja6PQ2rM6wMVQDTQ6HxBD5xMebY6eGm1721bksz5A9C2bNvWf/7ZeRVd3imnkM3o7/6v2x2Pghu56jpFl46Ce+4XKuayind16zM/OubqGMKm9G+vGeAf7w1AAERDFSxbD51J6+CE+4eUV7L0nJcPxnXTcCerfQG0va88N6NTafe3uCnmc/rHL/x7/e+v/3dZpdKq35vo7tWnf3jU1eePdIb1zp29rt4TiwiAaIrR+YIePJnSTN5qWBBcum9v1NStVP0ABMj3Ts3r0ETWtZNALjZ9ZlSHvvNVHT/0iCZPPq/M3Kxs21Zn34DWb7tS21/+au255XfVu3HEtWeaxuLiwtdtYs/WRiAAomks29bxuYIOTWT0QqrgWhBcus/lyYj2Dia0rTvC8W4AAsXts4BbBWcBNw7bwKBpTMPQjp6odvRENZ0r6fBkVo+fm5OtxUpdycrLNCKXnOthGosbg0pSLGRoz0Bce9bF1RdjnwAAwTTU0Z5/nbfr62oF/JeFJ/piIb12U6cOPHOX7vnp17Sp91oN91yrzX17tannGsdd7cOmNJQIa7gzoqFEWEMdYfXFTCYHAwi8/lhIsZChXKl9mnqxkKG+GJuVNAoBEJ46MnlEk+njmkwf11On75MkJaNJTd05o5IWNwANmYvbAJiGCHsA4MAwDF07ENcT5zK+OJP9UgxJewbivOc3ENEannpm8pmya7vW7VI4ZCoWMtURWfw1ZBq8EQDAKq5bF2+L8Cctzuvesy7u9TDaGgEQnimUCjo6Vb5lwK51uzwYDQD4W18spK3JiOcb8NfL0OKiPuZ1NxYBEJ45Pn1cRat836rd63Z7MBoA8L+9g/6vAtqS9nJme8MRAOGZI5NHHK9TAQSA2mzvjqo3avq2CmhocS/Xbd3s49poBEB4xmn+nyTtHqQCCAC1MA1Dt25J+rYKaEu6bUuSvVybgAAIzzhVAMNmWNv7tnswGgBoD5u7Ito3GPddFdDQ4hGeI5zi1BQEQHjGqQK4o3+HIiH+8ANAPW4e7lS3j1rBhqTuqKmbhjn2rVkIgPCEbds6MlFeAWT+HwDUL2Iaus1HreCl1m/E9Etk9T8CIDwxNj+mVD5Vdp0VwADgjs1dEe0f8UdFbf9IpzbT+m0qAiA84VT9k6gAAoCb9g0mdOPG8qM1W8mNGzu0j21fmo6j4OCJiiuAqQACgKuu37AYrh4eW/B4JOVu2tihV20g/HmBCiA8UWkPwCvXXdnkkQBAezMMQzcMdSy3g72eZbf0/P0jnbp+qINjPj1CBRCecKoAbkpuUnes24PRAED72zeY0IZEWA+cTGkub3myQGRpte9tW5LM+fMYFUB4wqkCyPw/AGiszV0RvXd3n/YOxiU1rxq49Jx9g3G9d3cf4a8FUAFE083l5nQmdabsOvP/AKDxIqah/SNdurI3pgdPpjSTt2RIDakILt23J2rqVqp+LYUAiKartACECiAANM/mrojef1Wfjs8VdGgioxdSBdeC4NJ9tiYj2juY0LbuCMe7tRgCIJqOM4ABoDWYhqEdPVHt6IlqOlfS4cmsDp/PKleyX/y6ZFWRCC/8vljI0J6BuPasi6svFmrg6FEPAiCajj0AAaD19MVCeu2mTr1muEPTOUvjC0WNZ4o6ky5odD4jwyhv34YNaagjrOHOiIYSYQ11hNUXM1nZ6wMEQDTdM+fLK4DdsW5t7NrowWgAABcyDEP98ZD64yFdpZgk6T/++Iv60+//O4VDMYXNmIpWTsVSTqMf/ZU2Jtd5PGLUggCIpqt0BjD/YgSA1hQLRVWyCyoVC8ppfvl6vpTzcFSoB9vAoKkKpYKOTR8ru84KYABoXbFwzPF6vpRv8kjgFgIgmur5qedVtIpl15n/BwCtKxqKOl7PUQH0LQIgmoozgAHAf2IhKoDthgCIpqp0BjAVQABoXZVawLkiFUC/IgCiqZwqgBEzom192zwYDQCgGrSA2w8BEE3lVAHc0b9DkRDHAwFAq6IF3H4IgGga27YdK4CcAAIAra1iBZAWsG8RANE0p1OnNZ+fL7u+a4D5fwDQytgGpv0QANE0nAEMAP5UqQXMHED/IgCiaTgDGAD8iRZw+yEAomkqVQAJgADQ2mgBtx8CIJrGaQXwSPeIuqJdHowGAFAttoFpPwRANI3jCmBOAAGAlsc2MO2HAIimmM3Oamx+rOw67V8AaH2cBNJ+CIBoCs4ABgD/ogXcfgiAaArOAAYA/6IF3H4IgGgK9gAEAP+qdFwnLWD/IgCiKZwqgD2xHm3o3ODBaAAAa2EapiJmeQikAuhfBEA0RaUzgA3D8GA0AIC1cloIwhxA/yIAouHypbyOTR0ru878PwDwD6eFIARA/yIAouGen3peJbtUdp0VwADgH04LQWgB+xcBEA3HGcAA4H+OFUAWgfgWARANxx6AAOB/TnMAqQD6FwEQDee0Ajgaiuryvss9GA0AoBZOLWDmAPoXARAN51QBvKL/CoXNsAejAQDUghZweyEAoqEs23IMgMz/AwB/oQXcXgiAaKjTc6eVLqTLrjP/DwD8hW1g2gsBEA3FGcAA0B7YBqa9EADRUJwBDADtwfEkEOYA+hYBEA1VaQ/AKweubPJIAAD1oAXcXgiAaKhnzpdXAC/ruUyd0U4PRgMAqBUt4PZCAERDOVUAmf8HAP7DNjDthQCIhpnOTOts+mzZdVYAA4D/UAFsLwRANEylBSBUAAHAfxwXgZRysm3bg9GgXgRANAxnAANA+3BqAUtSwSo0eSRwAwEQDcMegADQPpxawBJtYL8iAKJhnCqAffE+re9c78FoAAD1cGoBSywE8SsCIBrGqQK4a90uGYbhwWgAAPWo1AKmAuhPBEA0RK6Y0/Hp42XXmf8HAP5UqQXMZtD+RABEQxydOirLtsquM/8PAPypUgWQFrA/EQDREJwBDADtpdIcQFrA/kQARENUOgOYCiAA+BMt4PZCAERDOJ0BHA1FdXnv5R6MBgBQLxaBtBcCIBrCqQK4c2CnQmbIg9EAAOrFNjDthQAI11m2pWfPP1t2nfYvAPhXxUUgtIB9iQAI143OjmqhsFB2nS1gAMC/OAmkvRAA4bpKK4CpAAKAf9ECbi8EQLiu0hnAVAABwL9YBNJeCIBwXaUK4M6BnU0eCQDALWwD014IgHCdUwVwS88WdUY7PRgNAMANnATSXgiAcJ1TBZD5fwDgb5wE0l4IgHDVVGZK59Lnyq4z/w8A/I0WcHshAMJVrAAGgPbEIpD2QgCEqyqdAbx7kAogAPgZ28C0FwIgXEUFEADaEyeBtBcCIFzltAK4P9GvwY5BD0YDAHBLxIw4XqcF7E8EQLiq0gpgwzA8GA0AwC2GYTguBKEF7E8EQLgmW8zqhZkXyq6zAhgA2oNTG5gKoD8RAOGao+ePyrKtsuvM/wOA9uC0EIQ5gP5EAIRrOAMYANqbUwWQAOhPBEC4hhXAANDenOYA0gL2JwIgXONUAYyFYtrau7X5gwEAuM6xBcwiEF8iAMI1ThXAnQM7FTJDHowGAOA2FoG0DwIgXGHZlp6dfLbsOieAAED7cNwGhjmAvkQAhCt+NfsrZYqZsuu7Bpj/BwDtwnERCC1gXyIAwhWcAQwA7c9pDiAtYH8iAMIVrAAGgPZHC7h9EADhCqcVwIYM7RzY6cFoAACNwCKQ9kEAhCucKoBbereoI9LhwWgAAI3ANjDtgwAIVzhVADkBBADaCyeBtA8CIOo2uTCpyYXJsuvM/wOA9sJJIO2DAIi6VVoAQgUQANqL4yIQWsC+RABE3VgBDADB4NQCLlgF2bbtwWhQDwIg6sYegAAQDE6LQCTawH5EAETdnjlfXgEcSAxoXcc6D0YDAGgUpwqgxEIQPyIAom5OFUCqfwDQfpzmAEpUAP2IAIi6ZAoZnZg5UXadM4ABoP1UagGzEMR/CICoy3Pnn5Ot8sm/VAABoP1UagFTAfQfAiDqwgpgAAiOSi1g5gD6DwEQdXE6AURiD0AAaEcVF4HQAvYdAiDq4lQBjIfjuqznMg9GAwBoJLaBaR8EQNTFqQJ45cCVCpkhD0YDAGgkWsDtI+z1AOBftm3rs6/5rH5x7hd6ZvIZHZk8omcnn2X+HwC0KRaBtA8CIGpmGIbevPPN+s0rfnPFm8J8ft7DUQEAGoVtYNoHARB1CZkhhbSy3dsV7fJoNACARuIkkPbBHEAAAFAVTgJpHwRAAABQFVrA7YMACAAAqsIikPZBAERdLMvyeggAgCZhG5j2QQBE1R577DE9/vjjGh0dVSaTkSSZpqk777xTTz75pMejAwA0GieBtA9WAaNqb3/723XVVVcpHo+rt7dXGzZs0I4dO/T5z39e3d3d6u/vV29vr3p7e70eKgCgATgJpH0QAFGVdDqtrq4uPfvss3rDG96g8fFxHT16VP/8z/+scDis++67Tz/+8Y81MDCge++91+vhAgAagBZw+6AFjKp0dnbqi1/8ol7xilforW99q7797W/rxz/+sT7zmc8oEonoHe94h3bu3Knu7m6vhwoAaBAWgbQPKoCo2qtf/WrNz8/rox/9qP7wD/9Q73nPezQ3N6dt27bpYx/7mNfDAwA0GNvAtA8CIKpmWZZuueUW9fb26o477lBPT49+8YtfaPv27ctfNwxDhmF4PFIAQCOEjJAMGbJlr7hOC9h/aAGjaqZpqlgs6pWvfKW+853v6O6779bnP/957dmzZ/nrhD8AaF+GYThWAWkB+w8VQKxJOByWZVnavXu37r77bn35y1/Wb/3Wb3k9LABAk8RCMWWL2RXXqAD6DwEQa2aai4Xjq666SnfddRdVPwAIEKeFIFQA/YcAiLoshUEAQDA4tYBZBOI//O2NNStaRVk2R8ABQBA57QVIC9h/qABizf7+53+vwY5BvWzDyzScHJZp8O8IAAgKWsDtgQCINSlZJb3//vcv/2svEU5o58BOvee69+jDv/Fhj0cHAGg0WsDtgdIN1uTEzIkVpf5MMaOnzj6l6ey0h6MCADQLFcD2QAUQa/LM5DOO13ev293kkQAAvHDhHEBDi/sCRkIRD0eEWhAAsSZHJo84Xt+1bleTRwIA8MI/vfOfZMhQNBRVyAx5PRzUiACINXGqAJqGqSsGrvBgNACAZuuIdHg9BLiAOYBYE6cK4OW9lysejnswGgAAUAsCIKpm27aOTJQHwN2DzP8DAMBPCICo2sTChONq310DzP8DAMBPCICoWsUVwFQAAQDwFQIgqubU/pVYAQwAQZVKpfS3f/u3euSRR1QoFLweDtaAAIiqVaoAEgABIJjGx8f1vve9T7fffrv+7M/+TKdPn/Z6SKgSARBVc1oBvL5zvfoT/R6MBgDgtWg0qmg0qkcffVSPPfaY3v3ud+v73/++SqWS10PDJRAAUTWnCiAngABAcMViMdm2rb6+Pt1///2644479KlPfUr33HOPzp496/XwsAo2gkZV0vm0Ts6eLLtO+xcAgqdYLKpYLCqdTsswDJ08eVIbNmzQLbfcom3btun3f//39c1vflPf+ta31NXV5fVw4YAAiKo8d/45x+tUAAEgeN72trfpV7/6lQzDULFY1B133KFYLKZCoaBQKKRt27bp+9//vmZmZgiALYoAiKpwBjAAYMlv/MZvaMeOHZKkgwcP6nWve522bt0qy7IUDocVDof1tre9TX19fR6PFJUQAFEV9gAEACy58847JUn5fF733XefPvShD2n79u0ejwprQQBEVZwqgB2RDo10j3gwGgBAK4hGo3ruucUpQpZlyTCMFV+/+HO0DgIgquJUAdy1bpdMg4XkAADJNPn7wE/4fwuXVLSKjotAmP8HAIA/UQHEJZ2YOaF8KV92nRXAABA8lm2pWCpKhmTIkGEYMg2TjpDPEABxSZwBDABYMjo7qnt/fq9ypZzypbxyxcVfP7D3A3rZhpd5PTxUiQCIS6q4ApgKIAAEzsnZk/qT7/9J2fXXX/56AqCPUK/FJTmtADYNUzv6d3gwGgCAl2KhmOP1XCnX5JGgHgRAXJJTBXB733bFws5vAgCA9hUNRR2vO80VR+siAGJVtm07VgCZ/wcAwVTpH/+5IhVAPyEAYlXn0uc0k50pu878PwAIJiqA7YEAiFVxBjAA4ELMAWwPBECsijOAAQAXogXcHgiAWBV7AAIALkQLuD0QALGqZ86XVwCHuobUG+9t/mAAAJ6jBdweCIBYlVMFkOofAAQXFcD2QABERfP5eY3OjZZdZwUwAARXyAwpZITKrjMH0F8IgKjo2clnHa9TAQSAYHNaCEIL2F8IgKiIM4ABAE6c2sC0gP2FAIiK2AMQAODEaSEIFUB/IQCiIqcKYGekUyPdIx6MBgDQKqgA+h8BEBVVOgPYMAwPRgMAaBWOcwBZBOIrBEA4KlpFHT1/tOw6J4AAAGgB+x8BEI6OTx9XwSqUXd81wPw/AAg6WsD+RwCEI84ABgBUQgvY/wiAcMQZwACASqgA+h8BEI6czgAOGSHt6N/hwWgAAK2EOYD+RwCEI6cK4Pb+7RXPgAQABActYP8jAKKMbduOcwA5AQQAINECbgcEQJQZnx/XbG627Drz/wAAEi3gdkAARBnOAAYArIYKoP8RAFGGM4ABAKtxrAAyB9BXCIAoU6kCSAAEAEgVFoHQAvYVAiDKOFUAN3ZtVE+8x4PRAABajVML2LItlaySB6NBLQiAKOO4ApgTQAAAL3JqAUtUAf2EAIgVUrmUTs2dKrvOGcAAgCWV9oRlIYh/EACxwrPnn3W8TgUQALDEaQ6gxEIQPyEAYgXOAAYAXAotYP8jAGIF9gAEAFwKLWD/IwBiBacVwMloUsPJYQ9GAwBoRbSA/Y8AiBWcKoC71u2SYRgejAYA0IqoAPofARDLCqWCjk4dLbvO/D8AwIWYA+h/BEAsOz59XEWrWHad+X8AgAvRAvY/AiCWcQYwAKAatID9jwCIZRVXALMHIADgArSA/Y8AiGVOFcCwGdb2vu0ejAYA0KqoAPofARDLnCqAO/p3KBKKeDAaAECrYg6g/xEAIUmybdvxFBDm/wEALkYL2P8IgJAkjc2PKZVPlV1nBTAA4GK0gP2PAAhJnAEMAKgeLWD/IwBCEmcAAwCqV6kFTAXQPwiAkFR5D8Ar113Z5JEAAFpdpRYwcwD9gwAISc4VwE3JTeqOdXswGgBAK6MF7H8EQEhyrgAy/w8A4IRFIP5HAITmcnM6kzpTdp35fwAAJ7SA/Y8AiIoLQKgAAgCcmIapiFl+SAAVQP8gAIIzgAEAa+ZUBWQOoH8QAMEegACANXNaCEIL2D8IgNAz58srgN2xbm3s2ujBaAAAfuBUAaQF7B8EQFQ8A9gwDA9GAwDwA6fNoKkA+gcBMOAKpYKOTR8ru84KYADAapxawFQA/YMAGHDPTz2volUsu878PwDAalgE4m8EwIDjDGAAQC1oAfsbATDgKp0BTAUQALAaFoH4GwEw4JwqgBEzom192zwYDQDALxy3gaEF7BsEwIBzqgDu6N+hSKh8h3cAAJY4tYCpAPoHATDAbNt2rAByAggA4FIcF4EwB9A3CIABdjp1WvP5+bLruwaY/wcAWB0tYH8jAAYYZwADAGrFIhB/IwAGGGcAAwBqxTYw/kYADLBKFUACIADgUlgE4m8EwABzWgE80j2irmiXB6MBAPhJpZNAbNv2YDRYKwJggDmuAOYEEABAFZwWgdiyHY8XReshAAbUbHZWY/NjZddp/wIAquFUAZRoA/sFATCgOAMYAFAPpzmAEgtB/IIAGFCcAQwAqIdTC1iiAugXBMCAYg9AAEA9KrWA2QzaHwiAAeVUAeyJ9WhD5wYPRgMA8BtawP5GAAyoSmcAG4bhwWgAAH7DIhB/IwAGUL6U17GpY2XXmf8HAKhWpTmAtID9gQAYQM9PPa+SXSq7zgpgAEC1KrWAqQD6AwEwgDgDGABQr4qLQJgD6AsEwABiD0AAQL1oAfsbATCAnFYAR0NRXd53uQejAQD4EYtA/I0AGEBOFcAr+q9Q2Ax7MBoAgB+xDYy/EQADxrItxwDI/D8AwFpwEoi/EQAD5vTcaaUL6bLrzP8DAKwFJ4H4GwEwYDgDGADgBlrA/sakrzZn27ZKtlS0bVmWdGTymEJmVCVrZYmeM4ABAGvBIhB/IwC2Edu2NZUraXyhqPGFosYWihrPFFW0Lvim6O36v2+7Xfnigk7P/kynZp7U6ZmntL7rCtm2zVFwAICqsA2MvxEA28B0rqSfTmb11PmsciVb0mJv31rlZ6LhDm3t/w1d1vfrCplRfeX5nGKhvK4diOu6dXH1xUJNGTsAwJ84CcTfCIA+Zdm2js3ldWgiqxOpggxJ9oVfr+IehmEoZLxUws+VbD1xLqPHz2W0NRnR3sG4tndHZVIVBABchJNA/I0A6EOj8wU9eDKlmbylpWhmr/oT1Vu6z8lUQSdSBfVGTd26JanNXRGXngAAaAe0gP2NAOgjBcvWQ2fSOjiRdT34XWzpvrN5S/cendW+wbhuHu5UxKQaCACQIqZzYYAWsD8QAH1idL6gB06mNJdfbO42KvhdbOk5hyayOjqb121UAwEAWpxGFA1FywIfLWB/YB9AHzg4kdG9R2c1l7eaFvwuZkuae7EaeHAi49EoAACtxGkhCBVAf6AC2MJs29ajZzN6eGxh8XOvx/PirwdOpZUr2bp+Q4JtYwAgwJwWglAB9AcqgC3swvDXah4eW9CjZ6kEAkCQOS0EYRGIPxAAW9TBc60b/pY8PLZAOxgAAsypAkgL2B8IgC1odL6gA6fTXg+jKgdOpTU6X/B6GAAADzjNAaQF7A8EwBZTsGw9cDIlv8ysMyQ9cDKlguX1DEUAQLM5tYCpAPoDAbDFPHQm7elq37VaWh38ozP+qFgCANzjuAiEOYC+QABsIaPzBR2cyPom/C2xJT0xkaUVDAABQwvYvwiALcKybT3oo9bvxQxJD55MybL9Fl8BALViEYh/EQBbxLG5vGZ81Pq9mC1pJm/p+BxVQAAICraB8S8CYIs4dMH5vn5lSDrEtjAAEBicBOJfnATSAqZzJZ1IuVc5+9SvDzpeN0MhRRId6hncqOHd12rP//E7uvKG/a4915b0Qqqg6VxJfbGQa/cFALQmTgLxLyqALeCnk82p/lmlknLzKZ174Tkd/sev6398+B36xr//iKvPMCQdnsy6ek8AQGuiBexfBECP2batp843duXvzhter6tff5t233yLeodGVnzt0He+qmcfOeDas2xJh89nZbMYBADaXtRkEYhf0QL22FSupFypsWHpLZ/6f9Q3fJkkqVQo6K/fc5tO/eLJ5a8fe/xhV1vBuZKt6Zyl/jhtYABoZ44VQFrAvkAF0GPjC8WmPi8Uiejy61614loh6/7CjWa/LgBA81VaBEIXqPURAD02vlBs6v8JpUJBJ376kxXXRn7tOlefYRrSeIYACADtbmkRSMiMKhZOqjM6oFg4qUyRENjqDJv/hzz1ledmdCrtbli6eBXwzhter2g8IatU0plnf6GZsdHlr2297pV6z19/U+FI+TyOeox0hvXOnb2u3hMA4C3btjWVK2l8oajxhaJ+MnZMJfUpGu4o+96wKQ0lwtrYEdbQix/9sZAMw++bnrUH5gB6yLbtplTKnnvke47X+0e26vbP/oXr4U9arADats0fdABoA9O5kn46mdVT57PL89ZNSWZoWKEK7/NFSzqVLupMuijrxWuxkKFrB+K6bl2c7cI8RgD0UMle/APilalTJ/Rf3naz3vWFe7X95a929d5FS7JsKUT+AwBfsmxbx+byOjSR1YlUQYa0YscKS6rqH/kX/jWXK9l64lxGj5/LaGsyor2DcW3vjsqkWNB0BEAPFZvUfb/zgUPqG75Mtm1r7tyYfvTl/6ZHv/olSVI+s6Cvf/oP9LFvP65wtHwybz2Ktq2Q7883AYDgGZ0v6MGTKc3kreV3cbf+xlq6z8lUQSdSBfVGTd26JanNXRGXnoBqEAA9ZDW5+mcYhno2DOvNH79LRx76Z02f+ZUkafbsGf3q5we1be8Nrj7vhr+7SbGQrZ5Yj7pj3S/9Gl/98+5Yt+LhOO1jAGiygmXroTNpHbzgeNJGlSqW7jubt3Tv0VntG4zr5uFORUze+5uBAOgh08M12PGu5IrPU5PnXH/GL849pVxxvqafjZiRymExWl2I7I51KxLiX5QAUI3R+YIeOJnSXH6xOtGsFaJLzzk0kdXR2bxuoxrYFARAD4U9qnAdP/iIzh57ZsW17nUbXH9O2DBV63agBaug85nzOp85X9cYEuHEJcPixdcvvtYV7ZJpsGMSgPZ1cCKjA6fSZfP8msmWNPdiNXD/SKf2DSY8GkkwEAA9FDIWl8k3eiHItz53p6LxxItzAMd16pdPrtifqXdoRJdd83JXnxk2pdSnZlS0iprLzS1/zOZmF3/NzpZ/nne+PpubVdGqbbV0pphRZj6j8fnxml+LIUPJWLKuENkd61YinKCtDaCl2LatR89m9PDYwuLnXo/nxV8PnEorV7J1/QbeNxuFAOghwzA0lAi7vg/gxSptAyNJiZ4+vf1z9ygUcbfcPpQIyzAMRUIRDXQMaKBjoOZ72batbDFbXYi88POLrs/l5mTX8PZmy17++VM6VfPrCJvhqkLkpeZJ0tYG4JYLw1+rWRrXDUPlewyifgRAj23sCK/YI6nRQuGIEt29Wrdlu3a+6rV6xe/+a3X21R7OnJiGNNzpXkgxDEOJSEKJSEIbumpvVVu2pXQ+XXeITBfSNT2/aBU1lZnSVGaq5tcgSfFwvO4Q2RXtUshkD66LzczM6JOf/KQeeeQRzc3NadeuXfrIRz6iW2+91euhAa47eK51w9+Sh8cWFAsZtIMbgADosaGOsOvh73NPTrh8x7Wx7MUKYKsxDVPJWFLJWFKbtKnm+xStolK5VF0hcjY3q3wpX9Pzs8WsssWszqbP1vwaJCkZTVZcQFPtiu2OSEdbtWdOnz6tc+fO6TOf+Yy6u7v14IMP6o/+6I+UyWT0e7/3e2xujrYxOl/QgdO1/WO22Q6cSmtDIszCEJdxFJzHzmeL+tKRGa+H4br37+5Tf5wK02pyxdyaQ6TT1yzbu93EQ0ao8tzHKkNkT7xn+TzRVlAoFBR5cUqEbdt6wxveoHXr1ulrX/uaxyMD3FGwbP3NkWnN5S3P5/xVw5DUHTX13t19bBHjotYr0wRMfyykWMhYPlqnHcRChvpirJq9lFg4pvXh9Vrfub7me9i2rXQhXV2IfHGhjdPX5vO1bddTskuazk5rOjtd82uQpFgoVnkBTRXb/vTEe5SMJl1pay+Fv1KppFAopN7eXkmSZVkyvdy7CXDJQ2fSvgl/0kurg390Jq3Xj3R5PZy2QQD0mGEsnov4xLmMb/4wrsaQtGeATZybxTAMdUW71BXt0nByuOb7lKySUvnUJUPkpQJmrlTbxj+5Uk7n0ud0Ll3ffpRd0a6qQuSm5Ca99eq3VrxPsVhUOBzWAw88oMcee0x33XUX4Q9tYXS+oIMTWa+HsWa2pCcmstrZG6MV7BJawC1gOlfSF5+ur4LSSj5wVR+HfAdUrpi7ZFC81LY/c7k5lexSQ8d53dB1evIDTzp+bany98Mf/lDvete79M53vlOf+cxnFIs5H5X4k1M/UaaQKWuFx8PxRr4EYM0s29Y9T09r1kfVvwsZknqipt5/VR9nB7uACmAL6IuFtDUZ0clUwZd/KJcYkrYmI4S/AIuFYxoMD2qwc7Dme9i2rYXCwqoLaKpZbJPKpyo+ozvW7XjdsiyFQiHdd999+oM/+AN98IMf1J133lkx/EnSJw98Ug+dfKjsejQUXdPekU4ruLtj3QqbvE3DHcfm8prJezdnuF62pJm8peNzBe3oaZ15w37FO0uL2DsY14lUweth1MWWtJel+qiTYRjqjHaqM9qpjcmNNd+nZJU0n593DJG98V7HnzFNU1/60pf0iU98Qp/97Gf1wQ9+UOFweNXVv3O5Ocfr+VJekwuTmlyYrPk1SFJHpKOuENkT61FntJPTbKBDL57v6/dCw6GJDAHQBQTAFrG9O6reqOn70vy2buZmoDWEzJB64j3qifdU/TN/9Vd/pT/90z/V3XffrXe84x3L11eb0/q+X3+ffjX7q4qVyNncrGazszW3tRcKC1ooLGhsfqymn5cWT7OpuD9kFafYLH0eDzO/16+mcyXXigyf+vWVFX7DMGSGI4rE4kr09Klv44g27rxa17zxLbrsmn2uPHOJLemFVEHTuRLdpjoxB7CFjM4XdO/RWa+HUbN3XtGjESbnwse2bdumEydOKB6PKxaLqaOjQ9FoVJ/73Of0tre9rebwY9u2MsVMxa18LtXOXvo8lUvVdJqNWyJmpPLWPtHqQmR3rJvTbDzw/dNp1xYbXhwAV7P5Zfv01v9wt9Zdts2FJy8yJL1ifUKv3dTp2j2DiADYYg6cmtehiayvqoCGpH2DcZbnw/dKpZIWFhY0NTWl6elpTU9P6/z587r66qu1a9cur4cny7Y0n5+vK0TOZmeVKWY8fR2JcKLi1j7VbvvTFe2irV0l27b1hZ9Pubbd2MUBcOcNr1ckFld2PqXxo08rPb1y2kOss0vvvvvrrlYDYyFD/+Zl/VSk60AAbDFs0Amg0QqlQlXb/lRarb30tYLl3bxlQ4aSsWRdIbI71q1EONH2IcLtAwcuDoB3PnBIfcOXSVoMm0//8Lv69uc+rtTkS9s6dfUP6t9848fq7O13bRwcOFAf5gC2mIhp6LYtSd+0gm1Jt21JEv4AH4mEIupP9Ks/UftfxrZtK1fKVRciL7GXZC1tbVv28v1O6VTNryNshi89F7KKU21aua09vlBs2rMMw9CvvfY3Nbj1Ct39zv3KZxbPGp6fmtDDX/5vuuUjn3btWeMLRQJgHQiALWhzV0T7Rzp14FTrn9O4f6STTTmBADIMQ/FwXPGuuDZ0baj5PpZtKZ1P1x0i04Xa3i+LVlFTmSlNZaZqfg2SFA/H6w6RXdEuV06zudj4QlGm5Pq586tZf/kV2veWd+rRr96zfO3wP/2DawHQNKTxTFFXqfIWTVgdAbBF7RtMKFey9fDYgtdDqejGjR3ax7YvAOpgGqaSsaSSsaQ2aVPN9ylaRaVyqUuGyEvNk8yX8jU9P1vMKlvM6mz6bM2vQZKS0WTVK7Yrfd4R6VjR1h5bKDY1/C258tX7VwTA2fHTmhk7pd6NI3Xf27KlM2l/b53mNQJgC7t+w2K4asUQeNPGDr1qA+EPQGsIm2H1JfrUl+ir6z65Yq7uEDmXm5Nl1xa5UvmUUvmUTqdO1/waQkZoRYi8fd+DCoeafzJN71B50EtNTbgSAKXFCuBqe3RidQTAFmYYhm4Y6lAsZOjAqbTnG3guPX//SCeVPwBtKRaOaX14vdZ3rq/5HrZtK11Ir34UYhUhcj4/X9PzS3ZJ09lpTWenFUpF9Q4Pwp8k2Q4h2M2wVrQWK4Eh8l9NCIA+sG8woQ2JsB44mfJsdfDSat/btiSZ8wcAqzAMQ13RLnVFuzScHK75PiWr5Lhaey0hMlv07ui3mbHRsmtd/bUfE+mkaNsKiQRYCwKgT2zuiui9u/v00Jm0DjbxOJ+l5+wbjOum4U5W+wJAk4TMkHrjvRWPLqzGQsHSf/1FfQtcavXsjw+s+LxnaJN6h2qf5+mkZEliIXBNCIA+EjEN7R/p0pW9MT14MqWZvNWwILh0356oqVup+gGAL5ke7ZV99vizOvjtr664tueW33H9OSH2Aq8ZAdCHNndF9P6r+nR8rqBDExm9kCq4FgSX7rM1GdHewYS2dUdkMsEWAHwp3OT3b9u29fQP/lHfuuvjKmRfWsDYNTCoG9/1Idef1+zX104IgD5lGoZ29ES1oyeq6VxJhyezOnw+u3zUj2ksTo699H1e+r5YyNCegbj2rItzyDYAtIGQIYXNxQUTjfKtz92pSCyuXHpeY8/9suwouHhXt971519x9RQQafF1MSupdgTANtAXC+m1mzr1muEOTecsjS8UNZ4p6ky6oPFM0fEPftiUhhJhDXdGNJQIa6gjrL6YyXJ6AGgjhmFoKBHWqXTjTgN57pHvVfzalmtfrrf+h79U/8hW1587lAjzd1YdCIBtxDAM9cdD6o+HlndHt21blr24UqpkLc6XCBuGTMPd5fgAgNa0sSOsM+nGbgZthsOKxBPq6O5T79Ambbzyal3zxt/Wlmtf3pjnGdJwJ3PT60EAbHOGYShkaHGZPF1dAAicoY6wq+Hvc09OuHi32lj2YgUQtWP9DAAAbWyooz2DUru+rmYhAAIA0Mb6YyHF2uy4jFjIUF+MCFMP/usBANDGDMPQtQPxtjkvw5C0ZyDOPPY6EQABAGhz162Le3qWvJtsSXvWeXO+cTshAAIA0Ob6YiFtTUZ8XwU0JF2ejLBXrQsIgAAABMDeQf9XAW1JewcTXg+jLRAAAQAIgO3dUfVGTd9WAQ1JvVFT27rZ/88NBEAAAALANAzduiXp2yqgLem2LUnOp3cJARAAgIDY3BXRvkH/rQg2JL18MK6RLqp/biEAAgAQIDcPd6rbR61gQ1J31NRNw51eD6WtEAABAAiQiGnoNh+1gpdavxHTL5HVHwiAAAAEzOauiPaP+KOitn+kU5tp/bqOAAgAQADtG0zoxo0dXg9jVTdu7NA+tn1pCE5SBgAgoK7fsBiuHh5b8Hgk5W7a2KFXbSD8NYph27ZfpgEAAIAGODiR0YFTaRmSp3MDl56/f6STyl+DEQABAIBG5wt64GRKc3nLkxC4tNr3ti1J5vw1AQEQAABIkgqWrYfOpHVwItu0auDSc14+GNdNw52s9m0SAiAAAFhhdL6gB0+mNJO3GhYEl+7bGzV1K1W/piMAAgCAMpZt6/hcQYcmMnohVXAtCC7d5/JkRHsHE9rWHeF4Nw8QAAEAwKqmcyUdnszq8PmscqXF2GAaklVFgrjw+2IhQ3sG4tqzLq6+WKiBI8alEAABAEBVbNvWdM7S+EJR45mizqQLGs8UVbTKvzdsSkOJsIY7IxpKhDXUEVZfzJRBta8lEAABAEDNbNuWZUtF21bJkkKmFDYMmYYIey2MAAgAABAwHAUHAAAQMARAAACAgCEAAgAABAwBEAAAIGAIgAAAAAFDAAQAAAgYAiAAAEDAEAABAAAChgAIAAAQMARAAACAgCEAAgAABAwBEAAAIGAIgAAAAAFDAAQAAAgYAiAAAEDAEAABAAAChgAIAAAQMARAAACAgCEAAgAABAwBEAAAIGAIgAAAAAFDAAQAAAgYAiAAAEDAEAABAAAChgAIAAAQMARAAACAgCEAAgAABAwBEAAAIGAIgAAAAAFDAAQAAAgYAiAAAEDAEAABAAAChgAIAAAQMARAAACAgCEAAgAABAwBEAAAIGAIgAAAAAFDAAQAAAgYAiAAAEDAEAABAAAChgAIAAAQMARAAACAgCEAAgAABAwBEAAAIGAIgAAAAAFDAAQAAAgYAiAAAEDAEAABAAAChgAIAAAQMARAAACAgCEAAgAABAwBEAAAIGAIgAAAAAFDAAQAAAgYAiAAAEDA/P9iTefuv3s32QAAAABJRU5ErkJggg==' width=640.0/>\n",
       "            </div>\n",
       "        "
      ],
      "text/plain": [
       "Canvas(toolbar=Toolbar(toolitems=[('Home', 'Reset original view', 'home', 'home'), ('Back', 'Back to previous …"
      ]
     },
     "metadata": {},
     "output_type": "display_data"
    }
   ],
   "source": [
    "import networkx as nx\n",
    "import matplotlib.pyplot as plt\n",
    "\n",
    "fig1, ax1 = plt.subplots()\n",
    "\n",
    "G = nx.Graph()\n",
    "G.add_edge('A', 'B', weight=4)\n",
    "G.add_edge('B', 'D', weight=2)\n",
    "G.add_edge('A', 'C', weight=3)\n",
    "G.add_edge('C', 'D', weight=4)\n",
    "\n",
    "pos = nx.spring_layout(G)\n",
    "edges = G.edges()\n",
    "weights = [G[u][v]['weight'] for u,v in edges]\n",
    "\n",
    "nx.draw(G, pos, ax=ax1, with_labels=True, node_color='skyblue', node_size=1500, edgelist=edges, edge_color='g', width=weights, font_size=16, font_color='black', font_weight='bold')\n",
    "nx.draw_networkx_edge_labels(G, pos, edge_labels={(u,v):G[u][v]['weight'] for u,v in edges})\n",
    "\n",
    "def addRandomNode():\n",
    "    ax1.clear()\n",
    "    G.add_node('E')\n",
    "    G.add_edge('E', 'A', weight=1)\n",
    "    pos = nx.spring_layout(G)\n",
    "    edges = G.edges()\n",
    "    weights = [G[u][v]['weight'] for u,v in edges]\n",
    "    nx.draw(G, pos, ax=ax1, with_labels=True, node_color='skyblue', node_size=1500, edgelist=edges, edge_color='g', width=weights, font_size=16, font_color='black', font_weight='bold')\n",
    "    nx.draw_networkx_edge_labels(G, pos, edge_labels={(u,v):G[u][v]['weight'] for u,v in edges})\n",
    "\n",
    "button = widgets.Button(description=\"Add Node\")\n",
    "button.on_click(lambda x: addRandomNode())\n",
    "display(button)\n",
    "plt.show()"
   ]
  },
  {
   "cell_type": "code",
   "execution_count": 30,
   "metadata": {},
   "outputs": [
    {
     "data": {
      "application/vnd.jupyter.widget-view+json": {
       "model_id": "c3a1a9b1d9454deab96654684e926278",
       "version_major": 2,
       "version_minor": 0
      },
      "text/plain": [
       "VBox(children=(Tab(children=(GridBox(children=(Label(value=''), HBox(children=(Button(icon='minus-square', lay…"
      ]
     },
     "metadata": {},
     "output_type": "display_data"
    }
   ],
   "source": [
    "from Classes.EditableGames import EditableGames\n",
    "\n",
    "games = EditableGames(5)\n",
    "display(games.get_widget())"
   ]
  }
 ],
 "metadata": {
  "kernelspec": {
   "display_name": "Python 3",
   "language": "python",
   "name": "python3"
  },
  "language_info": {
   "codemirror_mode": {
    "name": "ipython",
    "version": 3
   },
   "file_extension": ".py",
   "mimetype": "text/x-python",
   "name": "python",
   "nbconvert_exporter": "python",
   "pygments_lexer": "ipython3",
   "version": "3.10.11"
  }
 },
 "nbformat": 4,
 "nbformat_minor": 2
}

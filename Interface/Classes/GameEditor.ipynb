{
 "cells": [
  {
   "cell_type": "code",
   "execution_count": 1,
   "metadata": {},
   "outputs": [],
   "source": [
    "#change current path to \"../../\"\n",
    "import os\n",
    "import sys\n",
    "sys.path.append(\"../../\")"
   ]
  },
  {
   "cell_type": "code",
   "execution_count": 2,
   "metadata": {},
   "outputs": [],
   "source": [
    "from Model.Environment import Game, GameObserver, Environment, TransitionProfile\n",
    "import ipywidgets as widgets\n",
    "from IPython.display import display"
   ]
  },
  {
   "cell_type": "code",
   "execution_count": 3,
   "metadata": {},
   "outputs": [],
   "source": [
    "game = Game(3, [2, 3, 3])"
   ]
  },
  {
   "cell_type": "code",
   "execution_count": 4,
   "metadata": {},
   "outputs": [],
   "source": [
    "env = Environment(2, 2)"
   ]
  },
  {
   "cell_type": "code",
   "execution_count": 5,
   "metadata": {},
   "outputs": [
    {
     "name": "stdout",
     "output_type": "stream",
     "text": [
      "Game: [2, 3, 3] \n",
      " PossibileActions:[2, 3, 3] \n",
      " NPlayers: 3 \n",
      " Transition: ['{}', '{}', '{}', '{}', '{}', '{}', '{}', '{}', '{}', '{}', '{}', '{}', '{}', '{}', '{}', '{}', '{}', '{}'] \n",
      " Payoff: [[[[0. 0. 0.]\n",
      "   [0. 0. 0.]\n",
      "   [0. 0. 0.]]\n",
      "\n",
      "  [[0. 0. 0.]\n",
      "   [0. 0. 0.]\n",
      "   [0. 0. 0.]]\n",
      "\n",
      "  [[0. 0. 0.]\n",
      "   [0. 0. 0.]\n",
      "   [0. 0. 0.]]]\n",
      "\n",
      "\n",
      " [[[0. 0. 0.]\n",
      "   [0. 0. 0.]\n",
      "   [0. 0. 0.]]\n",
      "\n",
      "  [[0. 0. 0.]\n",
      "   [0. 0. 0.]\n",
      "   [0. 0. 0.]]\n",
      "\n",
      "  [[0. 0. 0.]\n",
      "   [0. 0. 0.]\n",
      "   [0. 0. 0.]]]]\n"
     ]
    }
   ],
   "source": [
    "print(game)"
   ]
  },
  {
   "cell_type": "code",
   "execution_count": 6,
   "metadata": {},
   "outputs": [
    {
     "name": "stdout",
     "output_type": "stream",
     "text": [
      "Game: [2, 3] \n",
      " PossibileActions:[2, 3] \n",
      " NPlayers: 2 \n",
      " Transition: ['{}', '{}', '{}', '{}', '{}', '{}'] \n",
      " Payoff: [[[0. 0.]\n",
      "  [0. 0.]\n",
      "  [0. 0.]]\n",
      "\n",
      " [[0. 0.]\n",
      "  [0. 0.]\n",
      "  [0. 0.]]]\n",
      "Game: [2, 3, 1] \n",
      " PossibileActions:[2, 3, 1] \n",
      " NPlayers: 3 \n",
      " Transition: ['{}', '{}', '{}', '{}', '{}', '{}'] \n",
      " Payoff: [[[[0. 0. 0.]]\n",
      "\n",
      "  [[0. 0. 0.]]\n",
      "\n",
      "  [[0. 0. 0.]]]\n",
      "\n",
      "\n",
      " [[[0. 0. 0.]]\n",
      "\n",
      "  [[0. 0. 0.]]\n",
      "\n",
      "  [[0. 0. 0.]]]]\n",
      "{1: 0.5}\n"
     ]
    }
   ],
   "source": [
    "game.setNPlayers(2)\n",
    "print(game)\n",
    "game.setNPlayers(3)\n",
    "print(game)\n",
    "game.setTransition((0, 0, 0), 1, 0.5)"
   ]
  },
  {
   "cell_type": "code",
   "execution_count": 7,
   "metadata": {},
   "outputs": [],
   "source": [
    "nPlayersWidget = widgets.IntSlider(\n",
    "    value=game.NPlayers,\n",
    "    min=2,\n",
    "    max=4,\n",
    "    step=1,\n",
    "    description='Number of players:',\n",
    ")"
   ]
  },
  {
   "cell_type": "code",
   "execution_count": 8,
   "metadata": {},
   "outputs": [],
   "source": [
    "nPlayersWidget.observe(lambda change: game.setNPlayers(change.new), names='value')"
   ]
  },
  {
   "cell_type": "code",
   "execution_count": 9,
   "metadata": {},
   "outputs": [
    {
     "data": {
      "application/vnd.jupyter.widget-view+json": {
       "model_id": "5887d5b3be37466c97e4aeb325697703",
       "version_major": 2,
       "version_minor": 0
      },
      "text/plain": [
       "IntSlider(value=3, description='Number of players:', max=4, min=2)"
      ]
     },
     "metadata": {},
     "output_type": "display_data"
    }
   ],
   "source": [
    "display(nPlayersWidget)"
   ]
  },
  {
   "cell_type": "code",
   "execution_count": 10,
   "metadata": {},
   "outputs": [],
   "source": [
    "class ActionProfileWidget(GameObserver):\n",
    "    def __init__(self, game, on_change=None):\n",
    "        self.game = game\n",
    "        self.on_change = on_change\n",
    "        self.box = widgets.HBox()\n",
    "        self.widgets = []\n",
    "\n",
    "        game.attach(self)\n",
    "\n",
    "        self.update(game)\n",
    "            \n",
    "        display(self.box)\n",
    "        \n",
    "    def getWidget(self):\n",
    "        return self.box\n",
    "    \n",
    "    def get(self):\n",
    "        return tuple([w.value for w in self.widgets])\n",
    "    \n",
    "    def update(self, game):\n",
    "        if(game.NPlayers < len(self.widgets)):\n",
    "            self.box.children = self.box.children[:game.NPlayers]\n",
    "            self.widgets = self.widgets[:game.NPlayers]\n",
    "        else:\n",
    "            for i in range(min(game.NPlayers, len(self.widgets))):\n",
    "                self.widgets[i].max = game.possibleActions[i]-1\n",
    "\n",
    "            for i in range(max(0, game.NPlayers - len(self.widgets))):\n",
    "                newWidget = widgets.IntSlider(\n",
    "                    value=0,\n",
    "                    min=0,\n",
    "                    max=game.possibleActions[len(self.widgets)]-1,\n",
    "                    step=1,\n",
    "                    description='Player '+str(len(self.widgets))+':',\n",
    "                )\n",
    "                self.widgets.append(newWidget)\n",
    "                newWidget.observe(self.on_change, names='value')\n",
    "\n",
    "            self.box.children = self.widgets\n",
    "\n",
    "    def setOnChange(self, on_change):\n",
    "        self.on_change = on_change\n",
    "        for w in self.widgets:\n",
    "            w.observe(on_change, names='value')\n",
    "        \n"
   ]
  },
  {
   "cell_type": "code",
   "execution_count": 11,
   "metadata": {},
   "outputs": [
    {
     "data": {
      "application/vnd.jupyter.widget-view+json": {
       "model_id": "5887d5b3be37466c97e4aeb325697703",
       "version_major": 2,
       "version_minor": 0
      },
      "text/plain": [
       "IntSlider(value=3, description='Number of players:', max=4, min=2)"
      ]
     },
     "metadata": {},
     "output_type": "display_data"
    }
   ],
   "source": [
    "display(nPlayersWidget)"
   ]
  },
  {
   "cell_type": "code",
   "execution_count": 12,
   "metadata": {},
   "outputs": [
    {
     "data": {
      "application/vnd.jupyter.widget-view+json": {
       "model_id": "33de00a51e824bb1b78ebe18a7f3061d",
       "version_major": 2,
       "version_minor": 0
      },
      "text/plain": [
       "HBox(children=(IntSlider(value=0, description='Player 0:', max=1), IntSlider(value=0, description='Player 1:',…"
      ]
     },
     "metadata": {},
     "output_type": "display_data"
    },
    {
     "name": "stdout",
     "output_type": "stream",
     "text": [
      "(1, 0, 0)\n",
      "(0, 0, 0)\n",
      "(1, 0, 0)\n",
      "(0, 0, 0)\n",
      "(1, 0, 0)\n",
      "(0, 0, 0)\n",
      "(1, 0, 0)\n",
      "(0, 0, 0)\n"
     ]
    }
   ],
   "source": [
    "actionProfileWidget = ActionProfileWidget(game, lambda x : print(actionProfileWidget.get()))"
   ]
  },
  {
   "cell_type": "code",
   "execution_count": 21,
   "metadata": {},
   "outputs": [],
   "source": [
    "class TransitionProbabilityWidget(GameObserver):\n",
    "    def __init__(self, game, NGames = 2, actionProfile = (0, 0), on_change=None):\n",
    "        self.game = game\n",
    "        self.NGames = NGames\n",
    "        self.on_change = on_change\n",
    "        self.box = widgets.HBox()\n",
    "        self.widgets = []\n",
    "        self.actionProfile = actionProfile\n",
    "\n",
    "        game.attach(self)\n",
    "\n",
    "        self.update(game)\n",
    "            \n",
    "        display(self.box)\n",
    "        \n",
    "    def getWidget(self):\n",
    "        return self.box\n",
    "    \n",
    "    def get(self):\n",
    "        return tuple([w.value for w in self.widgets])\n",
    "    \n",
    "    def update(self, game):\n",
    "        if(self.NGames < len(self.widgets)):\n",
    "            self.box.children = self.box.children[:game.NGames]\n",
    "            self.widgets = self.widgets[:game.NGames]\n",
    "        else:\n",
    "            nexts, ps = game.getTransition(self.actionProfile).getTransitions()\n",
    "\n",
    "            for i in range(max(0, self.NGames - len(self.widgets))):\n",
    "                val = 0\n",
    "                if(len(self.widgets) in nexts):\n",
    "                    val = game.getTransition(self.actionProfile).getProbability(len(self.widgets))\n",
    "\n",
    "                newWidget = widgets.BoundedFloatText(\n",
    "                    value=val,\n",
    "                    min=0,\n",
    "                    max=1,\n",
    "                    step=0.01,\n",
    "                    description='Game '+str(len(self.widgets))+':',\n",
    "                )\n",
    "                self.widgets.append(newWidget)\n",
    "                newWidget.observe(lambda change : \n",
    "                                    self.setTransitionProbs(),\n",
    "                                    names='value')\n",
    "                \n",
    "            for i in range(min(self.NGames, len(self.widgets))):\n",
    "                if i not in nexts:\n",
    "                    self.widgets[i].value = 0\n",
    "\n",
    "            for n, p  in zip(nexts, ps):\n",
    "                self.widgets[n].value = p\n",
    "\n",
    "            self.box.children = self.widgets\n",
    "\n",
    "    def setTransitionProbs(self):\n",
    "        tp = TransitionProfile({})\n",
    "\n",
    "        for i, w in enumerate(self.widgets):\n",
    "            if(w.value > 0):\n",
    "                tp.setTransition(i, w.value)\n",
    "\n",
    "        self.game.setTransitionProfile(self.actionProfile, tp)\n",
    "\n",
    "\n",
    "    def updateActionProfile(self, actionProfile):\n",
    "        self.actionProfile = actionProfile\n",
    "        transitionProfile = game.getTransition(tuple(actionProfile))\n",
    "        nextGames, porobabilities = transitionProfile.getTransitions()\n",
    "\n",
    "        for (i, w) in enumerate(self.widgets):\n",
    "            if(i not in nextGames):\n",
    "                w.value = 0\n",
    "        \n",
    "        for g, p in zip(nextGames, porobabilities):\n",
    "            self.widgets[g].value = p"
   ]
  },
  {
   "cell_type": "code",
   "execution_count": 22,
   "metadata": {},
   "outputs": [
    {
     "data": {
      "application/vnd.jupyter.widget-view+json": {
       "model_id": "03af240d1ce1401382fd6447bb14fa6f",
       "version_major": 2,
       "version_minor": 0
      },
      "text/plain": [
       "HBox(children=(BoundedFloatText(value=0.569953510920383, description='Game 0:', max=1.0, step=0.01), BoundedFl…"
      ]
     },
     "metadata": {},
     "output_type": "display_data"
    }
   ],
   "source": [
    "transitionProbabilityWidget = TransitionProbabilityWidget(game, 2, actionProfileWidget.get(), lambda p, next : game.setTransition(actionProfileWidget.get(), next, p))"
   ]
  },
  {
   "cell_type": "code",
   "execution_count": 15,
   "metadata": {},
   "outputs": [],
   "source": [
    "actionProfileWidget.setOnChange(lambda x : transitionProbabilityWidget.updateActionProfile(actionProfileWidget.get()))"
   ]
  },
  {
   "cell_type": "code",
   "execution_count": 16,
   "metadata": {},
   "outputs": [
    {
     "data": {
      "application/vnd.jupyter.widget-view+json": {
       "model_id": "33de00a51e824bb1b78ebe18a7f3061d",
       "version_major": 2,
       "version_minor": 0
      },
      "text/plain": [
       "HBox(children=(IntSlider(value=0, description='Player 0:', max=1), IntSlider(value=0, description='Player 1:',…"
      ]
     },
     "metadata": {},
     "output_type": "display_data"
    }
   ],
   "source": [
    "display(actionProfileWidget.getWidget())"
   ]
  },
  {
   "cell_type": "code",
   "execution_count": 17,
   "metadata": {},
   "outputs": [],
   "source": [
    "class GameEditor:\n",
    "    nPlayers = 1\n",
    "    def __init__(self, nPlayers:int=1):\n",
    "        self.nPlayers = nPlayers\n",
    "\n",
    "\n",
    "    def getWidget(self):\n",
    "        return self.nPlayers"
   ]
  }
 ],
 "metadata": {
  "kernelspec": {
   "display_name": "Python 3",
   "language": "python",
   "name": "python3"
  },
  "language_info": {
   "codemirror_mode": {
    "name": "ipython",
    "version": 3
   },
   "file_extension": ".py",
   "mimetype": "text/x-python",
   "name": "python",
   "nbconvert_exporter": "python",
   "pygments_lexer": "ipython3",
   "version": "3.10.11"
  }
 },
 "nbformat": 4,
 "nbformat_minor": 2
}

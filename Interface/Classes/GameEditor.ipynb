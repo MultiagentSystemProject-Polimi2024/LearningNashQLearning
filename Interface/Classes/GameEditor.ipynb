{
 "cells": [
  {
   "cell_type": "code",
   "execution_count": 1,
   "metadata": {},
   "outputs": [],
   "source": [
    "#change current path to \"../../\"\n",
    "import os\n",
    "import sys\n",
    "sys.path.append(\"../../\")"
   ]
  },
  {
   "cell_type": "code",
   "execution_count": 2,
   "metadata": {},
   "outputs": [],
   "source": [
    "from Model.Environment import Game, GameObserver, Environment, TransitionProfile, EnvironmentObserver\n",
    "import ipywidgets as widgets\n",
    "from IPython.display import display"
   ]
  },
  {
   "cell_type": "code",
   "execution_count": 3,
   "metadata": {},
   "outputs": [
    {
     "name": "stdout",
     "output_type": "stream",
     "text": [
      "Set Possible Actions [2, 3, 3]\n"
     ]
    }
   ],
   "source": [
    "game = Game(3, [2, 3, 3])"
   ]
  },
  {
   "cell_type": "code",
   "execution_count": 4,
   "metadata": {},
   "outputs": [
    {
     "name": "stdout",
     "output_type": "stream",
     "text": [
      "Set Possible Actions [3, 3, 3]\n"
     ]
    }
   ],
   "source": [
    "game.setPossibleActions([3, 3, 3])"
   ]
  },
  {
   "cell_type": "code",
   "execution_count": 5,
   "metadata": {},
   "outputs": [],
   "source": [
    "import numpy as np"
   ]
  },
  {
   "cell_type": "code",
   "execution_count": 6,
   "metadata": {},
   "outputs": [
    {
     "data": {
      "text/plain": [
       "(3, 3, 3)"
      ]
     },
     "execution_count": 6,
     "metadata": {},
     "output_type": "execute_result"
    }
   ],
   "source": [
    "a = np.ones((2, 3, 3))\n",
    "a = np.pad(a, ((0, 1), (0, 0), (0, 0)), mode='constant', constant_values=0)\n",
    "a.shape"
   ]
  },
  {
   "cell_type": "code",
   "execution_count": 7,
   "metadata": {},
   "outputs": [
    {
     "name": "stdout",
     "output_type": "stream",
     "text": [
      "Set Possible Actions (1, 1)\n",
      "Set Possible Actions (1, 1)\n"
     ]
    }
   ],
   "source": [
    "env = Environment(2, 2)"
   ]
  },
  {
   "cell_type": "code",
   "execution_count": 8,
   "metadata": {},
   "outputs": [
    {
     "name": "stdout",
     "output_type": "stream",
     "text": [
      "Game: [3, 3, 3] \n",
      " PossibileActions:[3, 3, 3] \n",
      " NPlayers: 3 \n",
      " Transition: ['{}', '{}', '{}', '{}', '{}', '{}', '{}', '{}', '{}', '{}', '{}', '{}', '{}', '{}', '{}', '{}', '{}', '{}', '{}', '{}', '{}', '{}', '{}', '{}', '{}', '{}', '{}'] \n",
      " Payoff: [[[[0. 0. 0.]\n",
      "   [0. 0. 0.]\n",
      "   [0. 0. 0.]]\n",
      "\n",
      "  [[0. 0. 0.]\n",
      "   [0. 0. 0.]\n",
      "   [0. 0. 0.]]\n",
      "\n",
      "  [[0. 0. 0.]\n",
      "   [0. 0. 0.]\n",
      "   [0. 0. 0.]]]\n",
      "\n",
      "\n",
      " [[[0. 0. 0.]\n",
      "   [0. 0. 0.]\n",
      "   [0. 0. 0.]]\n",
      "\n",
      "  [[0. 0. 0.]\n",
      "   [0. 0. 0.]\n",
      "   [0. 0. 0.]]\n",
      "\n",
      "  [[0. 0. 0.]\n",
      "   [0. 0. 0.]\n",
      "   [0. 0. 0.]]]\n",
      "\n",
      "\n",
      " [[[0. 0. 0.]\n",
      "   [0. 0. 0.]\n",
      "   [0. 0. 0.]]\n",
      "\n",
      "  [[0. 0. 0.]\n",
      "   [0. 0. 0.]\n",
      "   [0. 0. 0.]]\n",
      "\n",
      "  [[0. 0. 0.]\n",
      "   [0. 0. 0.]\n",
      "   [0. 0. 0.]]]]\n"
     ]
    }
   ],
   "source": [
    "print(game)"
   ]
  },
  {
   "cell_type": "code",
   "execution_count": 9,
   "metadata": {},
   "outputs": [],
   "source": [
    "nPlayersWidget = widgets.IntSlider(\n",
    "    value=game.NPlayers,\n",
    "    min=2,\n",
    "    max=4,\n",
    "    step=1,\n",
    "    description='Number of players:',\n",
    ")"
   ]
  },
  {
   "cell_type": "code",
   "execution_count": 10,
   "metadata": {},
   "outputs": [],
   "source": [
    "nPlayersWidget.observe(lambda change: game.setNPlayers(change.new), names='value')"
   ]
  },
  {
   "cell_type": "code",
   "execution_count": 11,
   "metadata": {},
   "outputs": [
    {
     "data": {
      "application/vnd.jupyter.widget-view+json": {
       "model_id": "8ce0a810a4f64f8f844307f2cfa04333",
       "version_major": 2,
       "version_minor": 0
      },
      "text/plain": [
       "IntSlider(value=3, description='Number of players:', max=4, min=2)"
      ]
     },
     "metadata": {},
     "output_type": "display_data"
    }
   ],
   "source": [
    "display(nPlayersWidget)"
   ]
  },
  {
   "cell_type": "code",
   "execution_count": 12,
   "metadata": {},
   "outputs": [],
   "source": [
    "class ActionDomainsWidgets(GameObserver):\n",
    "    def __init__(self, games:list, observeFirst:bool = True, title:str=\"Action domains\"):\n",
    "        self.games = games\n",
    "        self.widgets = []\n",
    "\n",
    "        self.isUpdating = False\n",
    "\n",
    "        self.box = widgets.GridBox(layout=widgets.Layout(grid_template_columns=\"repeat(2, 50%)\"))\n",
    "\n",
    "        self.title = widgets.HTML(value=f\"<h2>{title}</h2>\")\n",
    "\n",
    "        self.widget = widgets.VBox([self.title, self.box])\n",
    "\n",
    "        self.update(games[0])\n",
    "        \n",
    "        if(observeFirst):\n",
    "            games[0].attach(self)\n",
    "        \n",
    "    def update(self, game):\n",
    "        if(game.NPlayers < len(self.widgets)):\n",
    "            self.box.children = self.box.children[:game.NPlayers]\n",
    "            self.widgets = self.widgets[:game.NPlayers]\n",
    "        elif(game.NPlayers > len(self.widgets)):\n",
    "            for i in range(min(game.NPlayers, len(self.widgets))):\n",
    "                self.widgets[i].value = game.possibleActions[i]\n",
    "\n",
    "            self.isUpdating = True\n",
    "            for i in range(max(0, game.NPlayers - len(self.widgets))):\n",
    "                newWidget = widgets.IntSlider(\n",
    "                    value=game.possibleActions[len(self.widgets)],\n",
    "                    min=1,\n",
    "                    max=10,\n",
    "                    step=1,\n",
    "                    description='Player '+str(len(self.widgets))+':',\n",
    "                )\n",
    "                self.widgets.append(newWidget)\n",
    "                newWidget.observe(lambda change : self.setPossibleActions(), names='value')\n",
    "            self.isUpdating = False\n",
    "\n",
    "            self.box.children = self.widgets\n",
    "\n",
    "        #check if the possible actions are the same\n",
    "        if(game.possibleActions != self.getPossibleActions()):\n",
    "            self.setWidgetPossibleActions(game.possibleActions)\n",
    "\n",
    "\n",
    "    def getWidget(self):\n",
    "        return self.widget\n",
    "    \n",
    "    def getPossibleActions(self):\n",
    "        return [w.value for w in self.widgets]\n",
    "    \n",
    "    def setWidgetPossibleActions(self, actions):\n",
    "        self.isUpdating = True\n",
    "        for i in range(len(actions)):\n",
    "            self.widgets[i].value = actions[i]\n",
    "        self.isUpdating = False\n",
    "\n",
    "    def setPossibleActions(self):\n",
    "        if(self.isUpdating):\n",
    "            return\n",
    "        \n",
    "        actions = [w.value for w in self.widgets]\n",
    "\n",
    "        for game in self.games:\n",
    "            game.setPossibleActions(actions)\n",
    "\n",
    "    def setGames(self, games):\n",
    "        self.games = games"
   ]
  },
  {
   "cell_type": "code",
   "execution_count": 13,
   "metadata": {},
   "outputs": [
    {
     "data": {
      "application/vnd.jupyter.widget-view+json": {
       "model_id": "5fefe54eb96f4cde88c8981edac3100f",
       "version_major": 2,
       "version_minor": 0
      },
      "text/plain": [
       "VBox(children=(HTML(value='<h2>Action domains</h2>'), GridBox(children=(IntSlider(value=3, description='Player…"
      ]
     },
     "metadata": {},
     "output_type": "display_data"
    }
   ],
   "source": [
    "actionDomainsWidgets = ActionDomainsWidgets([game])\n",
    "display(actionDomainsWidgets.getWidget())"
   ]
  },
  {
   "cell_type": "code",
   "execution_count": 14,
   "metadata": {},
   "outputs": [],
   "source": [
    "class ActionProfileWidget(GameObserver):\n",
    "    def __init__(self, game, on_change_callbacks=[]):\n",
    "        self.game = game\n",
    "        self.box = widgets.GridBox(layout=widgets.Layout(grid_template_columns=\"repeat(2, 50%)\"))\n",
    "        self.widgets = []\n",
    "\n",
    "        self.on_change_callbacks = on_change_callbacks\n",
    "\n",
    "        self.title = widgets.HTML(value=\"<h2>Action Profile Selection</h2>\")\n",
    "\n",
    "        self.widget = widgets.VBox([self.title, self.box])\n",
    "\n",
    "        game.attach(self)\n",
    "\n",
    "        self.update(game)\n",
    "            \n",
    "        \n",
    "    def getWidget(self):\n",
    "        return self.widget\n",
    "    \n",
    "    def get(self):\n",
    "        return tuple([w.value for w in self.widgets])\n",
    "    \n",
    "    def update(self, game):\n",
    "        if(game.NPlayers < len(self.widgets)):\n",
    "            self.box.children = self.box.children[:game.NPlayers]\n",
    "            self.widgets = self.widgets[:game.NPlayers]\n",
    "        else:\n",
    "            for i in range(min(game.NPlayers, len(self.widgets))):\n",
    "                self.widgets[i].max = game.possibleActions[i]-1\n",
    "\n",
    "            for i in range(max(0, game.NPlayers - len(self.widgets))):\n",
    "                newWidget = widgets.IntSlider(\n",
    "                    value=0,\n",
    "                    min=0,\n",
    "                    max=game.possibleActions[len(self.widgets)]-1,\n",
    "                    step=1,\n",
    "                    description='Player '+str(len(self.widgets))+':',\n",
    "                )\n",
    "                self.widgets.append(newWidget)\n",
    "                newWidget.observe(self.onChange, names='value')\n",
    "\n",
    "            self.box.children = self.widgets\n",
    "\n",
    "    def setOnChanges(self):\n",
    "        for w in self.widgets:\n",
    "            w.observe(self.onChange, names='value')\n",
    "\n",
    "    def addOnChangeCallback(self, callback):\n",
    "        self.on_change_callbacks.append(callback)\n",
    "        for w in self.widgets:\n",
    "            w.observe(callback, names='value')\n",
    "\n",
    "    def onChange(self, change):\n",
    "        for callback in self.on_change_callbacks:\n",
    "            callback(change)\n",
    "        \n"
   ]
  },
  {
   "cell_type": "code",
   "execution_count": 15,
   "metadata": {},
   "outputs": [
    {
     "data": {
      "application/vnd.jupyter.widget-view+json": {
       "model_id": "8ce0a810a4f64f8f844307f2cfa04333",
       "version_major": 2,
       "version_minor": 0
      },
      "text/plain": [
       "IntSlider(value=3, description='Number of players:', max=4, min=2)"
      ]
     },
     "metadata": {},
     "output_type": "display_data"
    }
   ],
   "source": [
    "display(nPlayersWidget)"
   ]
  },
  {
   "cell_type": "code",
   "execution_count": 16,
   "metadata": {},
   "outputs": [],
   "source": [
    "actionProfileWidget = ActionProfileWidget(game, [lambda x : print(actionProfileWidget.get())])"
   ]
  },
  {
   "cell_type": "code",
   "execution_count": 17,
   "metadata": {},
   "outputs": [],
   "source": [
    "class TransitionProbabilityWidget(GameObserver):\n",
    "    def __init__(self, game, NGames = 2, actionProfile = (0, 0)):\n",
    "        self.game = game\n",
    "        self.NGames = NGames\n",
    "        self.box = widgets.GridBox(layout=widgets.Layout(grid_template_columns=\"repeat(2, 50%)\"))\n",
    "        self.widgets = []\n",
    "        self.isUpdating = False\n",
    "        self.actionProfile = actionProfile\n",
    "\n",
    "        self.normalizeButton = widgets.Button(\n",
    "            description='Normalize',\n",
    "            disabled=False,\n",
    "            button_style='', # 'success', 'info', 'warning', 'danger' or ''\n",
    "            tooltip='Normalize',\n",
    "            icon='check' # (FontAwesome names without the `fa-` prefix)\n",
    "        )\n",
    "\n",
    "        self.normalizeButton.on_click(lambda x : self.normalizeProbabilities())\n",
    "\n",
    "        self.title = widgets.HTML()\n",
    "        self.updateTitle()\n",
    "\n",
    "        self.widget = widgets.VBox([self.title, self.box, self.normalizeButton])\n",
    "\n",
    "        game.attach(self)\n",
    "\n",
    "        self.update(game)\n",
    "                    \n",
    "    def getWidget(self):\n",
    "        return self.widget\n",
    "    \n",
    "    def get(self):\n",
    "        return tuple([w.value for w in self.widgets])\n",
    "    \n",
    "    def update(self, game):\n",
    "        if(self.game.NPlayers < len(self.actionProfile)):\n",
    "            self.updateActionProfile(tuple(self.actionProfile[:self.game.NPlayers]))\n",
    "        elif (self.game.NPlayers > len(self.actionProfile)):\n",
    "            self.updateActionProfile(tuple(np.pad(self.actionProfile, (0, max(0, self.game.NPlayers - len(self.actionProfile))), mode='constant', constant_values=0)))\n",
    "            \n",
    "    def normalizeProbabilities(self):\n",
    "        total = sum([w.value for w in self.widgets])\n",
    "\n",
    "        if total == 0:\n",
    "            return\n",
    "        \n",
    "        for w in self.widgets:\n",
    "            w.value /= total\n",
    "\n",
    "    def setTransitionProbs(self):\n",
    "        if(self.isUpdating):\n",
    "            return\n",
    "        \n",
    "        tp = TransitionProfile({})\n",
    "\n",
    "        for i, w in enumerate(self.widgets):\n",
    "            if(w.value > 0):\n",
    "                tp.setTransition(i, w.value)\n",
    "\n",
    "        self.game.setTransitionProfile(self.actionProfile, tp)\n",
    "\n",
    "    def updateTitle(self):\n",
    "        self.title.value = \"<h2>Transition probabilities - \"+str(self.actionProfile)+\"</h2>\"\n",
    "\n",
    "    def updateTransitionProbabilities(self, tp:dict):\n",
    "        self.isUpdating = True\n",
    "        for i, w in enumerate(self.widgets):\n",
    "            if(i in tp):\n",
    "                w.value = tp[i]\n",
    "            else:\n",
    "                w.value = 0\n",
    "        self.isUpdating = False\n",
    "\n",
    "    def updateActionProfile(self, actionProfile):\n",
    "        self.actionProfile = actionProfile\n",
    "        transitionProfile = self.game.getTransition(tuple(actionProfile))\n",
    "        tp = transitionProfile.getTransitionsDict()\n",
    "        self.updateTransitionProbabilities(tp)\n",
    "\n",
    "        self.updateTitle()\n",
    "\n",
    "    def setNGames(self, NGames):\n",
    "        self.NGames = NGames\n",
    "\n",
    "        if(self.NGames < len(self.widgets)):\n",
    "            self.box.children = self.box.children[:NGames]\n",
    "            self.widgets = self.widgets[:NGames]\n",
    "        elif(self.NGames > len(self.widgets)):\n",
    "            for i in range(max(0, self.NGames - len(self.widgets))):\n",
    "                newWidget = widgets.BoundedFloatText(\n",
    "                    value=0,\n",
    "                    min=0,\n",
    "                    max=1,\n",
    "                    step=0.01,\n",
    "                    description='Game '+str(len(self.widgets))+':',\n",
    "                )\n",
    "                self.widgets.append(newWidget)\n",
    "                newWidget.observe(lambda change : \n",
    "                                    self.setTransitionProbs(),\n",
    "                                    names='value')\n",
    "\n",
    "            self.box.children = self.widgets\n",
    "            self.updateActionProfile(self.actionProfile)\n"
   ]
  },
  {
   "cell_type": "code",
   "execution_count": 18,
   "metadata": {},
   "outputs": [],
   "source": [
    "transitionProbabilityWidget = TransitionProbabilityWidget(game, 2, actionProfileWidget.get())"
   ]
  },
  {
   "cell_type": "code",
   "execution_count": 19,
   "metadata": {},
   "outputs": [],
   "source": [
    "actionProfileWidget.addOnChangeCallback(lambda x : transitionProbabilityWidget.updateActionProfile(actionProfileWidget.get()))"
   ]
  },
  {
   "cell_type": "code",
   "execution_count": 20,
   "metadata": {},
   "outputs": [
    {
     "data": {
      "application/vnd.jupyter.widget-view+json": {
       "model_id": "ba425e5e2e5642eb92811b4b1349d20e",
       "version_major": 2,
       "version_minor": 0
      },
      "text/plain": [
       "VBox(children=(HTML(value='<h2>Action Profile Selection</h2>'), GridBox(children=(IntSlider(value=0, descripti…"
      ]
     },
     "metadata": {},
     "output_type": "display_data"
    }
   ],
   "source": [
    "display(actionProfileWidget.getWidget())"
   ]
  },
  {
   "cell_type": "code",
   "execution_count": 21,
   "metadata": {},
   "outputs": [],
   "source": [
    "class PayoffWidget(GameObserver):\n",
    "    def __init__(self, game, actionProfile = (0, 0, 0)):\n",
    "        self.game = game\n",
    "        self.box = widgets.GridBox(layout=widgets.Layout(grid_template_columns=\"repeat(2, 50%)\"))\n",
    "        self.widgets = []\n",
    "        self.actionProfile = actionProfile\n",
    "\n",
    "        self.isUpdating = False\n",
    "\n",
    "        self.title = widgets.HTML()\n",
    "        self.updateTitle()\n",
    "\n",
    "        self.widget = widgets.VBox([self.title, self.box])\n",
    "\n",
    "        game.attach(self)\n",
    "\n",
    "        self.update(game)\n",
    "                    \n",
    "    def getWidget(self):\n",
    "        return self.widget\n",
    "    \n",
    "    def get(self):\n",
    "        return tuple([w.value for w in self.widgets])\n",
    "    \n",
    "    def update(self, game):\n",
    "        if(len(self.widgets) > game.NPlayers):\n",
    "            self.widgets = self.widgets[:game.NPlayers]\n",
    "            self.box.children = self.box.children[:game.NPlayers]\n",
    "\n",
    "            self.updateActionProfile(self.actionProfile[:game.NPlayers])\n",
    "\n",
    "        elif (len(self.widgets) < game.NPlayers):\n",
    "            for i in range(0 , game.NPlayers - len(self.widgets)):\n",
    "                newWidget = widgets.FloatText(\n",
    "                    value=0,\n",
    "                    min=0,\n",
    "                    max=1,\n",
    "                    step=0.01,\n",
    "                    description='Player '+str(len(self.widgets))+':',\n",
    "                )\n",
    "                self.widgets.append(newWidget)\n",
    "                newWidget.observe(lambda change : \n",
    "                                    self.setPayoff(),\n",
    "                                    names='value')\n",
    "            self.box.children = self.widgets\n",
    "\n",
    "            self.updateActionProfile(tuple(np.pad(self.actionProfile, (0, max(0, game.NPlayers - len(self.actionProfile))), mode='constant', constant_values=0)))\n",
    "\n",
    "            #self.updateActionProfile(self.actionProfile)\n",
    "            \n",
    "    def setPayoff(self):\n",
    "        if(self.isUpdating):\n",
    "            return\n",
    "        \n",
    "        payoffs = [w.value for w in self.widgets]\n",
    "\n",
    "        self.game.setPayoff(self.actionProfile, payoffs)\n",
    "\n",
    "    def updatePayoffs(self, payoffs):\n",
    "        self.isUpdating = True\n",
    "\n",
    "        for i, w in enumerate(self.widgets):\n",
    "            w.value = payoffs[i]\n",
    "\n",
    "        self.isUpdating = False\n",
    "\n",
    "    def updateActionProfile(self, actionProfile):\n",
    "        self.actionProfile = actionProfile\n",
    "        self.updateTitle()\n",
    "        payoff = self.game.getPayoff(self.actionProfile)\n",
    "        self.updatePayoffs(payoff)\n",
    "\n",
    "    def updateTitle(self):\n",
    "        self.title.value = \"<h2>Payoffs - \"+str(self.actionProfile)+\"</h2>\"\n",
    "\n",
    "    def getWidget(self):\n",
    "        return self.widget"
   ]
  },
  {
   "cell_type": "code",
   "execution_count": 22,
   "metadata": {},
   "outputs": [],
   "source": [
    "payoffWidget = PayoffWidget(game, actionProfileWidget.get())"
   ]
  },
  {
   "cell_type": "code",
   "execution_count": 23,
   "metadata": {},
   "outputs": [],
   "source": [
    "actionProfileWidget.addOnChangeCallback(lambda x : payoffWidget.updateActionProfile(actionProfileWidget.get()))"
   ]
  },
  {
   "cell_type": "code",
   "execution_count": 24,
   "metadata": {},
   "outputs": [
    {
     "data": {
      "application/vnd.jupyter.widget-view+json": {
       "model_id": "ba425e5e2e5642eb92811b4b1349d20e",
       "version_major": 2,
       "version_minor": 0
      },
      "text/plain": [
       "VBox(children=(HTML(value='<h2>Action Profile Selection</h2>'), GridBox(children=(IntSlider(value=0, descripti…"
      ]
     },
     "metadata": {},
     "output_type": "display_data"
    }
   ],
   "source": [
    "display(actionProfileWidget.getWidget())"
   ]
  },
  {
   "cell_type": "code",
   "execution_count": 25,
   "metadata": {},
   "outputs": [],
   "source": [
    "class GameEditor:\n",
    "    nPlayers = 1\n",
    "    def __init__(self, game, NGames = 2, actionProfile = (0, 0)):\n",
    "        self.game = game\n",
    "        self.nPlayers = game.NPlayers\n",
    "\n",
    "        self.title = widgets.HTML(value=\"<h1>Game Editor</h1>\")\n",
    "\n",
    "        self.actionDomainsWidgets = ActionDomainsWidgets([game])\n",
    "\n",
    "        self.actionProfileWidget = ActionProfileWidget(game, [])\n",
    "\n",
    "        self.TransitionProbabilityWidget = TransitionProbabilityWidget(game, env.getNGames(), actionProfileWidget.get())\n",
    "        self.PayoffWidget = PayoffWidget(game, actionProfileWidget.get())\n",
    "\n",
    "        self.actionProfileWidget.addOnChangeCallback(lambda x : self.TransitionProbabilityWidget.updateActionProfile(self.actionProfileWidget.get()))\n",
    "        self.actionProfileWidget.addOnChangeCallback(lambda x : self.PayoffWidget.updateActionProfile(self.actionProfileWidget.get()))\n",
    "\n",
    "        self.box = widgets.VBox([\n",
    "            self.title,\n",
    "            self.actionDomainsWidgets.getWidget(),\n",
    "            self.actionProfileWidget.getWidget(),\n",
    "            self.TransitionProbabilityWidget.getWidget(),\n",
    "            self.PayoffWidget.getWidget()\n",
    "        ])\n",
    "\n",
    "    def getWidget(self):\n",
    "        return self.box"
   ]
  },
  {
   "cell_type": "code",
   "execution_count": 26,
   "metadata": {},
   "outputs": [],
   "source": [
    "# gameEditor = GameEditor(game)\n",
    "# display(gameEditor.getWidget())"
   ]
  },
  {
   "cell_type": "code",
   "execution_count": 27,
   "metadata": {},
   "outputs": [],
   "source": [
    "class EnvironmentWidget(EnvironmentObserver):\n",
    "    def __init__(self, env) -> None:\n",
    "        self.env = env\n",
    "\n",
    "        env.attach(self)\n",
    "\n",
    "        self.NPlayerWidget = widgets.IntSlider(\n",
    "            value=env.NPlayers,\n",
    "            min=2,\n",
    "            max=4,\n",
    "            step=1,\n",
    "            description='# Players:',\n",
    "        )\n",
    "        self.NPlayerWidget.observe(lambda change: env.setNPlayers(change.new), names='value')\n",
    "\n",
    "        self.globalActionDomainWidget = ActionDomainsWidgets(env.getGames(), False, \"Global Action Domain\")\n",
    "\n",
    "        self.NGamesWidget = widgets.IntSlider(\n",
    "            value=env.getNGames(),\n",
    "            min=1,\n",
    "            max=5,\n",
    "            step=1,\n",
    "            description='# Games:',\n",
    "        )\n",
    "\n",
    "        self.NGamesWidget.observe(lambda change: env.setNGames(change.new, self.getGloabalActionDomain()), names='value')\n",
    "\n",
    "\n",
    "        self.widgets = [\n",
    "            GameEditor(game) for game in env.getGames()\n",
    "        ]\n",
    "\n",
    "\n",
    "        self.box = widgets.Tab(\n",
    "            children=[w.getWidget() for w in self.widgets],\n",
    "        )\n",
    "\n",
    "        self.box.titles = [\"Game \" + str(i) for i in range(len(self.widgets))]\n",
    "\n",
    "        self.widget = widgets.VBox([\n",
    "            self.NPlayerWidget,\n",
    "            self.NGamesWidget,\n",
    "            self.globalActionDomainWidget.getWidget(),\n",
    "            self.box\n",
    "        ])\n",
    "\n",
    "    def getWidget(self):\n",
    "        return self.widget\n",
    "    \n",
    "    def getGloabalActionDomain(self):\n",
    "        print(\"getGloabalActionDomain - \", self.globalActionDomainWidget.getPossibleActions())\n",
    "        return self.globalActionDomainWidget.getPossibleActions()\n",
    "    \n",
    "    def updateEnv(self, env):\n",
    "        games = env.getGames()\n",
    "        for _ in range(max(0, env.getNGames() - len(self.widgets))):\n",
    "            self.widgets.append(GameEditor(games[len(self.widgets)]))\n",
    "\n",
    "        self.widgets = self.widgets[:env.getNGames()]\n",
    "\n",
    "        for w in self.widgets:\n",
    "            w.TransitionProbabilityWidget.setNGames(env.getNGames())\n",
    "            \n",
    "        self.box.children = [w.getWidget() for w in self.widgets]\n",
    "        self.box.titles = [\"Game \" + str(i) for i in range(len(self.widgets))]\n",
    "\n",
    "        self.globalActionDomainWidget.setGames(games)"
   ]
  },
  {
   "cell_type": "code",
   "execution_count": 28,
   "metadata": {},
   "outputs": [
    {
     "name": "stdout",
     "output_type": "stream",
     "text": [
      "Set Possible Actions (1, 1, 1)\n",
      "Set Possible Actions (1, 1, 1)\n"
     ]
    }
   ],
   "source": [
    "env2 = Environment(2, 3)"
   ]
  },
  {
   "cell_type": "code",
   "execution_count": 29,
   "metadata": {},
   "outputs": [
    {
     "name": "stdout",
     "output_type": "stream",
     "text": [
      "Set Possible Actions (1, 1, 1)\n",
      "Set Possible Actions (1, 1, 1)\n"
     ]
    },
    {
     "data": {
      "application/vnd.jupyter.widget-view+json": {
       "model_id": "b8a6fee8ed5d488a89396d0c7483c9b3",
       "version_major": 2,
       "version_minor": 0
      },
      "text/plain": [
       "VBox(children=(IntSlider(value=3, description='# Players:', max=4, min=2), IntSlider(value=2, description='# G…"
      ]
     },
     "metadata": {},
     "output_type": "display_data"
    }
   ],
   "source": [
    "env = Environment(NGames=2, NPlayers=3)\n",
    "\n",
    "environmentWidget = EnvironmentWidget(env)\n",
    "\n",
    "display(environmentWidget.getWidget())"
   ]
  },
  {
   "cell_type": "markdown",
   "metadata": {},
   "source": [
    "### TO BE FIXED\n",
    "- [ ] Fix global action domain for new games\n",
    "- [ ] N players Update\n",
    "- [ ] No transition probs at the beginning\n",
    "- [✅] Game 0 action domain is linked to global action domain"
   ]
  }
 ],
 "metadata": {
  "kernelspec": {
   "display_name": "Python 3",
   "language": "python",
   "name": "python3"
  },
  "language_info": {
   "codemirror_mode": {
    "name": "ipython",
    "version": 3
   },
   "file_extension": ".py",
   "mimetype": "text/x-python",
   "name": "python",
   "nbconvert_exporter": "python",
   "pygments_lexer": "ipython3",
   "version": "3.10.11"
  }
 },
 "nbformat": 4,
 "nbformat_minor": 2
}

{
 "cells": [
  {
   "cell_type": "code",
   "execution_count": 1,
   "metadata": {},
   "outputs": [],
   "source": [
    "import ipywidgets as widgets\n",
    "from IPython.display import display\n",
    "import numpy as np"
   ]
  },
  {
   "cell_type": "code",
   "execution_count": 2,
   "metadata": {},
   "outputs": [],
   "source": [
    "from Classes.PlayerSelection import PlayerSelection"
   ]
  },
  {
   "cell_type": "code",
   "execution_count": 3,
   "metadata": {},
   "outputs": [
    {
     "data": {
      "application/vnd.jupyter.widget-view+json": {
       "model_id": "382f4245ca1144429714495c81ae9807",
       "version_major": 2,
       "version_minor": 0
      },
      "text/plain": [
       "VBox(children=(Label(value='Player Selection', layout=Layout(justify_content='center', width='100%')), Box(chi…"
      ]
     },
     "metadata": {},
     "output_type": "display_data"
    }
   ],
   "source": [
    "playerSelection = PlayerSelection([2, 2])\n",
    "display(playerSelection.getWidget())"
   ]
  },
  {
   "cell_type": "code",
   "execution_count": 4,
   "metadata": {},
   "outputs": [],
   "source": [
    "TRANSITION_MATRIX = np.array(\n",
    "    [\n",
    "        # Player 1 - Action 0\n",
    "        [\n",
    "            # Player 2 - Action 0 - .1 .3\n",
    "            [\n",
    "                \n",
    "                [0, 0.5, 0, 0.5],\n",
    "                [0, 1, 0, 0],\n",
    "                [0, 0, 1, 0],\n",
    "                [0.5, 0, 0, 0.5]\n",
    "                \n",
    "            ],\n",
    "\n",
    "            # Player 2 - Action 1 .2 .3\n",
    "            [\n",
    "                \n",
    "                [1, 0, 0, 0],\n",
    "                [0, 0, 1, 0],\n",
    "                [0, 0, 0, 1],\n",
    "                [0.5, 0, 0, 0.5]\n",
    "                \n",
    "            ]\n",
    "        ],\n",
    "\n",
    "        # Player 1 - Action 1\n",
    "        [\n",
    "            # Player 2 - Action 0 .1 .4\n",
    "            [\n",
    "                \n",
    "                [1, 0, 0, 0],\n",
    "                [0, 0, 0, 1],\n",
    "                [0, 0, 0, 1],\n",
    "                [0.5, 0, 0, 0.5]\n",
    "                \n",
    "            ],\n",
    "\n",
    "            # Player 2 - Action 1 .2 .4\n",
    "            [\n",
    "                \n",
    "                [0, 0.5, 0, 0.5],\n",
    "                [0, 0, 1, 0],\n",
    "                [0, 0, 0, 1],\n",
    "                [0.5, 0, 0, 0.5]\n",
    "                \n",
    "            ]\n",
    "        ]\n",
    "    ]\n",
    ")"
   ]
  },
  {
   "cell_type": "code",
   "execution_count": 5,
   "metadata": {},
   "outputs": [
    {
     "data": {
      "text/plain": [
       "(2, 2, 4, 4)"
      ]
     },
     "execution_count": 5,
     "metadata": {},
     "output_type": "execute_result"
    }
   ],
   "source": [
    "TRANSITION_MATRIX.shape"
   ]
  },
  {
   "cell_type": "code",
   "execution_count": 6,
   "metadata": {},
   "outputs": [],
   "source": [
    "TRANSITION_MATRIX.reshape(-1, 4, 4).shape\n",
    "Q = 4"
   ]
  },
  {
   "cell_type": "code",
   "execution_count": 7,
   "metadata": {},
   "outputs": [
    {
     "data": {
      "text/plain": [
       "(4, 4, 4)"
      ]
     },
     "execution_count": 7,
     "metadata": {},
     "output_type": "execute_result"
    }
   ],
   "source": [
    "nPlayers = playerSelection.getNPlayers()\n",
    "actions = np.prod(playerSelection.getData())\n",
    "linearShape = (actions,) + (Q,) * nPlayers\n",
    "linearShape"
   ]
  },
  {
   "cell_type": "code",
   "execution_count": 8,
   "metadata": {},
   "outputs": [],
   "source": [
    "from Classes.TransitionSelection import TransitionSelection"
   ]
  },
  {
   "cell_type": "code",
   "execution_count": 9,
   "metadata": {},
   "outputs": [],
   "source": [
    "transitionSelection = TransitionSelection(TRANSITION_MATRIX, playerSelection, Q)"
   ]
  },
  {
   "cell_type": "code",
   "execution_count": 10,
   "metadata": {},
   "outputs": [
    {
     "data": {
      "application/vnd.jupyter.widget-view+json": {
       "model_id": "2a1055c0d7c54a7a9daca0d7e0c3649e",
       "version_major": 2,
       "version_minor": 0
      },
      "text/plain": [
       "VBox(children=(Label(value='Transition Selection', layout=Layout(justify_content='center', width='100%')), VBo…"
      ]
     },
     "metadata": {},
     "output_type": "display_data"
    }
   ],
   "source": [
    "display(transitionSelection.getWidget())"
   ]
  },
  {
   "cell_type": "code",
   "execution_count": 11,
   "metadata": {},
   "outputs": [
    {
     "name": "stdout",
     "output_type": "stream",
     "text": [
      "[[[[0.  0.5 0.  0.5]\n",
      "   [0.  1.  0.  0. ]\n",
      "   [0.  0.  1.  0. ]\n",
      "   [0.5 0.  0.  0.5]]\n",
      "\n",
      "  [[1.  0.  0.  0. ]\n",
      "   [0.  0.  1.  0. ]\n",
      "   [0.  0.  0.  1. ]\n",
      "   [0.5 0.  0.  0.5]]]\n",
      "\n",
      "\n",
      " [[[1.  0.  0.  0. ]\n",
      "   [0.  0.  0.  1. ]\n",
      "   [0.  0.  0.  1. ]\n",
      "   [0.5 0.  0.  0.5]]\n",
      "\n",
      "  [[0.  0.5 0.  0.5]\n",
      "   [0.  0.  1.  0. ]\n",
      "   [0.  0.  0.  1. ]\n",
      "   [0.5 0.  0.  0.5]]]]\n"
     ]
    }
   ],
   "source": [
    "print(transitionSelection.getData())"
   ]
  },
  {
   "cell_type": "code",
   "execution_count": 12,
   "metadata": {},
   "outputs": [],
   "source": [
    "from Classes.PayoffSelection import PayoffSelection"
   ]
  },
  {
   "cell_type": "code",
   "execution_count": 13,
   "metadata": {},
   "outputs": [],
   "source": [
    "# state / player1 action / player2 action / [player1 reward, player2 reward]\n",
    "PAYOFF_MATRIX = np.array([\n",
    "    # State 0\n",
    "    [\n",
    "        [ [2, 1], [0, 0] ],\n",
    "        [ [0, 0], [1, 2] ]\n",
    "    ],\n",
    "    # State 1\n",
    "    [\n",
    "        [ [1, 1], [3, 0] ],\n",
    "        [ [0, 3], [2, 2] ]\n",
    "    ],\n",
    "    # State \n",
    "    [\n",
    "        [ [2, 0], [0, 2] ],\n",
    "        [ [0, 1], [1, 0] ]\n",
    "    ],\n",
    "    # State 33\n",
    "    [\n",
    "        [ [1, 1], [0, 0] ],\n",
    "        [ [0, 0], [2, 2] ]\n",
    "    ],\n",
    "], dtype=object)"
   ]
  },
  {
   "cell_type": "code",
   "execution_count": 14,
   "metadata": {},
   "outputs": [],
   "source": [
    "payoffSelection = PayoffSelection(PAYOFF_MATRIX, playerSelection)"
   ]
  },
  {
   "cell_type": "code",
   "execution_count": 15,
   "metadata": {},
   "outputs": [
    {
     "data": {
      "application/vnd.jupyter.widget-view+json": {
       "model_id": "5b7d194732914bb09689cc32869b372e",
       "version_major": 2,
       "version_minor": 0
      },
      "text/plain": [
       "VBox(children=(Label(value='Payoff Selection', layout=Layout(justify_content='center', width='100%')), Tab(chi…"
      ]
     },
     "metadata": {},
     "output_type": "display_data"
    }
   ],
   "source": [
    "display(payoffSelection.getWidget())"
   ]
  }
 ],
 "metadata": {
  "kernelspec": {
   "display_name": "Python 3",
   "language": "python",
   "name": "python3"
  },
  "language_info": {
   "codemirror_mode": {
    "name": "ipython",
    "version": 3
   },
   "file_extension": ".py",
   "mimetype": "text/x-python",
   "name": "python",
   "nbconvert_exporter": "python",
   "pygments_lexer": "ipython3",
   "version": "3.10.11"
  }
 },
 "nbformat": 4,
 "nbformat_minor": 2
}

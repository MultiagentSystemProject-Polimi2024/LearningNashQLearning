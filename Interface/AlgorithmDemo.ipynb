{
 "cells": [
  {
   "cell_type": "code",
   "execution_count": 6,
   "metadata": {},
   "outputs": [],
   "source": [
    "import ipywidgets as widgets\n",
    "from IPython.display import display"
   ]
  },
  {
   "cell_type": "code",
   "execution_count": 7,
   "metadata": {},
   "outputs": [],
   "source": [
    "# Create the output widget to then display the matrix changes\n",
    "out = widgets.Output()"
   ]
  },
  {
   "cell_type": "code",
   "execution_count": 8,
   "metadata": {},
   "outputs": [],
   "source": [
    "from Classes.NumberInput import NumberInput\n",
    "from Classes.EditableMatrix import EditableMatrix"
   ]
  },
  {
   "cell_type": "code",
   "execution_count": 9,
   "metadata": {},
   "outputs": [
    {
     "data": {
      "application/vnd.jupyter.widget-view+json": {
       "model_id": "1266b5d662df4d9ea71c6be525c170ca",
       "version_major": 2,
       "version_minor": 0
      },
      "text/plain": [
       "VBox(children=(HBox(children=(Label(value='Number of Games - Q'), IntText(value=4))), HBox(children=(Label(val…"
      ]
     },
     "metadata": {},
     "output_type": "display_data"
    }
   ],
   "source": [
    "Q = NumberInput(\"Number of Games - Q\", 4)\n",
    "N = NumberInput(\"Number of Players - N\", 2)\n",
    "A = NumberInput(\"Number of Actions per player - A\", 2)\n",
    "\n",
    "# Implement Control Deck\n",
    "display(\n",
    "    widgets.VBox([\n",
    "        Q.getWidget(),\n",
    "        N.getWidget(),\n",
    "        A.getWidget(),\n",
    "    ])\n",
    ")"
   ]
  }
 ],
 "metadata": {
  "kernelspec": {
   "display_name": "Python 3",
   "language": "python",
   "name": "python3"
  },
  "language_info": {
   "codemirror_mode": {
    "name": "ipython",
    "version": 3
   },
   "file_extension": ".py",
   "mimetype": "text/x-python",
   "name": "python",
   "nbconvert_exporter": "python",
   "pygments_lexer": "ipython3",
   "version": "3.10.11"
  }
 },
 "nbformat": 4,
 "nbformat_minor": 2
}

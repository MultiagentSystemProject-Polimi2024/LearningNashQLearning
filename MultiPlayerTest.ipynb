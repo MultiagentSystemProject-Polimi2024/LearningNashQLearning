{
 "cells": [
  {
   "cell_type": "code",
   "execution_count": 5,
   "metadata": {},
   "outputs": [
    {
     "name": "stdout",
     "output_type": "stream",
     "text": [
      "[[1.0, 0.0], [0.0, 1.0], [1.0]]\n"
     ]
    }
   ],
   "source": [
    "import pygambit as gambit\n",
    "\n",
    "# Create a new game with three players\n",
    "game = gambit.Game.new_table([2, 2, 1])\n",
    "\n",
    "# Get the players\n",
    "player1, player2, player3 = game.players\n",
    "\n",
    "# Set the payoffs for each player\n",
    "game[0, 0, 0][player1] = 1\n",
    "game[0, 0, 0][player2] = 2\n",
    "game[0, 0, 0][player3] = 3\n",
    "\n",
    "game[1, 0, 0][player1] = 2\n",
    "game[1, 0, 0][player2] = 2\n",
    "game[1, 0, 0][player3] = 3\n",
    "\n",
    "game[0, 1, 0][player1] = 2\n",
    "game[0, 1, 0][player2] = 3\n",
    "game[0, 1, 0][player3] = 3\n",
    "\n",
    "game[1, 1, 0][player1] = 1\n",
    "game[1, 1, 0][player2] = 2\n",
    "game[1, 1, 0][player3] = 3\n",
    "# ... set the rest of the payoffs ...\n",
    "\n",
    "# Compute the Nash equilibria using the gambit.nash module\n",
    "equilibria = gambit.nash.ipa_solve(game).equilibria\n",
    "\n",
    "# Print the equilibria\n",
    "for eq in equilibria:\n",
    "    print(eq)"
   ]
  }
 ],
 "metadata": {
  "kernelspec": {
   "display_name": "Python 3",
   "language": "python",
   "name": "python3"
  },
  "language_info": {
   "codemirror_mode": {
    "name": "ipython",
    "version": 3
   },
   "file_extension": ".py",
   "mimetype": "text/x-python",
   "name": "python",
   "nbconvert_exporter": "python",
   "pygments_lexer": "ipython3",
   "version": "3.10.11"
  }
 },
 "nbformat": 4,
 "nbformat_minor": 2
}

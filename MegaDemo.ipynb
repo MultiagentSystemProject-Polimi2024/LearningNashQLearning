{
 "cells": [
  {
   "cell_type": "code",
   "execution_count": 113,
   "metadata": {},
   "outputs": [
    {
     "name": "stdout",
     "output_type": "stream",
     "text": [
      "The autoreload extension is already loaded. To reload it, use:\n",
      "  %reload_ext autoreload\n"
     ]
    }
   ],
   "source": [
    "%matplotlib widget\n",
    "from Model.Environment import Environment\n",
    "from Interface.Classes.GameEditor import EnvironmentWidget\n",
    "from Interface.Classes.EnvGraphDisplay import EnvGraphDisplay\n",
    "from Model.NashQLearning import *\n",
    "from Interface.Classes.FinalDisplay import FinalDisplay\n",
    "import ipywidgets as widgets\n",
    "from IPython.display import display\n",
    "\n",
    "# autoreload   \n",
    "%load_ext autoreload\n",
    "%autoreload 2"
   ]
  },
  {
   "cell_type": "code",
   "execution_count": 114,
   "metadata": {},
   "outputs": [
    {
     "name": "stdout",
     "output_type": "stream",
     "text": [
      "–––––––––––\n",
      "Game: [2 2] \n",
      " PossibileActions:[2 2] \n",
      " NPlayers: 2 \n",
      " Transition: ['{}', '{}', '{}', '{}'] \n",
      " Payoff: [[[0. 0.]\n",
      "  [0. 0.]]\n",
      "\n",
      " [[0. 0.]\n",
      "  [0. 0.]]]\n",
      "–––––––––––\n",
      "Game: [2 2] \n",
      " PossibileActions:[2 2] \n",
      " NPlayers: 2 \n",
      " Transition: ['{1: 1}', '{}', '{}', '{}'] \n",
      " Payoff: [[[1. 1.]\n",
      "  [0. 0.]]\n",
      "\n",
      " [[0. 0.]\n",
      "  [0. 0.]]]\n",
      "–––––––––––\n",
      "Game: [2 2] \n",
      " PossibileActions:[2 2] \n",
      " NPlayers: 2 \n",
      " Transition: ['{1: 1}', '{}', '{0: 1}', '{}'] \n",
      " Payoff: [[[1. 1.]\n",
      "  [0. 0.]]\n",
      "\n",
      " [[0. 0.]\n",
      "  [0. 0.]]]\n",
      "–––––––––––\n",
      "Game: [2 2] \n",
      " PossibileActions:[2 2] \n",
      " NPlayers: 2 \n",
      " Transition: ['{1: 1}', '{0: 1}', '{0: 1}', '{}'] \n",
      " Payoff: [[[1. 1.]\n",
      "  [0. 0.]]\n",
      "\n",
      " [[0. 0.]\n",
      "  [0. 0.]]]\n",
      "–––––––––––\n",
      "Game: [2 2] \n",
      " PossibileActions:[2 2] \n",
      " NPlayers: 2 \n",
      " Transition: ['{1: 1}', '{0: 1}', '{0: 1}', '{0: 1}'] \n",
      " Payoff: [[[ 1.  1.]\n",
      "  [ 0.  0.]]\n",
      "\n",
      " [[ 0.  0.]\n",
      "  [-1. -1.]]]\n",
      "–––––––––––\n",
      "Game: [2 2] \n",
      " PossibileActions:[2 2] \n",
      " NPlayers: 2 \n",
      " Transition: ['{}', '{}', '{}', '{}'] \n",
      " Payoff: [[[0. 0.]\n",
      "  [0. 0.]]\n",
      "\n",
      " [[0. 0.]\n",
      "  [0. 0.]]]\n",
      "–––––––––––\n",
      "Game: [2 2] \n",
      " PossibileActions:[2 2] \n",
      " NPlayers: 2 \n",
      " Transition: ['{0: 1}', '{}', '{}', '{}'] \n",
      " Payoff: [[[1. 1.]\n",
      "  [0. 0.]]\n",
      "\n",
      " [[0. 0.]\n",
      "  [0. 0.]]]\n",
      "–––––––––––\n",
      "Game: [2 2] \n",
      " PossibileActions:[2 2] \n",
      " NPlayers: 2 \n",
      " Transition: ['{0: 1}', '{}', '{1: 1}', '{}'] \n",
      " Payoff: [[[1. 1.]\n",
      "  [0. 0.]]\n",
      "\n",
      " [[0. 0.]\n",
      "  [0. 0.]]]\n",
      "–––––––––––\n",
      "Game: [2 2] \n",
      " PossibileActions:[2 2] \n",
      " NPlayers: 2 \n",
      " Transition: ['{0: 1}', '{1: 1}', '{1: 1}', '{}'] \n",
      " Payoff: [[[1. 1.]\n",
      "  [0. 0.]]\n",
      "\n",
      " [[0. 0.]\n",
      "  [0. 0.]]]\n",
      "–––––––––––\n",
      "Game: [2 2] \n",
      " PossibileActions:[2 2] \n",
      " NPlayers: 2 \n",
      " Transition: ['{0: 1}', '{1: 1}', '{1: 1}', '{1: 1}'] \n",
      " Payoff: [[[ 1.  1.]\n",
      "  [ 0.  0.]]\n",
      "\n",
      " [[ 0.  0.]\n",
      "  [-1. -1.]]]\n"
     ]
    }
   ],
   "source": [
    "env = Environment()\n",
    "\n",
    "games = env.getGames()\n",
    "\n",
    "games[0].setPossibleActions(np.array([2, 2]))\n",
    "#games[0].setPossibleActions((2, 2))\n",
    "print(\"–––––––––––\")\n",
    "print(games[0])\n",
    "games[0].setTransition((0, 0), 1, 1)\n",
    "games[0].setPayoff((0, 0), np.array([1,1]))\n",
    "print(\"–––––––––––\")\n",
    "print(games[0])\n",
    "games[0].setTransition((1, 0), 0, 1)\n",
    "games[0].setPayoff((1, 0), np.array([0,0]))\n",
    "print(\"–––––––––––\")\n",
    "print(games[0])\n",
    "games[0].setTransition((0, 1), 0, 1)\n",
    "games[0].setPayoff((0, 1), np.array([0,0]))\n",
    "print(\"–––––––––––\")\n",
    "print(games[0])\n",
    "games[0].setTransition((1, 1), 0, 1)\n",
    "games[0].setPayoff((1, 1), np.array([-1,-1]))\n",
    "print(\"–––––––––––\")\n",
    "print(games[0])\n",
    "###############################################\n",
    "\n",
    "games[1].setPossibleActions(np.array([2, 2]))\n",
    "#games[1].setPossibleActions((2, 2))\n",
    "print(\"–––––––––––\")\n",
    "print(games[1])\n",
    "games[1].setTransition((0, 0), 0, 1)\n",
    "games[1].setPayoff((0, 0), np.array([1,1]))\n",
    "print(\"–––––––––––\")\n",
    "print(games[1])\n",
    "\n",
    "games[1].setTransition((1, 0), 1, 1)\n",
    "games[1].setPayoff((1, 0), np.array([0,0]))\n",
    "print(\"–––––––––––\")\n",
    "print(games[1])\n",
    "\n",
    "games[1].setTransition((0, 1), 1, 1)\n",
    "games[1].setPayoff((0, 1), np.array([0,0]))\n",
    "print(\"–––––––––––\")\n",
    "print(games[1])\n",
    "\n",
    "games[1].setTransition((1, 1), 1, 1)\n",
    "games[1].setPayoff((1, 1), np.array([-1,-1]))\n",
    "print(\"–––––––––––\")\n",
    "print(games[1])"
   ]
  },
  {
   "cell_type": "code",
   "execution_count": 115,
   "metadata": {},
   "outputs": [
    {
     "name": "stdout",
     "output_type": "stream",
     "text": [
      "updating graph\n",
      "Current games:  [<Model.Environment.Game object at 0x0000029C56A51A80>\n",
      " <Model.Environment.Game object at 0x0000029C56A53B80>]\n",
      "Game:  Game: [2 2] \n",
      " PossibileActions:[2 2] \n",
      " NPlayers: 2 \n",
      " Transition: ['{1: 1}', '{0: 1}', '{0: 1}', '{0: 1}'] \n",
      " Payoff: [[[ 1.  1.]\n",
      "  [ 0.  0.]]\n",
      "\n",
      " [[ 0.  0.]\n",
      "  [-1. -1.]]]\n",
      "Action:  [0 0]\n",
      "Transition: g, p= 1 1\n",
      "Action:  [0 1]\n",
      "Transition: g, p= 0 1\n",
      "Action:  [1 0]\n",
      "Transition: g, p= 0 1\n",
      "Action:  [1 1]\n",
      "Transition: g, p= 0 1\n",
      "Game:  Game: [2 2] \n",
      " PossibileActions:[2 2] \n",
      " NPlayers: 2 \n",
      " Transition: ['{0: 1}', '{1: 1}', '{1: 1}', '{1: 1}'] \n",
      " Payoff: [[[ 1.  1.]\n",
      "  [ 0.  0.]]\n",
      "\n",
      " [[ 0.  0.]\n",
      "  [-1. -1.]]]\n",
      "Action:  [0 0]\n",
      "Transition: g, p= 0 1\n",
      "Action:  [0 1]\n",
      "Transition: g, p= 1 1\n",
      "Action:  [1 0]\n",
      "Transition: g, p= 1 1\n",
      "Action:  [1 1]\n",
      "Transition: g, p= 1 1\n"
     ]
    },
    {
     "data": {
      "application/vnd.jupyter.widget-view+json": {
       "model_id": "2a3d5632a91b46d899d57002e4e6e389",
       "version_major": 2,
       "version_minor": 0
      },
      "text/plain": [
       "VBox(children=(VBox(children=(Output(), Button(description='Update Graph', style=ButtonStyle()))), VBox(childr…"
      ]
     },
     "metadata": {},
     "output_type": "display_data"
    },
    {
     "data": {
      "application/vnd.jupyter.widget-view+json": {
       "model_id": "ca466cead79d46faa75d1bc79d9bf3a3",
       "version_major": 2,
       "version_minor": 0
      },
      "image/png": "[encoded data removed]",
      "text/html": [
       "\n",
       "            <div style=\"display: inline-block;\">\n",
       "                <div class=\"jupyter-widgets widget-label\" style=\"text-align: center;\">\n",
       "                    Figure\n",
       "                </div>\n",
       "                <img src='data:image/png;base64,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' width=640.0/>\n",
       "            </div>\n",
       "        "
      ],
      "text/plain": [
       "Canvas(toolbar=Toolbar(toolitems=[('Home', 'Reset original view', 'home', 'home'), ('Back', 'Back to previous …"
      ]
     },
     "metadata": {},
     "output_type": "display_data"
    },
    {
     "name": "stdout",
     "output_type": "stream",
     "text": [
      "updating graph\n",
      "Current games:  [<Model.Environment.Game object at 0x0000029C56A51A80>\n",
      " <Model.Environment.Game object at 0x0000029C56A53B80>]\n",
      "Game:  Game: [2 2] \n",
      " PossibileActions:[2 2] \n",
      " NPlayers: 2 \n",
      " Transition: ['{1: 1}', '{0: 1}', '{0: 1}', '{0: 1}'] \n",
      " Payoff: [[[ 1.  1.]\n",
      "  [ 0.  0.]]\n",
      "\n",
      " [[ 0.  0.]\n",
      "  [-1. -1.]]]\n",
      "Action:  [0 0]\n",
      "Transition: g, p= 1 1\n",
      "Action:  [0 1]\n",
      "Transition: g, p= 0 1\n",
      "Action:  [1 0]\n",
      "Transition: g, p= 0 1\n",
      "Action:  [1 1]\n",
      "Transition: g, p= 0 1\n",
      "Game:  Game: [2 2] \n",
      " PossibileActions:[2 2] \n",
      " NPlayers: 2 \n",
      " Transition: ['{0: 1}', '{1: 1}', '{1: 1}', '{1: 1}'] \n",
      " Payoff: [[[ 1.  1.]\n",
      "  [ 0.  0.]]\n",
      "\n",
      " [[ 0.  0.]\n",
      "  [-1. -1.]]]\n",
      "Action:  [0 0]\n",
      "Transition: g, p= 0 1\n",
      "Action:  [0 1]\n",
      "Transition: g, p= 1 1\n",
      "Action:  [1 0]\n",
      "Transition: g, p= 1 1\n",
      "Action:  [1 1]\n",
      "Transition: g, p= 1 1\n",
      "updating graph\n",
      "Current games:  [<Model.Environment.Game object at 0x0000029C56A51A80>]\n",
      "Game:  Game: [2 2] \n",
      " PossibileActions:[2 2] \n",
      " NPlayers: 2 \n",
      " Transition: ['{1: 1}', '{0: 1}', '{0: 1}', '{0: 1}'] \n",
      " Payoff: [[[ 1.  1.]\n",
      "  [ 0.  0.]]\n",
      "\n",
      " [[ 0.  0.]\n",
      "  [-1. -1.]]]\n",
      "Action:  [0 0]\n",
      "Transition: g, p= 1 1\n",
      "Action:  [0 1]\n",
      "Transition: g, p= 0 1\n",
      "Action:  [1 0]\n",
      "Transition: g, p= 0 1\n",
      "Action:  [1 1]\n",
      "Transition: g, p= 0 1\n"
     ]
    }
   ],
   "source": [
    "# env = Environment(2, 2)\n",
    "# env.getGame(0).setTransition(tuple([0, 0]), 0, 1)\n",
    "\n",
    "envWidget = EnvironmentWidget(env)\n",
    "envGraph = EnvGraphDisplay(env)\n",
    "\n",
    "vBox = widgets.VBox([envWidget.getWidget(), envGraph.get_widget()])\n",
    "display(vBox)"
   ]
  },
  {
   "cell_type": "code",
   "execution_count": 116,
   "metadata": {},
   "outputs": [
    {
     "data": {
      "application/vnd.jupyter.widget-view+json": {
       "model_id": "b7a780990369435292a30c85178b2ebd",
       "version_major": 2,
       "version_minor": 0
      },
      "text/plain": [
       "GridBox(children=(IntText(value=1, description='Episodes:'), FloatText(value=0.9, description='Gamma:'), Float…"
      ]
     },
     "metadata": {},
     "output_type": "display_data"
    }
   ],
   "source": [
    "nashQLearning = NashQLearning(env)\n",
    "display(nashQLearning.getDisplayable())"
   ]
  },
  {
   "cell_type": "code",
   "execution_count": 117,
   "metadata": {},
   "outputs": [
    {
     "data": {
      "application/vnd.jupyter.widget-view+json": {
       "model_id": "812f22223d0b41638f2187ab634d154e",
       "version_major": 2,
       "version_minor": 0
      },
      "text/plain": [
       "VBox(children=(HTML(value='<h1>Training Display</h1>'), HTML(value='<h2>Training History</h2>'), FloatSlider(v…"
      ]
     },
     "metadata": {},
     "output_type": "display_data"
    }
   ],
   "source": [
    "finalDisplay = FinalDisplay(nashQLearning, env)\n",
    "display(finalDisplay.get_widget())"
   ]
  }
 ],
 "metadata": {
  "kernelspec": {
   "display_name": "Python 3",
   "language": "python",
   "name": "python3"
  },
  "language_info": {
   "codemirror_mode": {
    "name": "ipython",
    "version": 3
   },
   "file_extension": ".py",
   "mimetype": "text/x-python",
   "name": "python",
   "nbconvert_exporter": "python",
   "pygments_lexer": "ipython3",
   "version": "3.10.11"
  }
 },
 "nbformat": 4,
 "nbformat_minor": 2
}

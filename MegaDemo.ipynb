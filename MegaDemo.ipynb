{
 "cells": [
  {
   "cell_type": "code",
   "execution_count": 11,
   "metadata": {},
   "outputs": [
    {
     "name": "stdout",
     "output_type": "stream",
     "text": [
      "The autoreload extension is already loaded. To reload it, use:\n",
      "  %reload_ext autoreload\n"
     ]
    }
   ],
   "source": [
    "%matplotlib widget\n",
    "from Model.Environment import Environment\n",
    "from Interface.Classes.GameEditor import EnvironmentWidget\n",
    "from Interface.Classes.EnvGraphDisplay import EnvGraphDisplay\n",
    "from Model.NashQLearning import *\n",
    "from Interface.Classes.FinalDisplay import FinalDisplay\n",
    "import ipywidgets as widgets\n",
    "from IPython.display import display\n",
    "\n",
    "# autoreload   \n",
    "%load_ext autoreload\n",
    "%autoreload 2"
   ]
  },
  {
   "cell_type": "code",
   "execution_count": 12,
   "metadata": {},
   "outputs": [
    {
     "name": "stdout",
     "output_type": "stream",
     "text": [
      "–––––––––––\n",
      "Game: [2 2] \n",
      " PossibileActions:[2 2] \n",
      " NPlayers: 2 \n",
      " Transition: ['{}', '{}', '{}', '{}'] \n",
      " Payoff: [[[0. 0.]\n",
      "  [0. 0.]]\n",
      "\n",
      " [[0. 0.]\n",
      "  [0. 0.]]]\n",
      "–––––––––––\n",
      "Game: [2 2] \n",
      " PossibileActions:[2 2] \n",
      " NPlayers: 2 \n",
      " Transition: ['{1: 1}', '{}', '{}', '{}'] \n",
      " Payoff: [[[1. 1.]\n",
      "  [0. 0.]]\n",
      "\n",
      " [[0. 0.]\n",
      "  [0. 0.]]]\n",
      "–––––––––––\n",
      "Game: [2 2] \n",
      " PossibileActions:[2 2] \n",
      " NPlayers: 2 \n",
      " Transition: ['{1: 1}', '{}', '{0: 1}', '{}'] \n",
      " Payoff: [[[1. 1.]\n",
      "  [0. 0.]]\n",
      "\n",
      " [[0. 0.]\n",
      "  [0. 0.]]]\n",
      "–––––––––––\n",
      "Game: [2 2] \n",
      " PossibileActions:[2 2] \n",
      " NPlayers: 2 \n",
      " Transition: ['{1: 1}', '{0: 1}', '{0: 1}', '{}'] \n",
      " Payoff: [[[1. 1.]\n",
      "  [0. 0.]]\n",
      "\n",
      " [[0. 0.]\n",
      "  [0. 0.]]]\n",
      "–––––––––––\n",
      "Game: [2 2] \n",
      " PossibileActions:[2 2] \n",
      " NPlayers: 2 \n",
      " Transition: ['{1: 1}', '{0: 1}', '{0: 1}', '{0: 1}'] \n",
      " Payoff: [[[ 1.  1.]\n",
      "  [ 0.  0.]]\n",
      "\n",
      " [[ 0.  0.]\n",
      "  [-1. -1.]]]\n",
      "–––––––––––\n",
      "Game: [2 2] \n",
      " PossibileActions:[2 2] \n",
      " NPlayers: 2 \n",
      " Transition: ['{}', '{}', '{}', '{}'] \n",
      " Payoff: [[[0. 0.]\n",
      "  [0. 0.]]\n",
      "\n",
      " [[0. 0.]\n",
      "  [0. 0.]]]\n",
      "–––––––––––\n",
      "Game: [2 2] \n",
      " PossibileActions:[2 2] \n",
      " NPlayers: 2 \n",
      " Transition: ['{0: 1}', '{}', '{}', '{}'] \n",
      " Payoff: [[[1. 1.]\n",
      "  [0. 0.]]\n",
      "\n",
      " [[0. 0.]\n",
      "  [0. 0.]]]\n",
      "–––––––––––\n",
      "Game: [2 2] \n",
      " PossibileActions:[2 2] \n",
      " NPlayers: 2 \n",
      " Transition: ['{0: 1}', '{}', '{1: 1}', '{}'] \n",
      " Payoff: [[[1. 1.]\n",
      "  [0. 0.]]\n",
      "\n",
      " [[0. 0.]\n",
      "  [0. 0.]]]\n",
      "–––––––––––\n",
      "Game: [2 2] \n",
      " PossibileActions:[2 2] \n",
      " NPlayers: 2 \n",
      " Transition: ['{0: 1}', '{1: 1}', '{1: 1}', '{}'] \n",
      " Payoff: [[[1. 1.]\n",
      "  [0. 0.]]\n",
      "\n",
      " [[0. 0.]\n",
      "  [0. 0.]]]\n",
      "–––––––––––\n",
      "Game: [2 2] \n",
      " PossibileActions:[2 2] \n",
      " NPlayers: 2 \n",
      " Transition: ['{0: 1}', '{1: 1}', '{1: 1}', '{1: 1}'] \n",
      " Payoff: [[[ 1.  1.]\n",
      "  [ 0.  0.]]\n",
      "\n",
      " [[ 0.  0.]\n",
      "  [-1. -1.]]]\n"
     ]
    }
   ],
   "source": [
    "env = Environment()\n",
    "\n",
    "games = env.getGames()\n",
    "\n",
    "games[0].setPossibleActions(np.array([2, 2]))\n",
    "#games[0].setPossibleActions((2, 2))\n",
    "print(\"–––––––––––\")\n",
    "print(games[0])\n",
    "games[0].setTransition((0, 0), 1, 1)\n",
    "games[0].setPayoff((0, 0), np.array([1,1]))\n",
    "print(\"–––––––––––\")\n",
    "print(games[0])\n",
    "games[0].setTransition((1, 0), 0, 1)\n",
    "games[0].setPayoff((1, 0), np.array([0,0]))\n",
    "print(\"–––––––––––\")\n",
    "print(games[0])\n",
    "games[0].setTransition((0, 1), 0, 1)\n",
    "games[0].setPayoff((0, 1), np.array([0,0]))\n",
    "print(\"–––––––––––\")\n",
    "print(games[0])\n",
    "games[0].setTransition((1, 1), 0, 1)\n",
    "games[0].setPayoff((1, 1), np.array([-1,-1]))\n",
    "print(\"–––––––––––\")\n",
    "print(games[0])\n",
    "###############################################\n",
    "\n",
    "games[1].setPossibleActions(np.array([2, 2]))\n",
    "#games[1].setPossibleActions((2, 2))\n",
    "print(\"–––––––––––\")\n",
    "print(games[1])\n",
    "games[1].setTransition((0, 0), 0, 1)\n",
    "games[1].setPayoff((0, 0), np.array([1,1]))\n",
    "print(\"–––––––––––\")\n",
    "print(games[1])\n",
    "\n",
    "games[1].setTransition((1, 0), 1, 1)\n",
    "games[1].setPayoff((1, 0), np.array([0,0]))\n",
    "print(\"–––––––––––\")\n",
    "print(games[1])\n",
    "\n",
    "games[1].setTransition((0, 1), 1, 1)\n",
    "games[1].setPayoff((0, 1), np.array([0,0]))\n",
    "print(\"–––––––––––\")\n",
    "print(games[1])\n",
    "\n",
    "games[1].setTransition((1, 1), 1, 1)\n",
    "games[1].setPayoff((1, 1), np.array([-1,-1]))\n",
    "print(\"–––––––––––\")\n",
    "print(games[1])"
   ]
  },
  {
   "cell_type": "code",
   "execution_count": 16,
   "metadata": {},
   "outputs": [
    {
     "data": {
      "application/vnd.jupyter.widget-view+json": {
       "model_id": "93f783aef3bd4718a107583c62ef6032",
       "version_major": 2,
       "version_minor": 0
      },
      "text/plain": [
       "VBox(children=(VBox(children=(Dropdown(description='Labels:', options=('Transition Probabilities', 'Payoffs'),…"
      ]
     },
     "metadata": {},
     "output_type": "display_data"
    },
    {
     "data": {
      "application/vnd.jupyter.widget-view+json": {
       "model_id": "dfc37ebbc5b44721b53f77dc8cf8713b",
       "version_major": 2,
       "version_minor": 0
      },
      "image/png": "[encoded data removed]",
      "text/html": [
       "\n",
       "            <div style=\"display: inline-block;\">\n",
       "                <div class=\"jupyter-widgets widget-label\" style=\"text-align: center;\">\n",
       "                    Figure\n",
       "                </div>\n",
       "                <img src='data:image/png;base64,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' width=640.0/>\n",
       "            </div>\n",
       "        "
      ],
      "text/plain": [
       "Canvas(toolbar=Toolbar(toolitems=[('Home', 'Reset original view', 'home', 'home'), ('Back', 'Back to previous …"
      ]
     },
     "metadata": {},
     "output_type": "display_data"
    }
   ],
   "source": [
    "# env = Environment(2, 2)\n",
    "# env.getGame(0).setTransition(tuple([0, 0]), 0, 1)\n",
    "\n",
    "envWidget = EnvironmentWidget(env)\n",
    "envGraph = EnvGraphDisplay(env)\n",
    "\n",
    "vBox = widgets.VBox([envWidget.getWidget(), envGraph.get_widget()])\n",
    "display(vBox)"
   ]
  },
  {
   "cell_type": "code",
   "execution_count": 14,
   "metadata": {},
   "outputs": [
    {
     "data": {
      "application/vnd.jupyter.widget-view+json": {
       "model_id": "e81efc0ac8d5424497c8fd06301bd3c7",
       "version_major": 2,
       "version_minor": 0
      },
      "text/plain": [
       "GridBox(children=(IntText(value=1, description='Episodes:'), FloatText(value=0.9, description='Gamma:'), Float…"
      ]
     },
     "metadata": {},
     "output_type": "display_data"
    }
   ],
   "source": [
    "nashQLearning = NashQLearning(env)\n",
    "display(nashQLearning.getDisplayable())"
   ]
  },
  {
   "cell_type": "code",
   "execution_count": 15,
   "metadata": {},
   "outputs": [
    {
     "data": {
      "application/vnd.jupyter.widget-view+json": {
       "model_id": "79cf4a341c3545799b06d3187b5bfd4b",
       "version_major": 2,
       "version_minor": 0
      },
      "text/plain": [
       "VBox(children=(HTML(value='<h1>Training Display</h1>'), HTML(value='<h2>Training History</h2>'), FloatSlider(v…"
      ]
     },
     "metadata": {},
     "output_type": "display_data"
    }
   ],
   "source": [
    "finalDisplay = FinalDisplay(nashQLearning, env)\n",
    "display(finalDisplay.get_widget())"
   ]
  }
 ],
 "metadata": {
  "kernelspec": {
   "display_name": "Python 3",
   "language": "python",
   "name": "python3"
  },
  "language_info": {
   "codemirror_mode": {
    "name": "ipython",
    "version": 3
   },
   "file_extension": ".py",
   "mimetype": "text/x-python",
   "name": "python",
   "nbconvert_exporter": "python",
   "pygments_lexer": "ipython3",
   "version": "3.10.11"
  }
 },
 "nbformat": 4,
 "nbformat_minor": 2
}

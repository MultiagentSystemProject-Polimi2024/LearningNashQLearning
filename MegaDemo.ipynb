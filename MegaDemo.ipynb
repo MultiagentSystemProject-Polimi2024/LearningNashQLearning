{
 "cells": [
  {
   "cell_type": "code",
   "execution_count": 2,
   "metadata": {},
   "outputs": [],
   "source": [
    "%matplotlib widget\n",
    "from Model.Environment import Environment\n",
    "from Interface.Classes.GameEditor import EnvironmentWidget\n",
    "from Interface.Classes.EnvGraphDisplay import EnvGraphDisplay\n",
    "from Model.NashQLearning import *\n",
    "from Interface.Classes.FinalDisplay import FinalDisplay\n",
    "import ipywidgets as widgets\n",
    "from IPython.display import display"
   ]
  },
  {
   "cell_type": "code",
   "execution_count": 3,
   "metadata": {},
   "outputs": [
    {
     "name": "stdout",
     "output_type": "stream",
     "text": [
      "–––––––––––\n",
      "Game: [2 2] \n",
      " PossibileActions:[2 2] \n",
      " NPlayers: 2 \n",
      " Transition: ['{}', '{}', '{}', '{}'] \n",
      " Payoff: [[[0. 0.]\n",
      "  [0. 0.]]\n",
      "\n",
      " [[0. 0.]\n",
      "  [0. 0.]]]\n",
      "–––––––––––\n",
      "Game: [2 2] \n",
      " PossibileActions:[2 2] \n",
      " NPlayers: 2 \n",
      " Transition: ['{1: 1}', '{}', '{}', '{}'] \n",
      " Payoff: [[[1. 1.]\n",
      "  [0. 0.]]\n",
      "\n",
      " [[0. 0.]\n",
      "  [0. 0.]]]\n",
      "–––––––––––\n",
      "Game: [2 2] \n",
      " PossibileActions:[2 2] \n",
      " NPlayers: 2 \n",
      " Transition: ['{1: 1}', '{}', '{0: 1}', '{}'] \n",
      " Payoff: [[[1. 1.]\n",
      "  [0. 0.]]\n",
      "\n",
      " [[0. 0.]\n",
      "  [0. 0.]]]\n",
      "–––––––––––\n",
      "Game: [2 2] \n",
      " PossibileActions:[2 2] \n",
      " NPlayers: 2 \n",
      " Transition: ['{1: 1}', '{0: 1}', '{0: 1}', '{}'] \n",
      " Payoff: [[[1. 1.]\n",
      "  [0. 0.]]\n",
      "\n",
      " [[0. 0.]\n",
      "  [0. 0.]]]\n",
      "–––––––––––\n",
      "Game: [2 2] \n",
      " PossibileActions:[2 2] \n",
      " NPlayers: 2 \n",
      " Transition: ['{1: 1}', '{0: 1}', '{0: 1}', '{0: 1}'] \n",
      " Payoff: [[[ 1.  1.]\n",
      "  [ 0.  0.]]\n",
      "\n",
      " [[ 0.  0.]\n",
      "  [-1. -1.]]]\n",
      "–––––––––––\n",
      "Game: [2 2] \n",
      " PossibileActions:[2 2] \n",
      " NPlayers: 2 \n",
      " Transition: ['{}', '{}', '{}', '{}'] \n",
      " Payoff: [[[0. 0.]\n",
      "  [0. 0.]]\n",
      "\n",
      " [[0. 0.]\n",
      "  [0. 0.]]]\n",
      "–––––––––––\n",
      "Game: [2 2] \n",
      " PossibileActions:[2 2] \n",
      " NPlayers: 2 \n",
      " Transition: ['{0: 1}', '{}', '{}', '{}'] \n",
      " Payoff: [[[1. 1.]\n",
      "  [0. 0.]]\n",
      "\n",
      " [[0. 0.]\n",
      "  [0. 0.]]]\n",
      "–––––––––––\n",
      "Game: [2 2] \n",
      " PossibileActions:[2 2] \n",
      " NPlayers: 2 \n",
      " Transition: ['{0: 1}', '{}', '{1: 1}', '{}'] \n",
      " Payoff: [[[1. 1.]\n",
      "  [0. 0.]]\n",
      "\n",
      " [[0. 0.]\n",
      "  [0. 0.]]]\n",
      "–––––––––––\n",
      "Game: [2 2] \n",
      " PossibileActions:[2 2] \n",
      " NPlayers: 2 \n",
      " Transition: ['{0: 1}', '{1: 1}', '{1: 1}', '{}'] \n",
      " Payoff: [[[1. 1.]\n",
      "  [0. 0.]]\n",
      "\n",
      " [[0. 0.]\n",
      "  [0. 0.]]]\n",
      "–––––––––––\n",
      "Game: [2 2] \n",
      " PossibileActions:[2 2] \n",
      " NPlayers: 2 \n",
      " Transition: ['{0: 1}', '{1: 1}', '{1: 1}', '{1: 1}'] \n",
      " Payoff: [[[ 1.  1.]\n",
      "  [ 0.  0.]]\n",
      "\n",
      " [[ 0.  0.]\n",
      "  [-1. -1.]]]\n"
     ]
    }
   ],
   "source": [
    "env = Environment()\n",
    "\n",
    "games = env.getGames()\n",
    "\n",
    "games[0].setPossibleActions(np.array([2, 2]))\n",
    "#games[0].setPossibleActions((2, 2))\n",
    "print(\"–––––––––––\")\n",
    "print(games[0])\n",
    "games[0].setTransition((0, 0), 1, 1)\n",
    "games[0].setPayoff((0, 0), np.array([1,1]))\n",
    "print(\"–––––––––––\")\n",
    "print(games[0])\n",
    "games[0].setTransition((1, 0), 0, 1)\n",
    "games[0].setPayoff((1, 0), np.array([0,0]))\n",
    "print(\"–––––––––––\")\n",
    "print(games[0])\n",
    "games[0].setTransition((0, 1), 0, 1)\n",
    "games[0].setPayoff((0, 1), np.array([0,0]))\n",
    "print(\"–––––––––––\")\n",
    "print(games[0])\n",
    "games[0].setTransition((1, 1), 0, 1)\n",
    "games[0].setPayoff((1, 1), np.array([-1,-1]))\n",
    "print(\"–––––––––––\")\n",
    "print(games[0])\n",
    "###############################################\n",
    "\n",
    "games[1].setPossibleActions(np.array([2, 2]))\n",
    "#games[1].setPossibleActions((2, 2))\n",
    "print(\"–––––––––––\")\n",
    "print(games[1])\n",
    "games[1].setTransition((0, 0), 0, 1)\n",
    "games[1].setPayoff((0, 0), np.array([1,1]))\n",
    "print(\"–––––––––––\")\n",
    "print(games[1])\n",
    "\n",
    "games[1].setTransition((1, 0), 1, 1)\n",
    "games[1].setPayoff((1, 0), np.array([0,0]))\n",
    "print(\"–––––––––––\")\n",
    "print(games[1])\n",
    "\n",
    "games[1].setTransition((0, 1), 1, 1)\n",
    "games[1].setPayoff((0, 1), np.array([0,0]))\n",
    "print(\"–––––––––––\")\n",
    "print(games[1])\n",
    "\n",
    "games[1].setTransition((1, 1), 1, 1)\n",
    "games[1].setPayoff((1, 1), np.array([-1,-1]))\n",
    "print(\"–––––––––––\")\n",
    "print(games[1])"
   ]
  },
  {
   "cell_type": "code",
   "execution_count": 4,
   "metadata": {},
   "outputs": [
    {
     "data": {
      "application/vnd.jupyter.widget-view+json": {
       "model_id": "e76ae735a4394dc5aa1ca1c65ddb5642",
       "version_major": 2,
       "version_minor": 0
      },
      "text/plain": [
       "VBox(children=(Output(), VBox(children=(IntSlider(value=2, description='# Players:', max=4, min=2), IntSlider(…"
      ]
     },
     "metadata": {},
     "output_type": "display_data"
    },
    {
     "data": {
      "application/vnd.jupyter.widget-view+json": {
       "model_id": "3ba1693e8b7c497c8bdc872be54f0fd7",
       "version_major": 2,
       "version_minor": 0
      },
      "image/png": "[encoded data removed]",
      "text/html": [
       "\n",
       "            <div style=\"display: inline-block;\">\n",
       "                <div class=\"jupyter-widgets widget-label\" style=\"text-align: center;\">\n",
       "                    Figure\n",
       "                </div>\n",
       "                <img src='data:image/png;base64,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' width=640.0/>\n",
       "            </div>\n",
       "        "
      ],
      "text/plain": [
       "Canvas(toolbar=Toolbar(toolitems=[('Home', 'Reset original view', 'home', 'home'), ('Back', 'Back to previous …"
      ]
     },
     "metadata": {},
     "output_type": "display_data"
    }
   ],
   "source": [
    "# env = Environment(2, 2)\n",
    "# env.getGame(0).setTransition(tuple([0, 0]), 0, 1)\n",
    "\n",
    "envWidget = EnvironmentWidget(env)\n",
    "envGraph = EnvGraphDisplay(env)\n",
    "\n",
    "vBox = widgets.VBox([envGraph.get_widget(), envWidget.getWidget()])\n",
    "display(vBox)"
   ]
  },
  {
   "cell_type": "code",
   "execution_count": 6,
   "metadata": {},
   "outputs": [
    {
     "data": {
      "application/vnd.jupyter.widget-view+json": {
       "model_id": "90faa21d2b2e40f7a2eedc90be57e219",
       "version_major": 2,
       "version_minor": 0
      },
      "text/plain": [
       "VBox(children=(VBox(children=(VBox(children=(HBox(children=(IntText(value=1, description='Episodes:'), FloatTe…"
      ]
     },
     "metadata": {},
     "output_type": "display_data"
    }
   ],
   "source": [
    "nashQLearning = NashQLearning(env)\n",
    "finalDisplay = FinalDisplay(nashQLearning, env)\n",
    "vertBox = widgets.VBox([nashQLearning.getDisplayable(), finalDisplay.get_widget()])\n",
    "display(vertBox)"
   ]
  }
 ],
 "metadata": {
  "kernelspec": {
   "display_name": "Python 3",
   "language": "python",
   "name": "python3"
  },
  "language_info": {
   "codemirror_mode": {
    "name": "ipython",
    "version": 3
   },
   "file_extension": ".py",
   "mimetype": "text/x-python",
   "name": "python",
   "nbconvert_exporter": "python",
   "pygments_lexer": "ipython3",
   "version": "3.10.11"
  }
 },
 "nbformat": 4,
 "nbformat_minor": 2
}

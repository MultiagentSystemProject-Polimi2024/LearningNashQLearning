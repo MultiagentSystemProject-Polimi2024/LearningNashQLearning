{
 "cells": [
  {
   "cell_type": "markdown",
   "metadata": {},
   "source": [
    "# Nash-Q Learning Educational Software\n",
    "This project aims to create an educational software that could be used by anyone interested in learning about artificial intelligence, specifically in the area of multi-agent systems and the Nash-Q learning algorithm.\n",
    "\n",
    "The goal is to make the process that agents follow when applying the algorithm to explore a new environment more understandable. This includes showing how the agents' knowledge of the environment updates at every step, how they make decisions about what actions to take, and their final internal representation of the environment after training.\n",
    "\n",
    "In this notebook, you can select a number of agents to train (between 1 and 4), and edit the environment where they will be trained, or chose one of the aviable presets. After that, it will be possible to run a training session for the agents, after setting the parameters for this phase. Following the training, the results will be displayed in a dedicated section."
   ]
  },
  {
   "cell_type": "markdown",
   "metadata": {},
   "source": [
    "## Table of Contents\n",
    "1. Imports\n",
    "2. Environment settings\n",
    "3. Training\n",
    "4. Results"
   ]
  },
  {
   "cell_type": "markdown",
   "metadata": {},
   "source": [
    "## 1. Imports Needed for Using the Notebook\n",
    "- %matplotlib widget is a magic function, used to enable the interactive Matplotlib backend for Jupiter notebooks\n",
    "- Then it's possible to see the imports for the classes that define the environment where the training is held, with his widget and display, the implementation of the NashQ algorithm, and a final display used to show the results\n",
    "- Next there is the imports for the widgets and the display, used to render the interfaces\n",
    "- Lastly, the other two magic functions are used to automatically reload the Python kernel at every run, in order to get the updates from classes that have been eventually modified"
   ]
  },
  {
   "cell_type": "code",
   "execution_count": 37,
   "metadata": {},
   "outputs": [
    {
     "name": "stdout",
     "output_type": "stream",
     "text": [
      "The autoreload extension is already loaded. To reload it, use:\n",
      "  %reload_ext autoreload\n"
     ]
    }
   ],
   "source": [
    "%matplotlib widget\n",
    "from Model.Environment import Environment\n",
    "from Interface.Classes.GameEditor import EnvironmentWidget\n",
    "from Interface.Classes.EnvGraphDisplay import EnvGraphDisplay\n",
    "from Model.NashQLearning import *\n",
    "from Interface.Classes.FinalDisplay import FinalDisplay\n",
    "from Interface.Classes.PresetGames import PresetGames\n",
    "import ipywidgets as widgets\n",
    "from IPython.display import display\n",
    "\n",
    "\n",
    "# autoreload   \n",
    "%load_ext autoreload\n",
    "%autoreload 2"
   ]
  },
  {
   "cell_type": "code",
   "execution_count": 38,
   "metadata": {},
   "outputs": [],
   "source": [
    "env = Environment()\n",
    "\n",
    "games = env.getGames()\n",
    "\n",
    "games[0].setPossibleActions(np.array([2, 2]))\n",
    "#games[0].setPossibleActions((2, 2))\n",
    "# print(\"–––––––––––\")\n",
    "# print(games[0])\n",
    "games[0].setTransition((0, 0), 1, 1)\n",
    "games[0].setPayoff((0, 0), np.array([1,1]))\n",
    "# print(\"–––––––––––\")\n",
    "# print(games[0])\n",
    "games[0].setTransition((1, 0), 0, 1)\n",
    "games[0].setPayoff((1, 0), np.array([0,0]))\n",
    "# print(\"–––––––––––\")\n",
    "# print(games[0])\n",
    "games[0].setTransition((0, 1), 0, 1)\n",
    "games[0].setPayoff((0, 1), np.array([0,0]))\n",
    "# print(\"–––––––––––\")\n",
    "# print(games[0])\n",
    "games[0].setTransition((1, 1), 0, 1)\n",
    "games[0].setPayoff((1, 1), np.array([-1,-1]))\n",
    "# print(\"–––––––––––\")\n",
    "# print(games[0])\n",
    "###############################################\n",
    "\n",
    "games[1].setPossibleActions(np.array([2, 2]))\n",
    "#games[1].setPossibleActions((2, 2))\n",
    "# print(\"–––––––––––\")\n",
    "# print(games[1])\n",
    "games[1].setTransition((0, 0), 0, 1)\n",
    "games[1].setPayoff((0, 0), np.array([1,1]))\n",
    "# print(\"–––––––––––\")\n",
    "# print(games[1])\n",
    "\n",
    "games[1].setTransition((1, 0), 1, 1)\n",
    "games[1].setPayoff((1, 0), np.array([0,0]))\n",
    "# print(\"–––––––––––\")\n",
    "# print(games[1])\n",
    "\n",
    "games[1].setTransition((0, 1), 1, 1)\n",
    "games[1].setPayoff((0, 1), np.array([0,0]))\n",
    "# print(\"–––––––––––\")\n",
    "# print(games[1])\n",
    "\n",
    "games[1].setTransition((1, 1), 1, 1)\n",
    "games[1].setPayoff((1, 1), np.array([-1,-1]))\n",
    "# print(\"–––––––––––\")\n",
    "# print(games[1])"
   ]
  },
  {
   "cell_type": "markdown",
   "metadata": {},
   "source": [
    "## 2. Setting the Environment\n",
    "The environment where the agents will be trained can be created using the following interface.  \n",
    "If you decide to use one of the presets already created, you just need to select it from the dropdown menu; otherwhise you can set your own environment.\n",
    "\n",
    "First of all, you need to chose the number of **players** (that is the number of agents), limited to 4 for reasons of complexity of representation, and the number of **games** (states that can be reached by the agents).  \n",
    "\n",
    "When defining the number of states, the user should keep in mind its definition as: ***S*** = *s<sub>1</sub> x s<sub>2</sub> x ... x s<sub>i</sub>*, with *i* = 1, ..., n as the number of agents and *s<sub>i</sub>* as the state space for the *i-th* agent. This means that the state space is defined as the Cartesian product of the individual state spaces for every agent. Therefore, every state represents one of the combinations of positions of the agents, and the transitions between states always involve all the agents together.  \n",
    "\n",
    "After setting the number of **players** and **games**, it is possible to define a global number of possible **actions**, equal for every **players** in every **game**, or different number of **actions** for each **player** in each **game**.  \n",
    "\n",
    "Then, in every **game** defined, for every **action profile** *A* in the set of action profiles ***A*** = *a<sub>1</sub> x a<sub>2</sub> x ... x a<sub>i</sub>*, with *a<sub>i</sub>* set of possible actions for the *i-th* **player**, it is possible to set the **probability** of the transition towards all the **games** in the environment, along with the associated **payoff**.  \n",
    "\n",
    "The graph below the settings interface shows the current state space and the possible transitions between states, with the associated **probability** or **reward**, depending on the option chosen.\n"
   ]
  },
  {
   "cell_type": "code",
   "execution_count": 39,
   "metadata": {},
   "outputs": [
    {
     "data": {
      "application/vnd.jupyter.widget-view+json": {
       "model_id": "de34e5070e3d4b388f334c5a57ee2d9c",
       "version_major": 2,
       "version_minor": 0
      },
      "text/plain": [
       "Dropdown(description='Preset:', options=(0, 1, 2, 3), value=0)"
      ]
     },
     "metadata": {},
     "output_type": "display_data"
    }
   ],
   "source": [
    "env = Environment()\n",
    "preset = PresetGames(env)\n",
    "\n",
    "envWidget = EnvironmentWidget(env)\n",
    "\n",
    "\n",
    "display(preset.getWidget())"
   ]
  },
  {
   "cell_type": "code",
   "execution_count": 40,
   "metadata": {},
   "outputs": [
    {
     "data": {
      "application/vnd.jupyter.widget-view+json": {
       "model_id": "5e42f18122ac40d082a849c9d154bb84",
       "version_major": 2,
       "version_minor": 0
      },
      "text/plain": [
       "VBox(children=(VBox(children=(IntSlider(value=2, description='# Players:', max=4, min=2), IntSlider(value=2, d…"
      ]
     },
     "metadata": {},
     "output_type": "display_data"
    },
    {
     "data": {
      "application/vnd.jupyter.widget-view+json": {
       "model_id": "e285c5e95c9c4f8ea21ff014e6ae6f51",
       "version_major": 2,
       "version_minor": 0
      },
      "image/png": "[encoded data removed]",
      "text/html": [
       "\n",
       "            <div style=\"display: inline-block;\">\n",
       "                <div class=\"jupyter-widgets widget-label\" style=\"text-align: center;\">\n",
       "                    Figure\n",
       "                </div>\n",
       "                <img src='data:image/png;base64,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' width=640.0/>\n",
       "            </div>\n",
       "        "
      ],
      "text/plain": [
       "Canvas(toolbar=Toolbar(toolitems=[('Home', 'Reset original view', 'home', 'home'), ('Back', 'Back to previous …"
      ]
     },
     "metadata": {},
     "output_type": "display_data"
    }
   ],
   "source": [
    "\n",
    "envGraph = EnvGraphDisplay(env, timeBuffer=0.5)\n",
    "vBox = widgets.VBox([envWidget.getWidget(), envGraph.get_widget()])\n",
    "display(vBox)"
   ]
  },
  {
   "cell_type": "markdown",
   "metadata": {},
   "source": [
    "## 3. Training of the agents ##\n",
    "In the following section, it will be possible to set the parameters for the trainig phase.  \n",
    "The paramethers that can be personalized are the following:\n",
    "- *Episodes*: number of training episodes\n",
    "- *Gamma*: **discount factor**, that defines the reduction in the values of the rewards from actrions taken in the future\n",
    "- *Epsilon*: **exploration-exploitation** paramether, defined as the probability with which the algorithm choses a random action (exploration) over the best possible action (exploitation)\n",
    "- *Pure epsilon epidoses*: number of episodes after which *epsilon* starts decreasing, opting more and more for *exploitation* over *exploration*\n",
    "- *Alfa*: **learning rate**, determines the weight of the updates on the values already known, as the speed at which the agent learns\n",
    "- *Pure training episodes*: number of trainings after which *alpha* starts decreasing, reducing the weight of the new updates\n",
    "- *Reset on goal state*: sets the environment in such a way that after reaching the goal state, the agents are brought back to the starting state, in order to learn again from the beginning\n",
    "- *Start state*: defines from which state the agents will start\n",
    "- *Goal state*: defines the goal state\n",
    "\n",
    "After that, the training phase can be run by pressing the *Train* button.\n"
   ]
  },
  {
   "cell_type": "code",
   "execution_count": 41,
   "metadata": {},
   "outputs": [
    {
     "data": {
      "application/vnd.jupyter.widget-view+json": {
       "model_id": "8fd75039225b46478b10a12133717f87",
       "version_major": 2,
       "version_minor": 0
      },
      "text/plain": [
       "GridBox(children=(IntText(value=1, description='Episodes:'), FloatText(value=0.8, description='Gamma:'), Float…"
      ]
     },
     "metadata": {},
     "output_type": "display_data"
    }
   ],
   "source": [
    "nashQLearning = NashQLearning(env)\n",
    "display(nashQLearning.getDisplayable())"
   ]
  },
  {
   "cell_type": "markdown",
   "metadata": {},
   "source": [
    "## 4. Results ##\n",
    "The last section shows the results from the training.\n",
    "\n",
    "First of all you can define a *window size*, as a percentage of the number of episodes, that will be used to smooth the rewards, in order to make them more readable in the graph. Lower values of *window size* allow you to better see the variations in the rewards, while higher values of this paramether make the graph more smooth, reducing the variations.\n",
    "\n",
    "The reward graph displays the value of the reward received by every player, and the sum of their reward, for every training episode; by using the slider, by typing a value in, or by navigating using the arrows, it is possible to select a specific episode, and see its rewards signaled by the red vertical line.\n",
    "\n",
    "When a training episode is selected, all the information relative to that are displayed below:\n",
    "- the state-space graph shows the states, highlighting the current state and the transition that has been taken in the state; depending on your selection in the dropdown menu, it can show the **Q-tables** or the **policy** that are associated to the states in the episode chosen, .\n",
    "- below that, the interface shows the *current game*, the *current action profile*, meaning the actions taken by every agent in the state, the *current payoff*, as the reward received by every agent when taking the chosen action in the current state, and finally the *Q-Tables*, for each player in each game, relative to the chosen episode. You should note that the *Q-Tables* will be shown only when the number of players is less than 3, because it wouldn't be possible to display a structure with more than 2 dimentions in the interface."
   ]
  },
  {
   "cell_type": "code",
   "execution_count": 43,
   "metadata": {},
   "outputs": [
    {
     "data": {
      "application/vnd.jupyter.widget-view+json": {
       "model_id": "dba19ae3092d42739d7f100f27628b26",
       "version_major": 2,
       "version_minor": 0
      },
      "text/plain": [
       "VBox(children=(HTML(value='<h1>Training Display</h1>'), HTML(value='<h2>Training History</h2>'), FloatSlider(v…"
      ]
     },
     "metadata": {},
     "output_type": "display_data"
    },
    {
     "name": "stdout",
     "output_type": "stream",
     "text": [
      "__updateGraphLabels - Action Labels:  {(0, 1, ((0, 0, 0),)): '[2.1, 2.1, 2.1]', (0, 0, ((0, 0, 1),)): '[2.51, 2.51, 2.51]', (0, 0, ((0, 1, 0),)): '[2.4, 2.4, 2.4]', (0, 0, ((0, 1, 1),)): '[1.22, 1.22, 1.22]', (0, 0, ((1, 0, 0),)): '[2.58, 2.58, 2.58]', (0, 0, ((1, 0, 1),)): '[1.3, 1.3, 1.3]', (0, 0, ((1, 1, 0),)): '[1.85, 1.85, 1.85]', (0, 0, ((1, 1, 1),)): '[0.71, 0.71, 0.71]', (1, 1, ((0, 0, 0),)): '[0, 0, 0]', (1, 0, ((0, 0, 1),)): '[0, 0, 0]', (1, 0, ((0, 1, 0),)): '[0, 0, 0]', (1, 0, ((0, 1, 1),)): '[0.66, 0.66, 0.66]', (1, 0, ((1, 0, 0),)): '[0, 0, 0]', (1, 0, ((1, 0, 1),)): '[0.4, 0.4, 0.4]', (1, 0, ((1, 1, 0),)): '[0.84, 0.84, 0.84]', (1, 0, ((1, 1, 1),)): '[0, 0, 0]'}\n"
     ]
    }
   ],
   "source": [
    "finalDisplay = FinalDisplay(nashQLearning, env)\n",
    "display(finalDisplay.get_widget())"
   ]
  }
 ],
 "metadata": {
  "kernelspec": {
   "display_name": "Python 3",
   "language": "python",
   "name": "python3"
  },
  "language_info": {
   "codemirror_mode": {
    "name": "ipython",
    "version": 3
   },
   "file_extension": ".py",
   "mimetype": "text/x-python",
   "name": "python",
   "nbconvert_exporter": "python",
   "pygments_lexer": "ipython3",
   "version": "3.10.11"
  }
 },
 "nbformat": 4,
 "nbformat_minor": 2
}

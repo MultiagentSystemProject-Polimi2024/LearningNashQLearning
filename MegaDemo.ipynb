{
 "cells": [
  {
   "cell_type": "markdown",
   "metadata": {},
   "source": [
    "# Nash-Q Learning Educational Software\n",
    "This project aims to create an educational software that could be used by anyone interested in learning about artificial intelligence, specifically in the area of multi-agent systems and the Nash-Q learning algorithm.\n",
    "\n",
    "The goal is to make the process that agents follow when applying the algorithm to explore a new environment more understandable. This includes showing how the agents' knowledge of the environment updates at every step, how they make decisions about what actions to take, and their final internal representation of the environment after training.\n",
    "\n",
    "In this notebook, you can select a number of agents to train (between 1 and 4), and edit the environment where they will be trained, or chose one of the available presets. After that, it will be possible to run a training session for the agents, after setting the parameters for this phase. Following the training, the results will be displayed in a dedicated section."
   ]
  },
  {
   "cell_type": "markdown",
   "metadata": {},
   "source": [
    "## Table of Contents\n",
    "1. Imports\n",
    "2. Environment settings\n",
    "3. Training\n",
    "4. Results"
   ]
  },
  {
   "cell_type": "markdown",
   "metadata": {},
   "source": [
    "## 1. Imports Needed for Using the Notebook\n",
    "- %matplotlib widget is a magic function, used to enable the interactive Matplotlib backend for Jupiter notebooks\n",
    "- Then it's possible to see the imports for the classes that define the environment where the training is held, with his widget and display, the implementation of the NashQ algorithm, and a final display used to show the results\n",
    "- Next there is the imports for the widgets and the display, used to render the interfaces\n",
    "- Lastly, the other two magic functions are used to automatically reload the Python kernel at every run, in order to get the updates from classes that have been eventually modified"
   ]
  },
  {
   "cell_type": "code",
   "execution_count": 18,
   "metadata": {},
   "outputs": [
    {
     "name": "stderr",
     "output_type": "stream",
     "text": [
      "[autoreload of LearningNashQLearning.LearningNashQLearning.Model.NashQLearning failed: Traceback (most recent call last):\n",
      "  File \"/Users/andre/Library/Python/3.9/lib/python/site-packages/IPython/extensions/autoreload.py\", line 276, in check\n",
      "    superreload(m, reload, self.old_objects)\n",
      "  File \"/Users/andre/Library/Python/3.9/lib/python/site-packages/IPython/extensions/autoreload.py\", line 475, in superreload\n",
      "    module = reload(module)\n",
      "  File \"/Library/Developer/CommandLineTools/Library/Frameworks/Python3.framework/Versions/3.9/lib/python3.9/importlib/__init__.py\", line 169, in reload\n",
      "    _bootstrap._exec(spec, module)\n",
      "  File \"<frozen importlib._bootstrap>\", line 613, in _exec\n",
      "  File \"<frozen importlib._bootstrap_external>\", line 850, in exec_module\n",
      "  File \"<frozen importlib._bootstrap>\", line 228, in _call_with_frames_removed\n",
      "  File \"/Users/andre/Documents/GitHub.nosync/LearningNashQLearning_git/LearningNashQLearning/LearningNashQLearning/Model/NashQLearning.py\", line 6, in <module>\n",
      "    from ..View.NashQLearningWidgets import NashQLearningWidgets\n",
      "  File \"/Users/andre/Documents/GitHub.nosync/LearningNashQLearning_git/LearningNashQLearning/LearningNashQLearning/View/NashQLearningWidgets.py\", line 1, in <module>\n",
      "    from ..Model.NashQLearning import NashQLearning\n",
      "ImportError: cannot import name 'NashQLearning' from 'LearningNashQLearning.LearningNashQLearning.Model.NashQLearning' (/Users/andre/Documents/GitHub.nosync/LearningNashQLearning_git/LearningNashQLearning/LearningNashQLearning/Model/NashQLearning.py)\n",
      "]\n"
     ]
    },
    {
     "name": "stdout",
     "output_type": "stream",
     "text": [
      "running sdist\n",
      "running egg_info\n",
      "writing LearningNashQLearning.egg-info/PKG-INFO\n",
      "writing dependency_links to LearningNashQLearning.egg-info/dependency_links.txt\n",
      "writing top-level names to LearningNashQLearning.egg-info/top_level.txt\n",
      "reading manifest file 'LearningNashQLearning.egg-info/SOURCES.txt'\n",
      "writing manifest file 'LearningNashQLearning.egg-info/SOURCES.txt'\n",
      "running check\n",
      "warning: check: missing required meta-data: url\n",
      "\n",
      "warning: check: missing meta-data: either (author and author_email) or (maintainer and maintainer_email) should be supplied\n",
      "\n",
      "creating LearningNashQLearning-0.1\n",
      "creating LearningNashQLearning-0.1/LearningNashQLearning.egg-info\n",
      "copying files to LearningNashQLearning-0.1...\n",
      "copying README.md -> LearningNashQLearning-0.1\n",
      "copying LearningNashQLearning.egg-info/PKG-INFO -> LearningNashQLearning-0.1/LearningNashQLearning.egg-info\n",
      "copying LearningNashQLearning.egg-info/SOURCES.txt -> LearningNashQLearning-0.1/LearningNashQLearning.egg-info\n",
      "copying LearningNashQLearning.egg-info/dependency_links.txt -> LearningNashQLearning-0.1/LearningNashQLearning.egg-info\n",
      "copying LearningNashQLearning.egg-info/top_level.txt -> LearningNashQLearning-0.1/LearningNashQLearning.egg-info\n",
      "Writing LearningNashQLearning-0.1/setup.cfg\n",
      "Creating tar archive\n",
      "removing 'LearningNashQLearning-0.1' (and everything under it)\n",
      "running bdist_wheel\n",
      "running build\n",
      "installing to build/bdist.macosx-10.9-universal2/wheel\n",
      "running install\n",
      "running install_egg_info\n",
      "Copying LearningNashQLearning.egg-info to build/bdist.macosx-10.9-universal2/wheel/LearningNashQLearning-0.1-py3.9.egg-info\n",
      "running install_scripts\n",
      "creating build/bdist.macosx-10.9-universal2/wheel/LearningNashQLearning-0.1.dist-info/WHEEL\n",
      "creating 'dist/LearningNashQLearning-0.1-py3-none-any.whl' and adding 'build/bdist.macosx-10.9-universal2/wheel' to it\n",
      "adding 'LearningNashQLearning-0.1.dist-info/METADATA'\n",
      "adding 'LearningNashQLearning-0.1.dist-info/WHEEL'\n",
      "adding 'LearningNashQLearning-0.1.dist-info/top_level.txt'\n",
      "adding 'LearningNashQLearning-0.1.dist-info/RECORD'\n",
      "removing build/bdist.macosx-10.9-universal2/wheel\n",
      "Defaulting to user installation because normal site-packages is not writeable\n",
      "Processing ./dist/LearningNashQLearning-0.1-py3-none-any.whl\n",
      "Installing collected packages: LearningNashQLearning\n",
      "  Attempting uninstall: LearningNashQLearning\n",
      "    Found existing installation: LearningNashQLearning 0.1\n",
      "    Uninstalling LearningNashQLearning-0.1:\n",
      "      Successfully uninstalled LearningNashQLearning-0.1\n",
      "Successfully installed LearningNashQLearning-0.1\n"
     ]
    }
   ],
   "source": [
    "!python3 ./LearningNashQLearning/setup.py sdist bdist_wheel\n",
    "!pip3 install ./dist/LearningNashQLearning-0.1-py3-none-any.whl --force-reinstall"
   ]
  },
  {
   "cell_type": "code",
   "execution_count": 19,
   "metadata": {},
   "outputs": [
    {
     "name": "stdout",
     "output_type": "stream",
     "text": [
      "The autoreload extension is already loaded. To reload it, use:\n",
      "  %reload_ext autoreload\n"
     ]
    }
   ],
   "source": [
    "%matplotlib widget\n",
    "from LearningNashQLearning.LearningNashQLearning.Model.Environment import Environment\n",
    "from LearningNashQLearning.LearningNashQLearning.Model.NashQLearning import NashQLearning\n",
    "from LearningNashQLearning.LearningNashQLearning.View.PresetGames import PresetGames\n",
    "from LearningNashQLearning.LearningNashQLearning.View.GameEditor import EnvironmentWidget\n",
    "from LearningNashQLearning.LearningNashQLearning.View.EnvGraphDisplay import EnvGraphDisplay\n",
    "from LearningNashQLearning.LearningNashQLearning.View.FinalDisplay import FinalDisplay\n",
    "\n",
    "\n",
    "import ipywidgets as widgets\n",
    "from IPython.display import display\n",
    "\n",
    "\n",
    "# autoreload   \n",
    "%load_ext autoreload\n",
    "%autoreload 2"
   ]
  },
  {
   "cell_type": "markdown",
   "metadata": {},
   "source": [
    "## 2. Setting the Environment\n",
    "The environment where the agents will be trained can be created using the following two interfaces.  \n",
    "If you decide to use one of the presets already created, you just need to select it from the dropdown menu.\n",
    "\n",
    "The available presets will be explained here:\n",
    "0. Empty preset that only selects the minimum number of **players** (2) and 2 **games**\n",
    "1. Defines an environment with 2 **players** and 2 **games**, with deterministic transitions and equal **payoffs** for each **player** on every transition, set in such a way that the agents should be led to **game** 1, where it is best for them to stay because of the **payoffs**. This means that the only *Nash-Q equilibrium* is playing the **action profile** (0, 0) in both the games.\n",
    "2. Defines an environment with 3 **players** and 2 **games**, again with deterministic transitions and equal **payoffs** among the agents, where the goal state is **game** 1 and the *Nash-Q equilibrium* consists of playing the **action profile** (0, 0, 0) in each game.\n",
    "3. Like the two previous presets, it features deterministic transitions and equal **payoffs** for all the players, with the *Nash-Q equilibrium* in the **action profile** (0, 0, 0, 0), but this time with 4 **players**.\n",
    "4. A more structured preset that tries to recreate the famous *\"Prisoner's Dilemma\"*, often use as an example in *Game Theory*. In this situation two **players** interact in an environment made up of 4 **games**;  \n",
    "\n",
    "    **0** - in the starting **game** (**game** 0), the **players** are two criminals that have been captured and are offered a choice, individually, without the possibility of knowing the other prisoner's choice. They can either *(S)* stay silent, or *(T)* testify against the other prisoner. Given the possible choices, the combinations are 4: they both stay silent *(S, S)*, one of them testifies and the other stays silent *(T, S)*, and the other way around *(S, T)*, and lastly they both testify *(T, T)*. The **payoffs** are set in such a way that there is no difference in confessing or not if the other confesses, but remaining silent when the other confesses causes a pretty big negative reward. In this **game** the *Nash-Q equilibrium** is confessing for both **players** *(C, C)*.  \n",
    "    **1** - In **game** 1, both the criminals have testified, and are both imprisoned. In this game the prisoners are given the possibility of playing rock, paper, and scissors to determine which one of the two will be release; this means that they can play 3 actions: rock (R), paper (P), and scissors (S). The one that wins gets a positive reward because he gets released, while the one that loses gets a bigger negative reward because his sentence is increased; in the case of a tie, they both get a small negative reward, because they need to stay in prison with their sentence.  \n",
    "    **2** - In **game** 2 one of the criminal has testified, while the other has remained silent, so the first is free and the second is in prison. The free one has the choice between *(H)* helping the other criminal escape, or *(I)* ignoring him, while the prisoner can choose between *(E)* escaping or *(R)* remaining in prison. If the first tries to help and the other wants to escape *(H, E)* they both get a small positive reward, while if the second decides to remain in prison *(H, R)*, he gets a small negative reward while the other gets a negative reward because he is inprisoned too; if the first decides not to help and the second tries to escape *(I, E)*, the second gets a null reward because he can't actually escape without help, while the first gets a negative reward; if the second remains in prison *(I, R)*, the second gets a null reward while the first gets a small negative reward.  \n",
    "    **3** - **Game** 3 is the same as number 2, but with reversed roles."
   ]
  },
  {
   "cell_type": "code",
   "execution_count": 20,
   "metadata": {},
   "outputs": [
    {
     "data": {
      "application/vnd.jupyter.widget-view+json": {
       "model_id": "198f513317c24cf0a32edd0bbc60cdf4",
       "version_major": 2,
       "version_minor": 0
      },
      "text/plain": [
       "Dropdown(description='Preset:', options=(0, 1, 2, 3, 4), value=0)"
      ]
     },
     "metadata": {},
     "output_type": "display_data"
    }
   ],
   "source": [
    "env = Environment()\n",
    "preset = PresetGames(env)\n",
    "\n",
    "envWidget = EnvironmentWidget(env)\n",
    "\n",
    "\n",
    "display(preset.getWidget())"
   ]
  },
  {
   "cell_type": "markdown",
   "metadata": {},
   "source": [
    "If otherwhise you decide to create, your own environment, you can do it in the following interface.\n",
    "\n",
    "First of all, you need to chose the number of **players** (that is the number of agents), limited to 4 for reasons of complexity of representation, and the number of **games** (states that can be reached by the agents).  \n",
    "\n",
    "When defining the number of states, the user should keep in mind its definition as: ***S*** = *s<sub>1</sub> x s<sub>2</sub> x ... x s<sub>i</sub>*, with *i* = 1, ..., n as the number of agents and *s<sub>i</sub>* as the state space for the *i-th* agent. This means that the state space is defined as the Cartesian product of the individual state spaces for every agent. Therefore, every state represents one of the combinations of positions of the agents, and the transitions between states always involve all the agents together.  \n",
    "\n",
    "After setting the number of **players** and **games**, it is possible to define a global number of possible **actions**, equal for every **players** in every **game**, or different number of **actions** for each **player** in each **game**.  \n",
    "\n",
    "Then, in every **game** defined, for every **action profile** *A* in the set of action profiles ***A*** = *a<sub>1</sub> x a<sub>2</sub> x ... x a<sub>i</sub>*, with *a<sub>i</sub>* set of possible actions for the *i-th* **player**, it is possible to set the **probability** of the transition towards all the **games** in the environment, along with the associated **payoff**.  \n",
    "\n",
    "The graph below the settings interface shows the current state space and the possible transitions between states, with the associated **probability** or **reward**, depending on the option chosen.\n"
   ]
  },
  {
   "cell_type": "code",
   "execution_count": 21,
   "metadata": {},
   "outputs": [
    {
     "data": {
      "application/vnd.jupyter.widget-view+json": {
       "model_id": "c25eee824130497ca07672d186e3fdc4",
       "version_major": 2,
       "version_minor": 0
      },
      "text/plain": [
       "VBox(children=(VBox(children=(IntSlider(value=2, description='# Players:', max=4, min=2), IntSlider(value=2, d…"
      ]
     },
     "metadata": {},
     "output_type": "display_data"
    },
    {
     "data": {
      "application/vnd.jupyter.widget-view+json": {
       "model_id": "6d317c8df5a64d5dbe29a960711503e8",
       "version_major": 2,
       "version_minor": 0
      },
      "image/png": "[encoded data removed]",
      "text/html": [
       "\n",
       "            <div style=\"display: inline-block;\">\n",
       "                <div class=\"jupyter-widgets widget-label\" style=\"text-align: center;\">\n",
       "                    Figure\n",
       "                </div>\n",
       "                <img src='data:image/png;base64,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' width=640.0/>\n",
       "            </div>\n",
       "        "
      ],
      "text/plain": [
       "Canvas(toolbar=Toolbar(toolitems=[('Home', 'Reset original view', 'home', 'home'), ('Back', 'Back to previous …"
      ]
     },
     "metadata": {},
     "output_type": "display_data"
    }
   ],
   "source": [
    "\n",
    "envGraph = EnvGraphDisplay(env, timeBuffer=0.5)\n",
    "vBox = widgets.VBox([envWidget.getWidget(), envGraph.get_widget()])\n",
    "display(vBox)"
   ]
  },
  {
   "cell_type": "markdown",
   "metadata": {},
   "source": [
    "## 3. Training of the agents ##\n",
    "In the following section, it will be possible to set the parameters for the trainig phase.  \n",
    "The paramethers that can be personalized are the following:\n",
    "- *Episodes*: number of training episodes\n",
    "- *Gamma*: **discount factor**, that defines the reduction in the values of the rewards from actrions taken in the future\n",
    "- *Epsilon*: **exploration-exploitation** paramether, defined as the probability with which the algorithm choses a random action (exploration) over the best possible action (exploitation)\n",
    "- *Pure epsilon epidoses*: number of episodes after which *epsilon* starts decreasing, opting more and more for *exploitation* over *exploration*\n",
    "- *Alfa*: **learning rate**, determines the weight of the updates on the values already known, as the speed at which the agent learns\n",
    "- *Pure training episodes*: number of trainings after which *alpha* starts decreasing, reducing the weight of the new updates\n",
    "- *Reset on goal state*: sets the environment in such a way that after reaching the goal state, the agents are brought back to the starting state, in order to learn again from the beginning\n",
    "- *Start state*: defines from which state the agents will start\n",
    "- *Goal state*: defines the goal state\n",
    "\n",
    "After that, the training phase can be run by pressing the *Train* button.\n"
   ]
  },
  {
   "cell_type": "code",
   "execution_count": 22,
   "metadata": {},
   "outputs": [
    {
     "data": {
      "application/vnd.jupyter.widget-view+json": {
       "model_id": "4f859b58444a4e8bb7831e06dffea25e",
       "version_major": 2,
       "version_minor": 0
      },
      "text/plain": [
       "GridBox(children=(IntText(value=1, description='Episodes:'), FloatText(value=0.8, description='Gamma:'), Float…"
      ]
     },
     "metadata": {},
     "output_type": "display_data"
    }
   ],
   "source": [
    "nashQLearning = NashQLearning(env)\n",
    "display(nashQLearning.getDisplayable())"
   ]
  },
  {
   "cell_type": "markdown",
   "metadata": {},
   "source": [
    "## 4. Results ##\n",
    "The last section shows the results from the training.\n",
    "\n",
    "First of all you can define a *window size*, as a percentage of the number of episodes, that will be used to smooth the rewards, in order to make them more readable in the graph. Lower values of *window size* allow you to better see the variations in the rewards, while higher values of this paramether make the graph more smooth, reducing the variations.\n",
    "\n",
    "The reward graph displays the value of the reward received by every player, and the sum of their reward, for every training episode; by using the slider, by typing a value in, or by navigating using the arrows, it is possible to select a specific episode, and see its rewards signaled by the red vertical line. It is also possible to automatically advance in the episodes, by pressing the play button, whith the desired speed, as the number of episodes advanced for each second.\n",
    "\n",
    "When a training episode is selected, all the information relative to that are displayed below:\n",
    "- the state-space graph shows the states, highlighting the current state and the transition that has been taken in the state; depending on your selection in the dropdown menues, it can show the **Q-tables** or the **policy** that are associated to the states in the episode chosen, and relative to the selected agent. On the edge of the graph relative to the current action and transition, it is also possible to see the differences from the previous values in the *Q-Table*.\n",
    "- below that, the interface shows the *current game*, the *current action profile*, meaning the actions taken by every agent in the state, the *current payoff*, as the reward received by every agent when taking the chosen action in the current state, and finally the *Q-Tables*, for each player in each game, relative to the chosen episode. You should note that the *Q-Tables* will be shown only when the number of players is less than 3, because it wouldn't be possible to display a structure with more than 2 dimentions in the interface."
   ]
  },
  {
   "cell_type": "code",
   "execution_count": 23,
   "metadata": {},
   "outputs": [
    {
     "data": {
      "application/vnd.jupyter.widget-view+json": {
       "model_id": "8b7fb8cf9e154bfdaec12db44e355d47",
       "version_major": 2,
       "version_minor": 0
      },
      "text/plain": [
       "VBox(children=(HTML(value='<h1>Training Display</h1>'), HTML(value='<h2>Training History</h2>'), FloatSlider(v…"
      ]
     },
     "metadata": {},
     "output_type": "display_data"
    }
   ],
   "source": [
    "finalDisplay = FinalDisplay(nashQLearning, env)\n",
    "display(finalDisplay.get_widget())"
   ]
  }
 ],
 "metadata": {
  "kernelspec": {
   "display_name": "Python 3",
   "language": "python",
   "name": "python3"
  },
  "language_info": {
   "codemirror_mode": {
    "name": "ipython",
    "version": 3
   },
   "file_extension": ".py",
   "mimetype": "text/x-python",
   "name": "python",
   "nbconvert_exporter": "python",
   "pygments_lexer": "ipython3",
   "version": "3.9.6"
  }
 },
 "nbformat": 4,
 "nbformat_minor": 2
}

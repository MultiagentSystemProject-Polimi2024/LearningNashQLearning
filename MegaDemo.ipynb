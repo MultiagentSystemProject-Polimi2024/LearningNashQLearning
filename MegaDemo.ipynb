{
 "cells": [
  {
   "cell_type": "code",
   "execution_count": 1,
   "metadata": {},
   "outputs": [
    {
     "name": "stdout",
     "output_type": "stream",
     "text": [
      "Current directory: c:\\Polimi\\3rd_Year\\2ndSem\\LearningNashQLearning\n"
     ]
    }
   ],
   "source": [
    "%matplotlib widget\n",
    "from Model.Environment import Environment\n",
    "from Interface.Classes.GameEditor import EnvironmentWidget\n",
    "from Interface.Classes.EnvGraphDisplay import EnvGraphDisplay\n",
    "from Model.NashQLearning import *\n",
    "from Interface.Classes.FinalDisplay import FinalDisplay\n",
    "import ipywidgets as widgets\n",
    "from IPython.display import display"
   ]
  },
  {
   "cell_type": "code",
   "execution_count": 6,
   "metadata": {},
   "outputs": [
    {
     "name": "stdout",
     "output_type": "stream",
     "text": [
      "–––––––––––\n",
      "Game: [2 2] \n",
      " PossibileActions:[2 2] \n",
      " NPlayers: 2 \n",
      " Transition: ['{}', '{}', '{}', '{}'] \n",
      " Payoff: [[[0. 0.]\n",
      "  [0. 0.]]\n",
      "\n",
      " [[0. 0.]\n",
      "  [0. 0.]]]\n",
      "–––––––––––\n",
      "Game: [2 2] \n",
      " PossibileActions:[2 2] \n",
      " NPlayers: 2 \n",
      " Transition: ['{1: 1}', '{}', '{}', '{}'] \n",
      " Payoff: [[[1. 1.]\n",
      "  [0. 0.]]\n",
      "\n",
      " [[0. 0.]\n",
      "  [0. 0.]]]\n",
      "–––––––––––\n",
      "Game: [2 2] \n",
      " PossibileActions:[2 2] \n",
      " NPlayers: 2 \n",
      " Transition: ['{1: 1}', '{}', '{0: 1}', '{}'] \n",
      " Payoff: [[[1. 1.]\n",
      "  [0. 0.]]\n",
      "\n",
      " [[0. 0.]\n",
      "  [0. 0.]]]\n",
      "–––––––––––\n",
      "Game: [2 2] \n",
      " PossibileActions:[2 2] \n",
      " NPlayers: 2 \n",
      " Transition: ['{1: 1}', '{0: 1}', '{0: 1}', '{}'] \n",
      " Payoff: [[[1. 1.]\n",
      "  [0. 0.]]\n",
      "\n",
      " [[0. 0.]\n",
      "  [0. 0.]]]\n",
      "–––––––––––\n",
      "Game: [2 2] \n",
      " PossibileActions:[2 2] \n",
      " NPlayers: 2 \n",
      " Transition: ['{1: 1}', '{0: 1}', '{0: 1}', '{0: 1}'] \n",
      " Payoff: [[[ 1.  1.]\n",
      "  [ 0.  0.]]\n",
      "\n",
      " [[ 0.  0.]\n",
      "  [-1. -1.]]]\n",
      "–––––––––––\n",
      "Game: [2 2] \n",
      " PossibileActions:[2 2] \n",
      " NPlayers: 2 \n",
      " Transition: ['{}', '{}', '{}', '{}'] \n",
      " Payoff: [[[0. 0.]\n",
      "  [0. 0.]]\n",
      "\n",
      " [[0. 0.]\n",
      "  [0. 0.]]]\n",
      "–––––––––––\n",
      "Game: [2 2] \n",
      " PossibileActions:[2 2] \n",
      " NPlayers: 2 \n",
      " Transition: ['{0: 1}', '{}', '{}', '{}'] \n",
      " Payoff: [[[1. 1.]\n",
      "  [0. 0.]]\n",
      "\n",
      " [[0. 0.]\n",
      "  [0. 0.]]]\n",
      "–––––––––––\n",
      "Game: [2 2] \n",
      " PossibileActions:[2 2] \n",
      " NPlayers: 2 \n",
      " Transition: ['{0: 1}', '{}', '{1: 1}', '{}'] \n",
      " Payoff: [[[1. 1.]\n",
      "  [0. 0.]]\n",
      "\n",
      " [[0. 0.]\n",
      "  [0. 0.]]]\n",
      "–––––––––––\n",
      "Game: [2 2] \n",
      " PossibileActions:[2 2] \n",
      " NPlayers: 2 \n",
      " Transition: ['{0: 1}', '{1: 1}', '{1: 1}', '{}'] \n",
      " Payoff: [[[1. 1.]\n",
      "  [0. 0.]]\n",
      "\n",
      " [[0. 0.]\n",
      "  [0. 0.]]]\n",
      "–––––––––––\n",
      "Game: [2 2] \n",
      " PossibileActions:[2 2] \n",
      " NPlayers: 2 \n",
      " Transition: ['{0: 1}', '{1: 1}', '{1: 1}', '{1: 1}'] \n",
      " Payoff: [[[ 1.  1.]\n",
      "  [ 0.  0.]]\n",
      "\n",
      " [[ 0.  0.]\n",
      "  [-1. -1.]]]\n"
     ]
    }
   ],
   "source": [
    "env = Environment()\n",
    "\n",
    "games = env.getGames()\n",
    "\n",
    "games[0].setPossibleActions(np.array([2, 2]))\n",
    "#games[0].setPossibleActions((2, 2))\n",
    "print(\"–––––––––––\")\n",
    "print(games[0])\n",
    "games[0].setTransition((0, 0), 1, 1)\n",
    "games[0].setPayoff((0, 0), np.array([1,1]))\n",
    "print(\"–––––––––––\")\n",
    "print(games[0])\n",
    "games[0].setTransition((1, 0), 0, 1)\n",
    "games[0].setPayoff((1, 0), np.array([0,0]))\n",
    "print(\"–––––––––––\")\n",
    "print(games[0])\n",
    "games[0].setTransition((0, 1), 0, 1)\n",
    "games[0].setPayoff((0, 1), np.array([0,0]))\n",
    "print(\"–––––––––––\")\n",
    "print(games[0])\n",
    "games[0].setTransition((1, 1), 0, 1)\n",
    "games[0].setPayoff((1, 1), np.array([-1,-1]))\n",
    "print(\"–––––––––––\")\n",
    "print(games[0])\n",
    "###############################################\n",
    "\n",
    "games[1].setPossibleActions(np.array([2, 2]))\n",
    "#games[1].setPossibleActions((2, 2))\n",
    "print(\"–––––––––––\")\n",
    "print(games[1])\n",
    "games[1].setTransition((0, 0), 0, 1)\n",
    "games[1].setPayoff((0, 0), np.array([1,1]))\n",
    "print(\"–––––––––––\")\n",
    "print(games[1])\n",
    "\n",
    "games[1].setTransition((1, 0), 1, 1)\n",
    "games[1].setPayoff((1, 0), np.array([0,0]))\n",
    "print(\"–––––––––––\")\n",
    "print(games[1])\n",
    "\n",
    "games[1].setTransition((0, 1), 1, 1)\n",
    "games[1].setPayoff((0, 1), np.array([0,0]))\n",
    "print(\"–––––––––––\")\n",
    "print(games[1])\n",
    "\n",
    "games[1].setTransition((1, 1), 1, 1)\n",
    "games[1].setPayoff((1, 1), np.array([-1,-1]))\n",
    "print(\"–––––––––––\")\n",
    "print(games[1])"
   ]
  },
  {
   "cell_type": "code",
   "execution_count": 7,
   "metadata": {},
   "outputs": [
    {
     "data": {
      "application/vnd.jupyter.widget-view+json": {
       "model_id": "10194666f4f0423c833fe4d2ca616360",
       "version_major": 2,
       "version_minor": 0
      },
      "text/plain": [
       "VBox(children=(Output(), VBox(children=(IntSlider(value=2, description='# Players:', max=4, min=2), IntSlider(…"
      ]
     },
     "metadata": {},
     "output_type": "display_data"
    },
    {
     "data": {
      "application/vnd.jupyter.widget-view+json": {
       "model_id": "05077f28dfcf463aa14f64eea370f3fc",
       "version_major": 2,
       "version_minor": 0
      },
      "image/png": "[encoded data removed]",
      "text/html": [
       "\n",
       "            <div style=\"display: inline-block;\">\n",
       "                <div class=\"jupyter-widgets widget-label\" style=\"text-align: center;\">\n",
       "                    Figure\n",
       "                </div>\n",
       "                <img src='data:image/png;base64,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' width=640.0/>\n",
       "            </div>\n",
       "        "
      ],
      "text/plain": [
       "Canvas(toolbar=Toolbar(toolitems=[('Home', 'Reset original view', 'home', 'home'), ('Back', 'Back to previous …"
      ]
     },
     "metadata": {},
     "output_type": "display_data"
    },
    {
     "name": "stdout",
     "output_type": "stream",
     "text": [
      "DiGraph with 2 nodes and 4 edges\n",
      "Plotting the graph\n",
      "Inside Node Colors {0: 'b', 1: 'b'}\n",
      "Graph plotted\n"
     ]
    }
   ],
   "source": [
    "# env = Environment(2, 2)\n",
    "# env.getGame(0).setTransition(tuple([0, 0]), 0, 1)\n",
    "\n",
    "envWidget = EnvironmentWidget(env)\n",
    "envGraph = EnvGraphDisplay(env)\n",
    "\n",
    "vBox = widgets.VBox([envGraph.get_widget(), envWidget.getWidget()])\n",
    "display(vBox)"
   ]
  },
  {
   "cell_type": "code",
   "execution_count": 8,
   "metadata": {},
   "outputs": [
    {
     "data": {
      "application/vnd.jupyter.widget-view+json": {
       "model_id": "29216b1c0744425ea4bfb76faa536566",
       "version_major": 2,
       "version_minor": 0
      },
      "text/plain": [
       "VBox(children=(VBox(children=(IntText(value=1, description='Episodes:'), FloatText(value=0.1, description='Eps…"
      ]
     },
     "metadata": {},
     "output_type": "display_data"
    }
   ],
   "source": [
    "nashQLearning = NashQLearning(env)\n",
    "display(nashQLearning.getWidget())"
   ]
  },
  {
   "cell_type": "code",
   "execution_count": 4,
   "metadata": {},
   "outputs": [
    {
     "ename": "AttributeError",
     "evalue": "'NashQLearning' object has no attribute 'history'",
     "output_type": "error",
     "traceback": [
      "\u001b[1;31m---------------------------------------------------------------------------\u001b[0m",
      "\u001b[1;31mAttributeError\u001b[0m                            Traceback (most recent call last)",
      "Cell \u001b[1;32mIn[4], line 1\u001b[0m\n\u001b[1;32m----> 1\u001b[0m \u001b[38;5;28mprint\u001b[39m(\u001b[43mnashQLearning\u001b[49m\u001b[38;5;241;43m.\u001b[39;49m\u001b[43mhistory\u001b[49m)\n",
      "\u001b[1;31mAttributeError\u001b[0m: 'NashQLearning' object has no attribute 'history'"
     ]
    }
   ],
   "source": [
    "print(nashQLearning.history)"
   ]
  },
  {
   "cell_type": "code",
   "execution_count": 9,
   "metadata": {},
   "outputs": [
    {
     "name": "stdout",
     "output_type": "stream",
     "text": [
      "{0: 'r', 1: 'b'}\n",
      "SHAPE: (2, 901)\n"
     ]
    },
    {
     "data": {
      "application/vnd.jupyter.widget-view+json": {
       "model_id": "e9f518ec46b341ff99c20aa50684569e",
       "version_major": 2,
       "version_minor": 0
      },
      "text/plain": [
       "VBox(children=(Output(), IntSlider(value=0, continuous_update=False, description='Game num:', max=999), Output…"
      ]
     },
     "metadata": {},
     "output_type": "display_data"
    }
   ],
   "source": [
    "finalDisplay = FinalDisplay(nashQLearning.history, env)\n",
    "finalDisplay.update(nashQLearning.history, np.array(nashQLearning.NashQRewards)[0], envGraph)\n",
    "display(finalDisplay.get_widget())"
   ]
  }
 ],
 "metadata": {
  "kernelspec": {
   "display_name": "Python 3",
   "language": "python",
   "name": "python3"
  },
  "language_info": {
   "codemirror_mode": {
    "name": "ipython",
    "version": 3
   },
   "file_extension": ".py",
   "mimetype": "text/x-python",
   "name": "python",
   "nbconvert_exporter": "python",
   "pygments_lexer": "ipython3",
   "version": "3.10.11"
  }
 },
 "nbformat": 4,
 "nbformat_minor": 2
}
